{
 "cells": [
  {
   "cell_type": "markdown",
   "id": "3Xg_RQfnafXz",
   "metadata": {
    "id": "3Xg_RQfnafXz"
   },
   "source": [
    "# ¡Llena ese carrito!"
   ]
  },
  {
   "cell_type": "markdown",
   "id": "mhIvmmkW414q",
   "metadata": {
    "id": "mhIvmmkW414q"
   },
   "source": [
    "# Introducción\n",
    "\n",
    "Instacart es una plataforma de entregas de comestibles donde la clientela puede registrar un pedido y hacer que se lo entreguen, similar a Uber Eats y Door Dash.\n",
    "El conjunto de datos que te hemos proporcionado tiene modificaciones del original. Redujimos el tamaño del conjunto para que tus cálculos se hicieran más rápido e introdujimos valores ausentes y duplicados. Tuvimos cuidado de conservar las distribuciones de los datos originales cuando hicimos los cambios.\n",
    "\n",
    "Debes completar tres pasos. Para cada uno de ellos, escribe una breve introducción que refleje con claridad cómo pretendes resolver cada paso, y escribe párrafos explicatorios que justifiquen tus decisiones al tiempo que avanzas en tu solución.  También escribe una conclusión que resuma tus hallazgos y elecciones.\n"
   ]
  },
  {
   "cell_type": "markdown",
   "id": "3MbyzpOQZ5Or",
   "metadata": {
    "id": "3MbyzpOQZ5Or"
   },
   "source": [
    "## Diccionario de datos\n",
    "\n",
    "Hay cinco tablas en el conjunto de datos, y tendrás que usarlas todas para hacer el preprocesamiento de datos y el análisis exploratorio de datos. A continuación se muestra un diccionario de datos que enumera las columnas de cada tabla y describe los datos que contienen.\n",
    "\n",
    "- `instacart_orders.csv`: cada fila corresponde a un pedido en la aplicación Instacart.\n",
    "    - `'order_id'`: número de ID que identifica de manera única cada pedido.\n",
    "    - `'user_id'`: número de ID que identifica de manera única la cuenta de cada cliente.\n",
    "    - `'order_number'`: el número de veces que este cliente ha hecho un pedido.\n",
    "    - `'order_dow'`: día de la semana en que se hizo el pedido (0 si es domingo).\n",
    "    - `'order_hour_of_day'`: hora del día en que se hizo el pedido.\n",
    "    - `'days_since_prior_order'`: número de días transcurridos desde que este cliente hizo su pedido anterior.\n",
    "- `products.csv`: cada fila corresponde a un producto único que pueden comprar los clientes.\n",
    "    - `'product_id'`: número ID que identifica de manera única cada producto.\n",
    "    - `'product_name'`: nombre del producto.\n",
    "    - `'aisle_id'`: número ID que identifica de manera única cada categoría de pasillo de víveres.\n",
    "    - `'department_id'`: número ID que identifica de manera única cada departamento de víveres.\n",
    "- `order_products.csv`: cada fila corresponde a un artículo pedido en un pedido.\n",
    "    - `'order_id'`: número de ID que identifica de manera única cada pedido.\n",
    "    - `'product_id'`: número ID que identifica de manera única cada producto.\n",
    "    - `'add_to_cart_order'`: el orden secuencial en el que se añadió cada artículo en el carrito.\n",
    "    - `'reordered'`: 0 si el cliente nunca ha pedido este producto antes, 1 si lo ha pedido.\n",
    "- `aisles.csv`\n",
    "    - `'aisle_id'`: número ID que identifica de manera única cada categoría de pasillo de víveres.\n",
    "    - `'aisle'`: nombre del pasillo.\n",
    "- `departments.csv`\n",
    "    - `'department_id'`: número ID que identifica de manera única cada departamento de víveres.\n",
    "    - `'department'`: nombre del departamento."
   ]
  },
  {
   "cell_type": "markdown",
   "id": "n3Ha_cNSZ8lK",
   "metadata": {
    "id": "n3Ha_cNSZ8lK"
   },
   "source": [
    "# Paso 1. Descripción de los datos\n",
    "\n",
    "Lee los archivos de datos (`/datasets/instacart_orders.csv`, `/datasets/products.csv`, `/datasets/aisles.csv`, `/datasets/departments.csv` y `/datasets/order_products.csv`) con `pd.read_csv()` usando los parámetros adecuados para leer los datos correctamente. Verifica la información para cada DataFrame creado.\n"
   ]
  },
  {
   "cell_type": "markdown",
   "id": "OmlQPLlyaAfR",
   "metadata": {
    "id": "OmlQPLlyaAfR"
   },
   "source": [
    "## Plan de solución\n",
    "\n",
    "Escribe aquí tu plan de solución para el Paso 1. Descripción de los datos.\n",
    "\n",
    "\n",
    "Importar pandas y creación de datas con la ayuda de read_csv para lograr tener acceso a los datas.\n",
    "Posteriormente uso de info() en cada df para conocer de forma de rapida el tipo de datos que contiene cada tabla y entender por donde empezar a trabajar."
   ]
  },
  {
   "cell_type": "code",
   "execution_count": 1,
   "id": "fbf1adab",
   "metadata": {
    "id": "fbf1adab"
   },
   "outputs": [],
   "source": [
    "import pandas as pd\n",
    "import numpy as np\n",
    "import matplotlib.pyplot as plt\n",
    "# importar librerías"
   ]
  },
  {
   "cell_type": "code",
   "execution_count": 2,
   "id": "ad36396d",
   "metadata": {
    "id": "ad36396d"
   },
   "outputs": [],
   "source": [
    "df_insta_ord=pd.read_csv(\"/datasets/instacart_orders.csv\", sep=\";\")\n",
    "df_products=pd.read_csv(\"/datasets/products.csv\", sep=\";\")\n",
    "df_pasillos= pd.read_csv (\"/datasets/aisles.csv\", sep=\";\")\n",
    "df_depart= pd.read_csv (\"/datasets/departments.csv\", sep=\";\")\n",
    "df_ord_prod= pd.read_csv(\"/datasets/order_products.csv\", sep=\";\")\n",
    "\n",
    "#leer conjuntos de datos en los DataFrames\n",
    "#creacion de 5 df diferentes; 1 para cada df proporcionada, con nombres faciles de identificar para poder trabajar y leer los data.\n",
    "#añade sep= para una mejor lectura de los datas."
   ]
  },
  {
   "cell_type": "code",
   "execution_count": 3,
   "id": "ad6a1efa",
   "metadata": {
    "id": "ad6a1efa"
   },
   "outputs": [
    {
     "name": "stdout",
     "output_type": "stream",
     "text": [
      "<class 'pandas.core.frame.DataFrame'>\n",
      "RangeIndex: 478967 entries, 0 to 478966\n",
      "Data columns (total 6 columns):\n",
      " #   Column                  Non-Null Count   Dtype  \n",
      "---  ------                  --------------   -----  \n",
      " 0   order_id                478967 non-null  int64  \n",
      " 1   user_id                 478967 non-null  int64  \n",
      " 2   order_number            478967 non-null  int64  \n",
      " 3   order_dow               478967 non-null  int64  \n",
      " 4   order_hour_of_day       478967 non-null  int64  \n",
      " 5   days_since_prior_order  450148 non-null  float64\n",
      "dtypes: float64(1), int64(5)\n",
      "memory usage: 21.9 MB\n"
     ]
    }
   ],
   "source": [
    "df_insta_ord.info()\n",
    "# mostrar información del DataFrame"
   ]
  },
  {
   "cell_type": "code",
   "execution_count": 4,
   "id": "5130e05e",
   "metadata": {
    "id": "5130e05e"
   },
   "outputs": [
    {
     "name": "stdout",
     "output_type": "stream",
     "text": [
      "<class 'pandas.core.frame.DataFrame'>\n",
      "RangeIndex: 49694 entries, 0 to 49693\n",
      "Data columns (total 4 columns):\n",
      " #   Column         Non-Null Count  Dtype \n",
      "---  ------         --------------  ----- \n",
      " 0   product_id     49694 non-null  int64 \n",
      " 1   product_name   48436 non-null  object\n",
      " 2   aisle_id       49694 non-null  int64 \n",
      " 3   department_id  49694 non-null  int64 \n",
      "dtypes: int64(3), object(1)\n",
      "memory usage: 1.5+ MB\n"
     ]
    }
   ],
   "source": [
    "df_products.info()# mostrar información del DataFrame"
   ]
  },
  {
   "cell_type": "code",
   "execution_count": 5,
   "id": "d8370c05",
   "metadata": {
    "id": "d8370c05"
   },
   "outputs": [
    {
     "name": "stdout",
     "output_type": "stream",
     "text": [
      "<class 'pandas.core.frame.DataFrame'>\n",
      "RangeIndex: 134 entries, 0 to 133\n",
      "Data columns (total 2 columns):\n",
      " #   Column    Non-Null Count  Dtype \n",
      "---  ------    --------------  ----- \n",
      " 0   aisle_id  134 non-null    int64 \n",
      " 1   aisle     134 non-null    object\n",
      "dtypes: int64(1), object(1)\n",
      "memory usage: 2.2+ KB\n"
     ]
    }
   ],
   "source": [
    "df_pasillos.info()# mostrar información del DataFrame"
   ]
  },
  {
   "cell_type": "code",
   "execution_count": 6,
   "id": "59e2090f",
   "metadata": {
    "id": "59e2090f"
   },
   "outputs": [
    {
     "name": "stdout",
     "output_type": "stream",
     "text": [
      "<class 'pandas.core.frame.DataFrame'>\n",
      "RangeIndex: 21 entries, 0 to 20\n",
      "Data columns (total 2 columns):\n",
      " #   Column         Non-Null Count  Dtype \n",
      "---  ------         --------------  ----- \n",
      " 0   department_id  21 non-null     int64 \n",
      " 1   department     21 non-null     object\n",
      "dtypes: int64(1), object(1)\n",
      "memory usage: 464.0+ bytes\n"
     ]
    }
   ],
   "source": [
    "df_depart.info()# mostrar información del DataFrame"
   ]
  },
  {
   "cell_type": "code",
   "execution_count": 7,
   "id": "6fc81694",
   "metadata": {
    "id": "6fc81694"
   },
   "outputs": [
    {
     "name": "stdout",
     "output_type": "stream",
     "text": [
      "<class 'pandas.core.frame.DataFrame'>\n",
      "RangeIndex: 4545007 entries, 0 to 4545006\n",
      "Data columns (total 4 columns):\n",
      " #   Column             Dtype  \n",
      "---  ------             -----  \n",
      " 0   order_id           int64  \n",
      " 1   product_id         int64  \n",
      " 2   add_to_cart_order  float64\n",
      " 3   reordered          int64  \n",
      "dtypes: float64(1), int64(3)\n",
      "memory usage: 138.7 MB\n"
     ]
    }
   ],
   "source": [
    "df_ord_prod.info()\n",
    "# mostrar información del DataFrame\n"
   ]
  },
  {
   "cell_type": "markdown",
   "id": "t75BD19oaR5f",
   "metadata": {
    "id": "t75BD19oaR5f"
   },
   "source": [
    "## Conclusiones\n",
    "\n",
    "\n",
    "Al mostrar por primera vez los df me percato que vienen separados por \";\" lo que no logra reconocer pandas, antes de procesarlos, añadi sep= para indicar el valor correcto en cada df y lograr observar de mejor forma el df.\n",
    "Al logar visualizar de mejor manera el data, logro apreciar algunas columnas de algunos datas con valores ausentes, debo evaluar su importancia en el data para saber si los elimino o sustitutyo conforme siga trabajando posteriormente.\n",
    "Corroborar si los int o float me ayudan con cada dato y no hay valores datetime pero si columnas que coresponden a estos valores."
   ]
  },
  {
   "cell_type": "markdown",
   "id": "8RJHqxVmaVsF",
   "metadata": {
    "id": "8RJHqxVmaVsF"
   },
   "source": [
    "# Paso 2. Preprocesamiento de los datos\n",
    "\n",
    "Preprocesa los datos de la siguiente manera:\n",
    "\n",
    "- Verifica y corrige los tipos de datos (por ejemplo, asegúrate de que las columnas de ID sean números enteros).\n",
    "- Identifica y completa los valores ausentes.\n",
    "- Identifica y elimina los valores duplicados.\n",
    "\n",
    "Asegúrate de explicar qué tipos de valores ausentes y duplicados encontraste, cómo los completaste o eliminaste y por qué usaste esos métodos. ¿Por qué crees que estos valores ausentes y duplicados pueden haber estado presentes en el conjunto de datos?"
   ]
  },
  {
   "cell_type": "markdown",
   "id": "p6poABZQaZYb",
   "metadata": {
    "id": "p6poABZQaZYb"
   },
   "source": [
    "## Plan de solución\n",
    "\n",
    "Se va a busar duplicados y valores ausentes para cada data con el uso de duplicated e isna, eliminando las filas dulicadas, haciendo cambios a columnas de ser neecsario o rellenando con los valore correctos para tener datas listos para su analisis."
   ]
  },
  {
   "cell_type": "markdown",
   "id": "07357848-dc64-4156-9cc3-01ff4365226d",
   "metadata": {
    "id": "07357848-dc64-4156-9cc3-01ff4365226d"
   },
   "source": [
    "## Encuentra y elimina los valores duplicados (y describe cómo tomaste tus decisiones)."
   ]
  },
  {
   "cell_type": "markdown",
   "id": "f179f0a9",
   "metadata": {
    "id": "f179f0a9"
   },
   "source": [
    "### `instacart_orders` data frame"
   ]
  },
  {
   "cell_type": "code",
   "execution_count": 1,
   "id": "b99297a5-405a-463d-8535-9adc3da4ad74",
   "metadata": {
    "id": "b99297a5-405a-463d-8535-9adc3da4ad74"
   },
   "outputs": [
    {
     "ename": "NameError",
     "evalue": "name 'df_insta_ord' is not defined",
     "output_type": "error",
     "traceback": [
      "\u001b[1;31m---------------------------------------------------------------------------\u001b[0m",
      "\u001b[1;31mNameError\u001b[0m                                 Traceback (most recent call last)",
      "Cell \u001b[1;32mIn[1], line 2\u001b[0m\n\u001b[0;32m      1\u001b[0m \u001b[38;5;66;03m# Revisa si hay pedidos duplicados\u001b[39;00m\n\u001b[1;32m----> 2\u001b[0m \u001b[38;5;28mprint\u001b[39m(df_insta_ord\u001b[38;5;241m.\u001b[39mduplicated()\u001b[38;5;241m.\u001b[39msum())\n",
      "\u001b[1;31mNameError\u001b[0m: name 'df_insta_ord' is not defined"
     ]
    }
   ],
   "source": [
    "# Revisa si hay pedidos duplicados\n",
    "print(df_insta_ord.duplicated().sum())"
   ]
  },
  {
   "cell_type": "markdown",
   "id": "PEkwUX_gvt5A",
   "metadata": {
    "id": "PEkwUX_gvt5A"
   },
   "source": [
    "¿Tienes líneas duplicadas? Si sí, ¿qué tienen en común?\n",
    "Toda la línea de pedido esta duplicado"
   ]
  },
  {
   "cell_type": "code",
   "execution_count": null,
   "id": "0d44de5d",
   "metadata": {
    "id": "0d44de5d"
   },
   "outputs": [
    {
     "name": "stdout",
     "output_type": "stream",
     "text": [
      "        order_id  user_id  order_number  order_dow  order_hour_of_day  \\\n",
      "4838     2766110   162084            41          3                  2   \n",
      "5156     2190225   138285            18          3                  2   \n",
      "15506     553049    58599            13          3                  2   \n",
      "18420     382357   120200            19          3                  2   \n",
      "24691     690242    77357             2          3                  2   \n",
      "...          ...      ...           ...        ...                ...   \n",
      "457013   3384021    14881             6          3                  2   \n",
      "458816    910166   164782            18          3                  2   \n",
      "459635   1680532   106435             6          3                  2   \n",
      "468324    222962    54979            59          3                  2   \n",
      "477526   2592344    46860            38          3                  2   \n",
      "\n",
      "        days_since_prior_order  \n",
      "4838                      16.0  \n",
      "5156                      11.0  \n",
      "15506                      7.0  \n",
      "18420                     11.0  \n",
      "24691                      9.0  \n",
      "...                        ...  \n",
      "457013                    30.0  \n",
      "458816                     4.0  \n",
      "459635                    21.0  \n",
      "468324                     3.0  \n",
      "477526                     3.0  \n",
      "\n",
      "[121 rows x 6 columns]\n"
     ]
    }
   ],
   "source": [
    "# Basándote en tus hallazgos,\n",
    "# Verifica todos los pedidos que se hicieron el miércoles a las 2:00 a.m.\n",
    "print(df_insta_ord.query(\"order_dow == 3 and order_hour_of_day == 2 \"))\n",
    "\n",
    "#uso de query para filtrar,  porque los días estan en Números, iniciando con Domingo =0 y 2 hora  ya que el data esta en 24 horas"
   ]
  },
  {
   "cell_type": "markdown",
   "id": "vu2OWyoqwOx5",
   "metadata": {
    "id": "vu2OWyoqwOx5"
   },
   "source": [
    "¿Qué sugiere este resultado?\n",
    "\n",
    "Es una minima cantidad de pedidos para el registro total.\n",
    "Eisten usuarios nuevos que por primera vez hacen un pedido a media semana y en la madrugada auqnue muchos otros subsecuentes eligen esta hora para sus compras."
   ]
  },
  {
   "cell_type": "code",
   "execution_count": null,
   "id": "480563c7",
   "metadata": {
    "id": "480563c7"
   },
   "outputs": [],
   "source": [
    "# Elimina los pedidos duplicados\n",
    "df_insta_ord=df_insta_ord.drop_duplicates()\n",
    "#pide que se realicen los cambios en el df"
   ]
  },
  {
   "cell_type": "code",
   "execution_count": null,
   "id": "0b2396a2",
   "metadata": {
    "id": "0b2396a2"
   },
   "outputs": [
    {
     "name": "stdout",
     "output_type": "stream",
     "text": [
      "0\n"
     ]
    }
   ],
   "source": [
    "# Vuelve a verificar si hay filas duplicadas\n",
    "print(df_insta_ord.duplicated().sum())\n",
    "#eliminan datos duplicados con drop duplicated"
   ]
  },
  {
   "cell_type": "code",
   "execution_count": null,
   "id": "f6113ef1",
   "metadata": {
    "id": "f6113ef1"
   },
   "outputs": [
    {
     "name": "stdout",
     "output_type": "stream",
     "text": [
      "0\n"
     ]
    }
   ],
   "source": [
    "# Vuelve a verificar si hay IDs duplicados de pedidos\n",
    "print(df_insta_ord[\"order_id\"].duplicated().sum())\n",
    "#verifica con la misma funcion si existe algun duplicado en una columna diferente"
   ]
  },
  {
   "cell_type": "markdown",
   "id": "5e8905ae",
   "metadata": {
    "id": "5e8905ae"
   },
   "source": [
    "Existia una cantidad minima de filas que por error se habian duplicado, se eliminaron y se filtro el data para tener una data con la información correcta para analizar, sin temor a sesgar la informacion por pedidos que nunca se realizaron (duplicados)\n",
    "Ahora dejamos el data listo y correcto para su trabajo con este."
   ]
  },
  {
   "cell_type": "markdown",
   "id": "45e6bc46",
   "metadata": {
    "id": "45e6bc46"
   },
   "source": [
    "### `products` data frame"
   ]
  },
  {
   "cell_type": "code",
   "execution_count": null,
   "id": "5f526b5b-8175-46fa-a0fd-441767d50e64",
   "metadata": {
    "id": "5f526b5b-8175-46fa-a0fd-441767d50e64"
   },
   "outputs": [
    {
     "name": "stdout",
     "output_type": "stream",
     "text": [
      "0\n"
     ]
    }
   ],
   "source": [
    "# Verifica si hay filas totalmente duplicadas\n",
    "print(df_products.duplicated().sum())\n",
    "#uso de duplicated y suma en todo el data para corroborar no existan fila duplicadas"
   ]
  },
  {
   "cell_type": "code",
   "execution_count": null,
   "id": "88daa4f4",
   "metadata": {
    "id": "88daa4f4"
   },
   "outputs": [
    {
     "name": "stdout",
     "output_type": "stream",
     "text": [
      "0\n"
     ]
    }
   ],
   "source": [
    "# Verifica si hay IDs duplicadas de productos\n",
    "print(df_products[\"product_id\"].duplicated().sum())\n",
    "#uso de duplicated y suma en la columna especifica product id para corroborar no existan datos duplicados dentro de esa columna"
   ]
  },
  {
   "cell_type": "code",
   "execution_count": null,
   "id": "c773f0bf",
   "metadata": {
    "id": "c773f0bf"
   },
   "outputs": [
    {
     "name": "stdout",
     "output_type": "stream",
     "text": [
      "1361\n"
     ]
    }
   ],
   "source": [
    "# Revisa si hay nombres duplicados de productos (convierte los nombres a letras mayúsculas para compararlos mejor)\n",
    "print(df_products[\"product_name\"].str.upper().duplicated().sum())\n",
    "\n",
    "#uso de duplicated y suma en la columna de nombres para corroborar no existan datos duplicados\n",
    "#se deja asignado en la columna todo en minusculas para facilitar los cambios ya encontrados"
   ]
  },
  {
   "cell_type": "code",
   "execution_count": null,
   "id": "01efd02e",
   "metadata": {
    "id": "01efd02e"
   },
   "outputs": [
    {
     "name": "stdout",
     "output_type": "stream",
     "text": [
      "0\n"
     ]
    }
   ],
   "source": [
    "# Revisa si hay nombres duplicados de productos no faltantes\n",
    "print(df_products[~df_products[\"product_name\"].isna()].duplicated().sum())\n",
    "#uso de tilde para filtar los no faltantes"
   ]
  },
  {
   "cell_type": "markdown",
   "id": "9da8d293",
   "metadata": {
    "id": "9da8d293"
   },
   "source": [
    "Se analizo su la tabla de los prodcutos tenia duplicados hayando varios en el nombre, esto puede ser por una mala escritura, es necesario checar a detalle que datos son los que etan duplicados e ir corriegiendo para tener una lista correcta.\n",
    "Para los nombres fue necesario formato a los productos."
   ]
  },
  {
   "cell_type": "markdown",
   "id": "60f30db1",
   "metadata": {
    "id": "60f30db1"
   },
   "source": [
    "### `departments` data frame"
   ]
  },
  {
   "cell_type": "code",
   "execution_count": null,
   "id": "fb410ad4-0fbf-4b80-bb09-23fdea79afe3",
   "metadata": {
    "id": "fb410ad4-0fbf-4b80-bb09-23fdea79afe3"
   },
   "outputs": [
    {
     "name": "stdout",
     "output_type": "stream",
     "text": [
      "0\n"
     ]
    }
   ],
   "source": [
    "# Revisa si hay filas totalmente duplicadas\n",
    "print(df_depart.duplicated().sum())\n",
    "#uso de duplicated y suma en todo el data para corroborar no existan filas duplicadas"
   ]
  },
  {
   "cell_type": "code",
   "execution_count": null,
   "id": "332b12bb",
   "metadata": {
    "id": "332b12bb"
   },
   "outputs": [
    {
     "name": "stdout",
     "output_type": "stream",
     "text": [
      "0\n"
     ]
    }
   ],
   "source": [
    "# Revisa si hay IDs duplicadas de productos\n",
    "print(df_depart[\"department_id\"].duplicated().sum())\n",
    "#uso de duplicated y suma en la columna especifica id para corroborar no existan datos duplicados"
   ]
  },
  {
   "cell_type": "markdown",
   "id": "bd30d78e",
   "metadata": {
    "id": "bd30d78e"
   },
   "source": [
    "\n",
    "Este df No contiene datos duplicados con el id de los departamnetos, al ser un data muy pequeño las posibilidades de errores disminuyen, de todos modos es bueno corroborar para evitar datos incorrectos a la hora de analizar."
   ]
  },
  {
   "cell_type": "markdown",
   "id": "889349c1",
   "metadata": {
    "id": "889349c1"
   },
   "source": [
    "### `aisles` data frame"
   ]
  },
  {
   "cell_type": "code",
   "execution_count": null,
   "id": "9da89fb9-4679-40f5-ad0d-c34df753a3f8",
   "metadata": {
    "id": "9da89fb9-4679-40f5-ad0d-c34df753a3f8"
   },
   "outputs": [
    {
     "name": "stdout",
     "output_type": "stream",
     "text": [
      "0\n"
     ]
    }
   ],
   "source": [
    "# Revisa si hay filas totalmente duplicadas\n",
    "print(df_pasillos.duplicated().sum())\n",
    "#uso de duplicated y suma todo el df para corroborar no existan datos duplicados"
   ]
  },
  {
   "cell_type": "code",
   "execution_count": null,
   "id": "da7c2822",
   "metadata": {
    "id": "da7c2822"
   },
   "outputs": [
    {
     "name": "stdout",
     "output_type": "stream",
     "text": [
      "0\n"
     ]
    }
   ],
   "source": [
    "# Revisa si hay IDs duplicadas de productos\n",
    "print(df_pasillos[\"aisle_id\"].duplicated().sum())\n",
    "#uso de duplicated y suma en la columna especifica id para corroborar no existan datos duplicados"
   ]
  },
  {
   "cell_type": "markdown",
   "id": "ac63826f",
   "metadata": {
    "id": "ac63826f"
   },
   "source": [
    "Nuevamente nos encontranos sin datos sulicados tanto en sus filas como en sus id, lo que nos da la seguridad que todos sus datos ingresados y filas mostradas estan correctas hasta el  momento de la exploracion del df"
   ]
  },
  {
   "cell_type": "markdown",
   "id": "274cd06a",
   "metadata": {
    "id": "274cd06a"
   },
   "source": [
    "### `order_products` data frame"
   ]
  },
  {
   "cell_type": "code",
   "execution_count": null,
   "id": "52326689-84a8-4b8f-a881-7c68780f62c9",
   "metadata": {
    "id": "52326689-84a8-4b8f-a881-7c68780f62c9"
   },
   "outputs": [
    {
     "name": "stdout",
     "output_type": "stream",
     "text": [
      "0\n"
     ]
    }
   ],
   "source": [
    "# Revisa si hay filas totalmente duplicadas\n",
    "print(df_ord_prod.duplicated().sum())\n",
    "#uso de duplicated y suma en todo el df para corroborar no existan datos duplicados"
   ]
  },
  {
   "cell_type": "code",
   "execution_count": null,
   "id": "7b861391",
   "metadata": {
    "id": "7b861391"
   },
   "outputs": [
    {
     "name": "stdout",
     "output_type": "stream",
     "text": [
      "4094961\n"
     ]
    }
   ],
   "source": [
    "# Vuelve a verificar si hay cualquier otro duplicado engañoso\n",
    "print(df_ord_prod[\"order_id\"].duplicated().sum())"
   ]
  },
  {
   "cell_type": "markdown",
   "id": "0b890492",
   "metadata": {
    "id": "0b890492"
   },
   "source": [
    "Si pides buscar duplicados de filas no salen, pero si buscas unicamente la columna de order id salen demasiado, quiero pensar que es porue cada entrada es de una orden, pero cada entrada corresponde a cada producto seleccionado, opr eso no se duplica ninguna fila pero si la orden, ya que en la misma orden, se piden varios pproductos y cada netrada corresponde a un producto opr pedido."
   ]
  },
  {
   "cell_type": "markdown",
   "id": "1e46de76",
   "metadata": {
    "id": "1e46de76"
   },
   "source": [
    "## Encuentra y elimina los valores ausentes\n",
    "\n",
    "Al trabajar con valores duplicados, pudimos observar que también nos falta investigar valores ausentes:\n",
    "\n",
    "* La columna `'product_name'` de la tabla products.\n",
    "* La columna `'days_since_prior_order'` de la tabla orders.\n",
    "* La columna `'add_to_cart_order'` de la tabla order_productos."
   ]
  },
  {
   "cell_type": "markdown",
   "id": "c0aebd78",
   "metadata": {
    "id": "c0aebd78"
   },
   "source": [
    "### `products` data frame"
   ]
  },
  {
   "cell_type": "code",
   "execution_count": null,
   "id": "fe4a8b0f",
   "metadata": {
    "id": "fe4a8b0f"
   },
   "outputs": [
    {
     "name": "stdout",
     "output_type": "stream",
     "text": [
      "1258\n"
     ]
    }
   ],
   "source": [
    "# Encuentra los valores ausentes en la columna 'product_name'\n",
    "print(df_products[\"product_name\"].isna().sum())\n",
    "#uso del metodo isna para sacar los valores ausentes en la columna de nombres del producto.\n"
   ]
  },
  {
   "cell_type": "markdown",
   "id": "-A6x1AbJhjkp",
   "metadata": {
    "id": "-A6x1AbJhjkp"
   },
   "source": [
    "\n",
    "De toda la lista que nos dan exiten muchos sin registro de nombre, lo que podría dificultar el analisis al ser una parte basica del negocio (es la lista de los productos que se vende), si esta info falta tenemos la base a analizar incompleta. Se debe corregir."
   ]
  },
  {
   "cell_type": "code",
   "execution_count": null,
   "id": "e96167bc",
   "metadata": {
    "id": "e96167bc"
   },
   "outputs": [
    {
     "name": "stdout",
     "output_type": "stream",
     "text": [
      "       product_id  product_name  aisle_id  department_id\n",
      "37             38         False       100             21\n",
      "71             72         False       100             21\n",
      "109           110         False       100             21\n",
      "296           297         False       100             21\n",
      "416           417         False       100             21\n",
      "...           ...           ...       ...            ...\n",
      "49552       49553         False       100             21\n",
      "49574       49575         False       100             21\n",
      "49640       49641         False       100             21\n",
      "49663       49664         False       100             21\n",
      "49668       49669         False       100             21\n",
      "\n",
      "[1258 rows x 4 columns]\n"
     ]
    }
   ],
   "source": [
    "#  ¿Todos los nombres de productos ausentes están relacionados con el pasillo con ID 100?\n",
    "print(df_products[df_products[\"product_name\"].isna()] & (df_products[df_products[\"aisle_id\"] == 100]))\n"
   ]
  },
  {
   "cell_type": "markdown",
   "id": "WRpIfXRphpSL",
   "metadata": {
    "id": "WRpIfXRphpSL"
   },
   "source": [
    "Los valores ausente tienen varias cosas en común, sus valores estan ausentes en el nombre, corresponden al departamento 21 y en el pasillo 100, se debe investigar que contienen eos pasillos o si son productos descontinuados para entender porque la tendencia."
   ]
  },
  {
   "cell_type": "code",
   "execution_count": null,
   "id": "8fd0a541",
   "metadata": {
    "id": "8fd0a541"
   },
   "outputs": [
    {
     "name": "stdout",
     "output_type": "stream",
     "text": [
      "       product_id  product_name  aisle_id  department_id\n",
      "37             38         False       100             21\n",
      "71             72         False       100             21\n",
      "109           110         False       100             21\n",
      "296           297         False       100             21\n",
      "416           417         False       100             21\n",
      "...           ...           ...       ...            ...\n",
      "49552       49553         False       100             21\n",
      "49574       49575         False       100             21\n",
      "49640       49641         False       100             21\n",
      "49663       49664         False       100             21\n",
      "49668       49669         False       100             21\n",
      "\n",
      "[1258 rows x 4 columns]\n"
     ]
    }
   ],
   "source": [
    "# ¿Todos los nombres de productos ausentes están relacionados con el departamento con ID 21?\n",
    "print(df_products[df_products[\"product_name\"].isna()] & (df_products[df_products[\"department_id\"] == 21]))"
   ]
  },
  {
   "cell_type": "markdown",
   "id": "qDpdYn1Fht_I",
   "metadata": {
    "id": "qDpdYn1Fht_I"
   },
   "source": [
    "\n",
    "Si tanto el departamento 21 y el pasillo 100 tienen relación directa con los valores ausentes. \n",
    "Tanto esta tabla como la pasada comprueban ser los mismos valores."
   ]
  },
  {
   "cell_type": "code",
   "execution_count": null,
   "id": "325c3464",
   "metadata": {
    "id": "325c3464"
   },
   "outputs": [
    {
     "name": "stdout",
     "output_type": "stream",
     "text": [
      "    aisle_id  aisle\n",
      "99     False  False\n"
     ]
    }
   ],
   "source": [
    "# Usa las tablas department y aisle para revisar los datos del pasillo con ID 100 y el departamento con ID 21.\n",
    "\n",
    "depa= df_depart[\"department_id\"]==21\n",
    "\n",
    "print(df_pasillos[df_pasillos[\"aisle_id\"] == 100].isin(depa))\n",
    "#uso de isin para buscar los valores en ambas tablas"
   ]
  },
  {
   "cell_type": "markdown",
   "id": "nqhSTUPhhvEJ",
   "metadata": {
    "id": "nqhSTUPhhvEJ"
   },
   "source": [
    "Se encontaron la relación de ambos. Los cuales en ambos contienen Valores False por eso la relacion, se puede suponer son productos descontinuados"
   ]
  },
  {
   "cell_type": "code",
   "execution_count": null,
   "id": "6b295120",
   "metadata": {
    "id": "6b295120"
   },
   "outputs": [],
   "source": [
    "# Completa los nombres de productos ausentes con 'Unknown'\n",
    "df_products[\"product_name\"]=df_products[\"product_name\"].replace(\"Nan\",\"Uknown\")"
   ]
  },
  {
   "cell_type": "markdown",
   "id": "fc70e5ad",
   "metadata": {
    "id": "fc70e5ad"
   },
   "source": [
    "Todo valor ausente se le proporciona un str de Desconocido para dejar de ser valor ausente y no suponer a que se refiere el valor."
   ]
  },
  {
   "cell_type": "markdown",
   "id": "7eb45c86",
   "metadata": {
    "id": "7eb45c86"
   },
   "source": [
    "### `orders` data frame"
   ]
  },
  {
   "cell_type": "code",
   "execution_count": null,
   "id": "93e41d96",
   "metadata": {
    "id": "93e41d96"
   },
   "outputs": [
    {
     "name": "stdout",
     "output_type": "stream",
     "text": [
      "order_id                      0\n",
      "user_id                       0\n",
      "order_number                  0\n",
      "order_dow                     0\n",
      "order_hour_of_day             0\n",
      "days_since_prior_order    28817\n",
      "dtype: int64\n"
     ]
    }
   ],
   "source": [
    "# Encuentra los valores ausentes\n",
    "print(df_insta_ord.isna().sum())"
   ]
  },
  {
   "cell_type": "code",
   "execution_count": null,
   "id": "166e5a86",
   "metadata": {
    "id": "166e5a86"
   },
   "outputs": [
    {
     "name": "stdout",
     "output_type": "stream",
     "text": [
      "        order_id  user_id  order_number  order_dow  order_hour_of_day  \\\n",
      "0        1515936   183418            11          6                 13   \n",
      "1        1690866   163593             5          5                 12   \n",
      "2        1454967    39980             4          5                 19   \n",
      "3        1768857    82516            56          0                 20   \n",
      "4        3007858   196724             2          4                 12   \n",
      "...          ...      ...           ...        ...                ...   \n",
      "478962   3210681     5617             5          1                 14   \n",
      "478963   3270802   112087             2          3                 13   \n",
      "478964    885349    82944            16          2                 11   \n",
      "478965    216274     4391             3          3                  8   \n",
      "478966   2071924     1730            18          1                 14   \n",
      "\n",
      "        days_since_prior_order  \n",
      "0                         30.0  \n",
      "1                          9.0  \n",
      "2                          2.0  \n",
      "3                         10.0  \n",
      "4                         17.0  \n",
      "...                        ...  \n",
      "478962                     7.0  \n",
      "478963                     6.0  \n",
      "478964                     6.0  \n",
      "478965                     8.0  \n",
      "478966                    15.0  \n",
      "\n",
      "[478952 rows x 6 columns]\n"
     ]
    }
   ],
   "source": [
    "# ¿Hay algún valor ausente que no sea el primer pedido del cliente?\n",
    "pedido_1=df_insta_ord[\"days_since_prior_order\"].fillna(value=\"NaN\")\n",
    "print(df_insta_ord[df_insta_ord [\"days_since_prior_order\"] != \"pedido_1\"])"
   ]
  },
  {
   "cell_type": "markdown",
   "id": "4e23d089",
   "metadata": {
    "id": "4e23d089"
   },
   "source": [
    "\n",
    "Todos los valores ausentes tienen relacion con el primer pedido de los clientes"
   ]
  },
  {
   "cell_type": "markdown",
   "id": "69dc9ca4",
   "metadata": {
    "id": "69dc9ca4"
   },
   "source": [
    "### `order_products` data frame"
   ]
  },
  {
   "cell_type": "code",
   "execution_count": null,
   "id": "b8240253",
   "metadata": {
    "id": "b8240253"
   },
   "outputs": [
    {
     "name": "stdout",
     "output_type": "stream",
     "text": [
      "order_id               0\n",
      "product_id             0\n",
      "add_to_cart_order    836\n",
      "reordered              0\n",
      "dtype: int64\n"
     ]
    }
   ],
   "source": [
    "# Encuentra los valores ausentes\n",
    "print(df_ord_prod.isna().sum())"
   ]
  },
  {
   "cell_type": "code",
   "execution_count": null,
   "id": "9a78e5ee",
   "metadata": {
    "id": "9a78e5ee"
   },
   "outputs": [
    {
     "name": "stdout",
     "output_type": "stream",
     "text": [
      "1.0 64.0\n"
     ]
    }
   ],
   "source": [
    "# ¿Cuáles son los valores mínimos y máximos en esta columna?\n",
    "print(df_ord_prod[\"add_to_cart_order\"].min(),df_ord_prod[\"add_to_cart_order\"].max())"
   ]
  },
  {
   "cell_type": "markdown",
   "id": "-Z2Ja215jW78",
   "metadata": {
    "id": "-Z2Ja215jW78"
   },
   "source": [
    "\n",
    "Algunas posibles fallas en el sistema no registraron el orden en que fue ingresados los productos al carrito del cleinte.\n",
    "Se observa que pueden haber compras desde 1 sola pieza hasta compras hasta el momento de 64 articulos en "
   ]
  },
  {
   "cell_type": "code",
   "execution_count": null,
   "id": "ab9d0c2b",
   "metadata": {
    "id": "ab9d0c2b"
   },
   "outputs": [],
   "source": [
    "# Guarda todas las IDs de pedidos que tengan un valor ausente en 'add_to_cart_order'\n",
    "id_ausentes= df_ord_prod[df_ord_prod[\"add_to_cart_order\"].isna()]"
   ]
  },
  {
   "cell_type": "code",
   "execution_count": null,
   "id": "54c31695",
   "metadata": {
    "id": "54c31695"
   },
   "outputs": [
    {
     "name": "stdout",
     "output_type": "stream",
     "text": [
      "[2449164 1968313 2926893 1717990 1959075  844733   61355  936852  264710\n",
      " 1564093  129627  293169 2849370 1386261 3308010  903110 2136777 3347453\n",
      " 1888628  165801 2094761 1038146 2997021  813364 2256933  171934 2409109\n",
      " 1730767 1169835  733526  404157 3125735  747668 1800005 1961723  871281\n",
      "  388234 1648217 1477139  102236 1021563 1832957 2721963  678116 1220886\n",
      " 1673227 2999801 1633337 2470674 2625444 1677118 2479011 3383594 1183255\n",
      " 1713430 2652650 1598369 1916118  854647 1302315  888470  180546 2621907\n",
      " 1308785 2729254    9310 2170451 2979697 1625713 1529171]\n"
     ]
    }
   ],
   "source": [
    "# ¿Todos los pedidos con valores ausentes tienen más de 64 productos?\n",
    "\n",
    "print(id_ausentes['order_id'].unique())\n",
    "\n",
    "\n",
    "# Agrupa todos los pedidos con datos ausentes por su ID de pedido.\n",
    "# Cuenta el número de 'product_id' en cada pedido y revisa el valor mínimo del conteo.\n"
   ]
  },
  {
   "cell_type": "markdown",
   "id": "p9V6pddtjglj",
   "metadata": {
    "id": "p9V6pddtjglj"
   },
   "source": [
    "Describe brevemente cuáles son tus hallazgos.\n",
    "\n",
    "Los valores ausentes si correspnden a compras con más de 64 productos"
   ]
  },
  {
   "cell_type": "code",
   "execution_count": null,
   "id": "7a987d08",
   "metadata": {
    "id": "7a987d08"
   },
   "outputs": [],
   "source": [
    "# Remplaza los valores ausentes en la columna 'add_to_cart? con 999 y convierte la columna al tipo entero.\n",
    "df_ord_prod [\"add_to_cart\"]=df_ord_prod[\"add_to_cart_order\"].fillna(\"999\").astype(\"int\")"
   ]
  },
  {
   "cell_type": "markdown",
   "id": "fea4bcc7",
   "metadata": {
    "id": "fea4bcc7"
   },
   "source": [
    "Describe brevemente tus hallazgos y lo que hiciste con ellos.\n",
    "\n",
    "Todos los valores ausentes tienen relacion en muchas columnas de sus datas, se modifico para tener una columna con mayor legibilidad y mejor accso a los datos aunque estos sean desconocidos para nosotros."
   ]
  },
  {
   "cell_type": "markdown",
   "id": "RnplPFY1gSrb",
   "metadata": {
    "id": "RnplPFY1gSrb"
   },
   "source": [
    "## Conclusiones\n",
    "\n",
    "Es necesario limpiar yverificar las tablas y sus datos para un correcto analisis posterior.\n",
    "Los valors ausentes de nuestras tablas podria traer errores a la hora de analiar.\n",
    "Existia mucha relacion entre los valores ausentes y categorias espcificas de los productos trayendpo más preguntas.\n"
   ]
  },
  {
   "cell_type": "markdown",
   "id": "UjrOIwTcz3ri",
   "metadata": {
    "id": "UjrOIwTcz3ri"
   },
   "source": [
    "# Paso 3. Análisis de los datos\n",
    "\n",
    "Una vez los datos estén procesados y listos, haz el siguiente análisis:"
   ]
  },
  {
   "cell_type": "markdown",
   "id": "turkish-kidney",
   "metadata": {
    "id": "turkish-kidney"
   },
   "source": [
    "# [A] \n",
    "\n",
    "1. Verifica que los valores en las columnas `'order_hour_of_day'` y `'order_dow'` en la tabla orders sean razonables (es decir, `'order_hour_of_day'` oscile entre 0 y 23 y `'order_dow'` oscile entre 0 y 6).\n",
    "2. Crea un gráfico que muestre el número de personas que hacen pedidos dependiendo de la hora del día.\n",
    "3. Crea un gráfico que muestre qué día de la semana la gente hace sus compras.\n",
    "4. Crea un gráfico que muestre el tiempo que la gente espera hasta hacer su siguiente pedido, y comenta sobre los valores mínimos y máximos."
   ]
  },
  {
   "cell_type": "markdown",
   "id": "short-capability",
   "metadata": {
    "id": "short-capability"
   },
   "source": [
    "### [A1] Verifica que los valores sean sensibles"
   ]
  },
  {
   "cell_type": "code",
   "execution_count": 35,
   "id": "growing-fruit",
   "metadata": {
    "id": "growing-fruit"
   },
   "outputs": [
    {
     "name": "stdout",
     "output_type": "stream",
     "text": [
      "0\n",
      "0\n"
     ]
    }
   ],
   "source": [
    "print(df_insta_ord[\"order_hour_of_day\"].min())\n",
    "print(df_insta_ord[\"order_dow\"].min())\n",
    "\n",
    "#uso de min para conocer el valor minimo de la columna"
   ]
  },
  {
   "cell_type": "code",
   "execution_count": 36,
   "id": "accessory-malaysia",
   "metadata": {
    "id": "accessory-malaysia"
   },
   "outputs": [
    {
     "name": "stdout",
     "output_type": "stream",
     "text": [
      "23\n",
      "6\n"
     ]
    }
   ],
   "source": [
    "print(df_insta_ord[\"order_hour_of_day\"].max())\n",
    "print(df_insta_ord[\"order_dow\"].max())\n",
    "#uso de mxn para conocer el valor minimo de la columna"
   ]
  },
  {
   "cell_type": "markdown",
   "id": "hmR2GNQ6lCsX",
   "metadata": {
    "id": "hmR2GNQ6lCsX"
   },
   "source": [
    "Escribe aquí tus conclusiones\n",
    "Ambas columnas, entran dentro de los rangos sugeridos, se prefirio sacar solo los valores min y max de cada columna por practicidad."
   ]
  },
  {
   "cell_type": "markdown",
   "id": "a6743a70",
   "metadata": {
    "id": "a6743a70"
   },
   "source": [
    "### [A2] Para cada hora del día, ¿cuántas personas hacen órdenes?"
   ]
  },
  {
   "cell_type": "code",
   "execution_count": 37,
   "id": "a36cca27",
   "metadata": {
    "id": "a36cca27"
   },
   "outputs": [
    {
     "data": {
      "image/png": "[encoded data removed]",
      "text/plain": [
       "<Figure size 640x480 with 1 Axes>"
      ]
     },
     "metadata": {},
     "output_type": "display_data"
    }
   ],
   "source": [
    "import pandas as pd\n",
    "from matplotlib import pyplot as plt\n",
    "\n",
    "df_insta_ord=pd.read_csv(\"/datasets/instacart_orders.csv\", sep=\";\")\n",
    "\n",
    "hora_compras=df_insta_ord.groupby(\"order_hour_of_day\")[\"user_id\"].count()\n",
    "\n",
    "hora_compras.plot(y=\"order_hour_of_day\", xlabel=\"Cantidad de clientes que hacen pedido\", ylabel=\"Hora del pedido\", title=\"Relación de clientes y horas donde mayor se hacen pedidos en la plataforma\", kind=\"bar\", color=\"green\")\n",
    "plt.show()\n",
    "\n",
    "#se cuentan los pedidos realizados segun la hora de pedido para tener una grafica con la informacion deseada."
   ]
  },
  {
   "cell_type": "markdown",
   "id": "11270eed",
   "metadata": {
    "id": "11270eed"
   },
   "source": [
    "Escribe aquí tus conclusiones\n",
    "\n",
    "Hacen la mayor cantidad de pedidos se realizan entre las 10 y 4 , teniendo un rango de 7 a 10, con mayor pedidos de 10 a 7 pm.\n",
    "Y obteniendo algunos datos aislados en la madrugada."
   ]
  },
  {
   "cell_type": "markdown",
   "id": "documented-command",
   "metadata": {
    "id": "documented-command"
   },
   "source": [
    "### [A3] ¿Qué día de la semana compran víveres las personas?"
   ]
  },
  {
   "cell_type": "code",
   "execution_count": 38,
   "id": "chief-digit",
   "metadata": {
    "id": "chief-digit"
   },
   "outputs": [
    {
     "data": {
      "image/png": "[encoded data removed]",
      "text/plain": [
       "<Figure size 640x480 with 1 Axes>"
      ]
     },
     "metadata": {},
     "output_type": "display_data"
    }
   ],
   "source": [
    "import pandas as pd\n",
    "from matplotlib import pyplot as plt\n",
    "\n",
    "df_insta_ord=pd.read_csv(\"/datasets/instacart_orders.csv\", sep=\";\")\n",
    "\n",
    "suma_compras=df_insta_ord.groupby(\"order_dow\")[\"order_id\"].count()\n",
    "\n",
    "suma_compras.plot(x=\"order_dow\", xlabel=\"Dia de la semana\", ylabel=\"Número de pedidos\", title=\"Pedidos según el día de la semana\", kind=\"bar\", color=\"pink\")\n",
    "plt.show()"
   ]
  },
  {
   "cell_type": "markdown",
   "id": "dominant-lightning",
   "metadata": {
    "id": "dominant-lightning"
   },
   "source": [
    "Escribe aquí tus conclusiones\n",
    "\n",
    "\n",
    "Mayormente se realizan las compras los Días Domingo y Lunes, y teniendo una tendencia muy similar aunque menor el resto de la semana"
   ]
  },
  {
   "cell_type": "markdown",
   "id": "cutting-concert",
   "metadata": {
    "id": "cutting-concert"
   },
   "source": [
    "### [A4] ¿Cuánto tiempo esperan las personas hasta hacer otro pedido? Comenta sobre los valores mínimos y máximos."
   ]
  },
  {
   "cell_type": "code",
   "execution_count": 39,
   "id": "c231f523",
   "metadata": {
    "id": "c231f523"
   },
   "outputs": [
    {
     "data": {
      "image/png": "[encoded data removed]",
      "text/plain": [
       "<Figure size 640x480 with 1 Axes>"
      ]
     },
     "metadata": {},
     "output_type": "display_data"
    }
   ],
   "source": [
    "import pandas as pd\n",
    "from matplotlib import pyplot as plt\n",
    "\n",
    "df_insta_ord=pd.read_csv(\"/datasets/instacart_orders.csv\", sep=\";\")\n",
    "\n",
    "tiempo_espera=df_insta_ord.groupby(\"days_since_prior_order\")[\"order_id\"].count()\n",
    "\n",
    "tiempo_espera.plot(x=\"days_since_prior_order\", ylabel=\"Clientes\", xlabel=\"Tiempo entre pedidos\", title=\"Tiempo de espera entre pedidos de los usuarios\", kind=\"bar\", color=\"purple\")\n",
    "plt.show()\n",
    "#crear grafico para mostrar el tiempo que la gente espere entre pedidos y mostrar minimo y maximo "
   ]
  },
  {
   "cell_type": "markdown",
   "id": "discrete-vertex",
   "metadata": {
    "id": "discrete-vertex"
   },
   "source": [
    "Escribe aquí tus conclusiones\n",
    "\n",
    "Existe una tendencia mayor de esperar 7 días (1 semana entre pedidos) aunque existe inclinacion a la izquierda, lo que puede ir de 1 a 7 días principalemnte lo que esperen los clientes para volver a pedir.\n",
    "La maxima obersvada fue de 30 días (1 mes) y la minima de 29 días."
   ]
  },
  {
   "cell_type": "markdown",
   "id": "tight-staff",
   "metadata": {
    "id": "tight-staff"
   },
   "source": [
    "# [B] \n",
    "\n",
    "1. ¿Existe alguna diferencia entre las distribuciones `'order_hour_of_day'` de los miércoles y los sábados? Traza gráficos de barra de `'order_hour_of_day'` para ambos días en la misma figura y describe las diferencias que observes.\n",
    "2. Grafica la distribución para el número de órdenes que hacen los clientes (es decir, cuántos clientes hicieron solo 1 pedido, cuántos hicieron 2, cuántos 3, y así sucesivamente...).\n",
    "3. ¿Cuáles son los 20 principales productos que se piden con más frecuencia (muestra su identificación y nombre)?"
   ]
  },
  {
   "cell_type": "markdown",
   "id": "packed-classic",
   "metadata": {
    "id": "packed-classic"
   },
   "source": [
    "### [B1] Diferencia entre miércoles y sábados para  `'order_hour_of_day'`. Traza gráficos de barra para los dos días y describe las diferencias que veas."
   ]
  },
  {
   "cell_type": "code",
   "execution_count": 40,
   "id": "d89b8403",
   "metadata": {
    "id": "d89b8403"
   },
   "outputs": [
    {
     "data": {
      "image/png": "[encoded data removed]",
      "text/plain": [
       "<Figure size 640x480 with 1 Axes>"
      ]
     },
     "metadata": {},
     "output_type": "display_data"
    }
   ],
   "source": [
    "import pandas as pd\n",
    "from matplotlib import pyplot as plt\n",
    "\n",
    "df_insta_ord=pd.read_csv(\"/datasets/instacart_orders.csv\", sep=\";\")\n",
    "\n",
    "comparacion_compras=df_insta_ord.groupby(\"order_dow\")[\"order_hour_of_day\"].count()\n",
    "\n",
    "comparacion_compras.plot(x=\"order_hour_of_day\", xlabel=\"Día de la semana\", kind=\"bar\", title=\"Comparaciòn entre los pedidos realizados en la platafroma toda la semana\", color=\"blue\")\n",
    "\n",
    "plt.show()\n",
    "#grafico general de barras para todos los dias"
   ]
  },
  {
   "cell_type": "code",
   "execution_count": 41,
   "id": "9a36779e",
   "metadata": {},
   "outputs": [],
   "source": [
    "miercoles_orders = df_insta_ord[df_insta_ord['order_dow']==3]  # filtro para obtener los valores de los miércoles\n",
    "miercoles_barras = miercoles_orders.groupby(by='order_hour_of_day')['order_id'].count() \n",
    "\n",
    "sabado_orders = df_insta_ord[df_insta_ord['order_dow']==6]  # filtro para obtener los valores de los sabados\n",
    "sabado_barras = sabado_orders.groupby(by='order_hour_of_day')['order_id'].count() "
   ]
  },
  {
   "cell_type": "code",
   "execution_count": 42,
   "id": "7bb920f4",
   "metadata": {},
   "outputs": [
    {
     "data": {
      "image/png": "[encoded data removed]",
      "text/plain": [
       "<Figure size 640x480 with 1 Axes>"
      ]
     },
     "metadata": {},
     "output_type": "display_data"
    }
   ],
   "source": [
    "miercoles_barras.plot(kind='bar',                            # gráfica de barras para miércoles\n",
    "            color='pink',                          \n",
    "            alpha = 1\n",
    "        )\n",
    "\n",
    "\n",
    "sabado_barras.plot(kind='bar',                            # creo una gráfica de barras para sábado\n",
    "                xlabel = \"Hora del Día\",           \n",
    "                ylabel = \"Número de Ordenes\",\n",
    "                color='yellow',\n",
    "                alpha = 0.5\n",
    "            )\n",
    "\n",
    "\n",
    "plt.title(\"Miércoles vs. Sábado para cada hora del día\")    \n",
    "plt.legend([\"Miércoles\", \"Sábado\"])                         \n",
    "plt.show()"
   ]
  },
  {
   "cell_type": "markdown",
   "id": "charitable-congo",
   "metadata": {
    "id": "charitable-congo"
   },
   "source": [
    "Escribe aquí tus conclusiones\n",
    "\n",
    "Comparando los dias sabado y miercoles existe una similitud en la cantidad de pedidos que entran esos días, siendo ligermanete mayor los dias sábado."
   ]
  },
  {
   "cell_type": "markdown",
   "id": "e3891143",
   "metadata": {
    "id": "e3891143"
   },
   "source": [
    "### [B2] ¿Cuál es la distribución para el número de pedidos por cliente?"
   ]
  },
  {
   "cell_type": "code",
   "execution_count": 43,
   "id": "d8c26c23",
   "metadata": {
    "id": "d8c26c23"
   },
   "outputs": [
    {
     "data": {
      "image/png": "[encoded data removed]",
      "text/plain": [
       "<Figure size 640x480 with 1 Axes>"
      ]
     },
     "metadata": {},
     "output_type": "display_data"
    }
   ],
   "source": [
    "orden_por_cliente= df_insta_ord['user_id'].value_counts()\n",
    "\n",
    "orden_por_cliente.plot(kind='hist',xlabel = \"número de pedidos\", ylabel = \"Ordenes\",title ='Distribución para el número de pedidos por cliente', color = \"pink\")\n",
    "plt.show()"
   ]
  },
  {
   "cell_type": "markdown",
   "id": "d2eff7d5",
   "metadata": {
    "id": "d2eff7d5"
   },
   "source": [
    "Escribe aquí tus conclusiones\n",
    "\n",
    "En promedio la compra prinicpal de productos dentro de la plataforma es de 5 productos por pedido, compras mayores a  productos llegan a ser minimas y casi nulas de 15 en adelante."
   ]
  },
  {
   "cell_type": "markdown",
   "id": "54a0319c",
   "metadata": {
    "id": "54a0319c"
   },
   "source": [
    "### [B3] ¿Cuáles son los 20 productos más populares (muestra su ID y nombre)?"
   ]
  },
  {
   "cell_type": "code",
   "execution_count": 44,
   "id": "exterior-arizona",
   "metadata": {
    "id": "exterior-arizona",
    "scrolled": true
   },
   "outputs": [],
   "source": [
    "#unir info de los datas .\n",
    "prod_id_y_nombre = df_ord_prod.merge(df_products, on = 'product_id')\n"
   ]
  },
  {
   "cell_type": "code",
   "execution_count": 45,
   "id": "universal-facial",
   "metadata": {
    "id": "universal-facial"
   },
   "outputs": [],
   "source": [
    "# creo variable para almacenar las columnas necesarias.\n",
    "top_20 = prod_id_y_nombre[['product_id','product_name','order_id']]\n"
   ]
  },
  {
   "cell_type": "code",
   "execution_count": 46,
   "id": "bbcdd20b",
   "metadata": {
    "id": "bbcdd20b"
   },
   "outputs": [
    {
     "data": {
      "text/html": [
       "<div>\n",
       "<style scoped>\n",
       "    .dataframe tbody tr th:only-of-type {\n",
       "        vertical-align: middle;\n",
       "    }\n",
       "\n",
       "    .dataframe tbody tr th {\n",
       "        vertical-align: top;\n",
       "    }\n",
       "\n",
       "    .dataframe thead th {\n",
       "        text-align: right;\n",
       "    }\n",
       "</style>\n",
       "<table border=\"1\" class=\"dataframe\">\n",
       "  <thead>\n",
       "    <tr style=\"text-align: right;\">\n",
       "      <th></th>\n",
       "      <th>product_id</th>\n",
       "      <th>product_name</th>\n",
       "      <th>order_id</th>\n",
       "    </tr>\n",
       "  </thead>\n",
       "  <tbody>\n",
       "    <tr>\n",
       "      <th>0</th>\n",
       "      <td>24852</td>\n",
       "      <td>Banana</td>\n",
       "      <td>66050</td>\n",
       "    </tr>\n",
       "    <tr>\n",
       "      <th>1</th>\n",
       "      <td>13176</td>\n",
       "      <td>Bag of Organic Bananas</td>\n",
       "      <td>53297</td>\n",
       "    </tr>\n",
       "    <tr>\n",
       "      <th>2</th>\n",
       "      <td>21137</td>\n",
       "      <td>Organic Strawberries</td>\n",
       "      <td>37039</td>\n",
       "    </tr>\n",
       "    <tr>\n",
       "      <th>3</th>\n",
       "      <td>21903</td>\n",
       "      <td>Organic Baby Spinach</td>\n",
       "      <td>33971</td>\n",
       "    </tr>\n",
       "    <tr>\n",
       "      <th>4</th>\n",
       "      <td>47209</td>\n",
       "      <td>Organic Hass Avocado</td>\n",
       "      <td>29773</td>\n",
       "    </tr>\n",
       "    <tr>\n",
       "      <th>5</th>\n",
       "      <td>47766</td>\n",
       "      <td>Organic Avocado</td>\n",
       "      <td>24689</td>\n",
       "    </tr>\n",
       "    <tr>\n",
       "      <th>6</th>\n",
       "      <td>47626</td>\n",
       "      <td>Large Lemon</td>\n",
       "      <td>21495</td>\n",
       "    </tr>\n",
       "    <tr>\n",
       "      <th>7</th>\n",
       "      <td>16797</td>\n",
       "      <td>Strawberries</td>\n",
       "      <td>20018</td>\n",
       "    </tr>\n",
       "    <tr>\n",
       "      <th>8</th>\n",
       "      <td>26209</td>\n",
       "      <td>Limes</td>\n",
       "      <td>19690</td>\n",
       "    </tr>\n",
       "    <tr>\n",
       "      <th>9</th>\n",
       "      <td>27845</td>\n",
       "      <td>Organic Whole Milk</td>\n",
       "      <td>19600</td>\n",
       "    </tr>\n",
       "    <tr>\n",
       "      <th>10</th>\n",
       "      <td>27966</td>\n",
       "      <td>Organic Raspberries</td>\n",
       "      <td>19197</td>\n",
       "    </tr>\n",
       "    <tr>\n",
       "      <th>11</th>\n",
       "      <td>22935</td>\n",
       "      <td>Organic Yellow Onion</td>\n",
       "      <td>15898</td>\n",
       "    </tr>\n",
       "    <tr>\n",
       "      <th>12</th>\n",
       "      <td>24964</td>\n",
       "      <td>Organic Garlic</td>\n",
       "      <td>15292</td>\n",
       "    </tr>\n",
       "    <tr>\n",
       "      <th>13</th>\n",
       "      <td>45007</td>\n",
       "      <td>Organic Zucchini</td>\n",
       "      <td>14584</td>\n",
       "    </tr>\n",
       "    <tr>\n",
       "      <th>14</th>\n",
       "      <td>39275</td>\n",
       "      <td>Organic Blueberries</td>\n",
       "      <td>13879</td>\n",
       "    </tr>\n",
       "    <tr>\n",
       "      <th>15</th>\n",
       "      <td>49683</td>\n",
       "      <td>Cucumber Kirby</td>\n",
       "      <td>13675</td>\n",
       "    </tr>\n",
       "    <tr>\n",
       "      <th>16</th>\n",
       "      <td>28204</td>\n",
       "      <td>Organic Fuji Apple</td>\n",
       "      <td>12544</td>\n",
       "    </tr>\n",
       "    <tr>\n",
       "      <th>17</th>\n",
       "      <td>5876</td>\n",
       "      <td>Organic Lemon</td>\n",
       "      <td>12232</td>\n",
       "    </tr>\n",
       "    <tr>\n",
       "      <th>18</th>\n",
       "      <td>8277</td>\n",
       "      <td>Apple Honeycrisp Organic</td>\n",
       "      <td>11993</td>\n",
       "    </tr>\n",
       "    <tr>\n",
       "      <th>19</th>\n",
       "      <td>40706</td>\n",
       "      <td>Organic Grape Tomatoes</td>\n",
       "      <td>11781</td>\n",
       "    </tr>\n",
       "  </tbody>\n",
       "</table>\n",
       "</div>"
      ],
      "text/plain": [
       "    product_id              product_name  order_id\n",
       "0        24852                    Banana     66050\n",
       "1        13176    Bag of Organic Bananas     53297\n",
       "2        21137      Organic Strawberries     37039\n",
       "3        21903      Organic Baby Spinach     33971\n",
       "4        47209      Organic Hass Avocado     29773\n",
       "5        47766           Organic Avocado     24689\n",
       "6        47626               Large Lemon     21495\n",
       "7        16797              Strawberries     20018\n",
       "8        26209                     Limes     19690\n",
       "9        27845        Organic Whole Milk     19600\n",
       "10       27966       Organic Raspberries     19197\n",
       "11       22935      Organic Yellow Onion     15898\n",
       "12       24964            Organic Garlic     15292\n",
       "13       45007          Organic Zucchini     14584\n",
       "14       39275       Organic Blueberries     13879\n",
       "15       49683            Cucumber Kirby     13675\n",
       "16       28204        Organic Fuji Apple     12544\n",
       "17        5876             Organic Lemon     12232\n",
       "18        8277  Apple Honeycrisp Organic     11993\n",
       "19       40706    Organic Grape Tomatoes     11781"
      ]
     },
     "execution_count": 46,
     "metadata": {},
     "output_type": "execute_result"
    }
   ],
   "source": [
    "# agrupo por product_id y name las ordenes. luego uso count, sort_values, head(20) y reset_index.\n",
    "top_20 = top_20.groupby(['product_id','product_name'])['order_id'].count().sort_values(ascending = False).head(20).reset_index()\n",
    "top_20"
   ]
  },
  {
   "cell_type": "markdown",
   "id": "7df00f47",
   "metadata": {
    "id": "7df00f47"
   },
   "source": [
    "Escribe aquí tus conclusiones\n",
    "\n",
    "Los productos mas vendidos son comida fresca, lo que tiene relacion con la frecuencia de sus pedidos, ya que la vida de estos productos no suele superar 1 o 2 semanas como máximo"
   ]
  },
  {
   "cell_type": "markdown",
   "id": "gross-theme",
   "metadata": {
    "id": "gross-theme"
   },
   "source": [
    "# [C] \n",
    "\n",
    "1. ¿Cuántos artículos suelen comprar las personas en un pedido? ¿Cómo es la distribución?\n",
    "2. ¿Cuáles son los 20 principales artículos que vuelven a pedirse con mayor frecuencia (muestra sus nombres e IDs de los productos)?\n",
    "3. Para cada producto, ¿cuál es la tasa de repetición del pedido (número de repeticiones de pedido/total de pedidos?\n",
    "4. Para cada cliente, ¿qué proporción de los productos que pidió ya los había pedido? Calcula la tasa de repetición de pedido para cada usuario en lugar de para cada producto.\n",
    "5. ¿Cuáles son los 20 principales artículos que la gente pone primero en sus carritos (muestra las IDs de los productos, sus nombres, y el número de veces en que fueron el primer artículo en añadirse al carrito)?"
   ]
  },
  {
   "cell_type": "markdown",
   "id": "romantic-deposit",
   "metadata": {
    "id": "romantic-deposit"
   },
   "source": [
    "### [C1] ¿Cuántos artículos compran normalmente las personas en un pedido? ¿Cómo es la distribución?"
   ]
  },
  {
   "cell_type": "code",
   "execution_count": 47,
   "id": "virtual-punch",
   "metadata": {
    "id": "virtual-punch"
   },
   "outputs": [],
   "source": [
    "\n",
    "# variable para saber qué #de artículos se piden\n",
    "Top_5 = df_ord_prod.groupby('order_id')['product_id'].count().sort_values().reset_index()\n"
   ]
  },
  {
   "cell_type": "code",
   "execution_count": 48,
   "id": "completed-frank",
   "metadata": {
    "id": "completed-frank"
   },
   "outputs": [
    {
     "name": "stdout",
     "output_type": "stream",
     "text": [
      "product_id\n",
      "5    31923\n",
      "6    31698\n",
      "4    31054\n",
      "7    30822\n",
      "3    29046\n",
      "Name: order_id, dtype: int64\n"
     ]
    }
   ],
   "source": [
    "# pide solo mostrar 5 artículos más repetidos.\n",
    "Top_5 =Top_5.groupby('product_id')['order_id'].count().sort_values(ascending= False).head(5)\n",
    "\n",
    "print(Top_5)"
   ]
  },
  {
   "cell_type": "code",
   "execution_count": 49,
   "id": "2759c9be",
   "metadata": {},
   "outputs": [
    {
     "data": {
      "text/plain": [
       "<AxesSubplot:title={'center':'Articulos comprandos normalmente por pedido'}, ylabel='Frequency'>"
      ]
     },
     "execution_count": 49,
     "metadata": {},
     "output_type": "execute_result"
    },
    {
     "data": {
      "image/png": "[encoded data removed]",
      "text/plain": [
       "<Figure size 640x480 with 1 Axes>"
      ]
     },
     "metadata": {},
     "output_type": "display_data"
    }
   ],
   "source": [
    "# crea variable, agrupo por order_id y cuento los valores en product_id.\n",
    "prod_por_orden = df_ord_prod.groupby('order_id')['product_id'].count()\n",
    "\n",
    "# creo un histograma\n",
    "prod_por_orden.plot(kind='hist',bins=127, xlabel = \"número de productos por Orden\", title ='Articulos comprandos normalmente por pedido', color = \"violet\",edgecolor='gray' )"
   ]
  },
  {
   "cell_type": "code",
   "execution_count": 50,
   "id": "52cf7d82",
   "metadata": {},
   "outputs": [
    {
     "data": {
      "text/plain": [
       "count    450046.000000\n",
       "mean         10.098983\n",
       "std           7.540206\n",
       "min           1.000000\n",
       "25%           5.000000\n",
       "50%           8.000000\n",
       "75%          14.000000\n",
       "max         127.000000\n",
       "Name: product_id, dtype: float64"
      ]
     },
     "execution_count": 50,
     "metadata": {},
     "output_type": "execute_result"
    }
   ],
   "source": [
    "prod_por_orden.describe()"
   ]
  },
  {
   "cell_type": "markdown",
   "id": "designed-mortality",
   "metadata": {
    "id": "designed-mortality"
   },
   "source": [
    "Escribe aquí tus conclusiones\n",
    "\n",
    "la cantidad más popular de productos pedidos por pedidos es de 5 productos, con un promedio de 8 piezas, minimo 1 y maximo 127, los valores extremos nos dificultan medir de forma más precisa los resultados."
   ]
  },
  {
   "cell_type": "markdown",
   "id": "5e6b5537",
   "metadata": {
    "id": "5e6b5537"
   },
   "source": [
    "### [C2] ¿Cuáles son los 20 principales artículos que vuelven a pedirse con mayor frecuencia (muestra sus nombres e IDs de los productos)?"
   ]
  },
  {
   "cell_type": "code",
   "execution_count": 51,
   "id": "9374e55a",
   "metadata": {
    "id": "9374e55a"
   },
   "outputs": [],
   "source": [
    "#imprimir 20 articulos, filtrando los mas repetidos\n",
    "\n",
    "prod_por_reorden = prod_id_y_nombre[prod_id_y_nombre['reordered'] ==1]\n"
   ]
  },
  {
   "cell_type": "code",
   "execution_count": 52,
   "id": "possible-change",
   "metadata": {
    "id": "possible-change",
    "scrolled": true
   },
   "outputs": [
    {
     "data": {
      "text/plain": [
       "product_id  product_name            \n",
       "24852       Banana                      55763\n",
       "13176       Bag of Organic Bananas      44450\n",
       "21137       Organic Strawberries        28639\n",
       "21903       Organic Baby Spinach        26233\n",
       "47209       Organic Hass Avocado        23629\n",
       "47766       Organic Avocado             18743\n",
       "27845       Organic Whole Milk          16251\n",
       "47626       Large Lemon                 15044\n",
       "27966       Organic Raspberries         14748\n",
       "16797       Strawberries                13945\n",
       "26209       Limes                       13327\n",
       "22935       Organic Yellow Onion        11145\n",
       "24964       Organic Garlic              10411\n",
       "45007       Organic Zucchini            10076\n",
       "49683       Cucumber Kirby               9538\n",
       "28204       Organic Fuji Apple           8989\n",
       "8277        Apple Honeycrisp Organic     8836\n",
       "39275       Organic Blueberries          8799\n",
       "5876        Organic Lemon                8412\n",
       "49235       Organic Half & Half          8389\n",
       "Name: order_id, dtype: int64"
      ]
     },
     "execution_count": 52,
     "metadata": {},
     "output_type": "execute_result"
    }
   ],
   "source": [
    "\n",
    "prod_por_reorden.groupby(['product_id','product_name'])['order_id'].count().sort_values(ascending = False).head(20)\n"
   ]
  },
  {
   "cell_type": "markdown",
   "id": "80e70c74",
   "metadata": {
    "id": "80e70c74"
   },
   "source": [
    "Escribe aquí tus conclusiones\n",
    "\n",
    "Lo mas comprado son platanos y bolsas para los mismos, aunque si analizamosla lista completa los productos más vendidos son frutas y verduras organicas,lo que nos da una idea del tipo de productos que ofrece el lugar. "
   ]
  },
  {
   "cell_type": "markdown",
   "id": "9d312b14",
   "metadata": {
    "id": "9d312b14"
   },
   "source": [
    "### [C3] Para cada producto, ¿cuál es la proporción de las veces que se pide y que se vuelve a pedir?"
   ]
  },
  {
   "cell_type": "code",
   "execution_count": 53,
   "id": "8ae9f4b1",
   "metadata": {
    "id": "8ae9f4b1"
   },
   "outputs": [
    {
     "data": {
      "text/plain": [
       "product_id  product_name                                                     \n",
       "1           Chocolate Sandwich Cookies                                           0.564286\n",
       "2           All-Seasons Salt                                                     0.000000\n",
       "3           Robust Golden Unsweetened Oolong Tea                                 0.738095\n",
       "4           Smart Ones Classic Favorites Mini Rigatoni With Vodka Cream Sauce    0.510204\n",
       "7           Pure Coconut Water With Orange                                       0.500000\n",
       "                                                                                   ...   \n",
       "49690       HIGH PERFORMANCE ENERGY DRINK                                        0.800000\n",
       "49691       ORIGINAL PANCAKE & WAFFLE MIX                                        0.430556\n",
       "49692       ORGANIC INSTANT OATMEAL LIGHT MAPLE BROWN SUGAR                      0.416667\n",
       "49693       SPRING WATER BODY WASH                                               0.440000\n",
       "49694       BURRITO- STEAK & CHEESE                                              0.333333\n",
       "Name: reordered, Length: 44613, dtype: float64"
      ]
     },
     "execution_count": 53,
     "metadata": {},
     "output_type": "execute_result"
    }
   ],
   "source": [
    "#de cada producto filtro mostrando conteo de cuantas vces lo vuelven a pedir\n",
    "#uso de columna creada anteriormente y solo se agrupa y saca el promedio solicitado\n",
    "\n",
    "\n",
    "prod_id_y_nombre.groupby(['product_id','product_name'])['reordered'].mean()"
   ]
  },
  {
   "cell_type": "markdown",
   "id": "I10dEIAyldcO",
   "metadata": {
    "id": "I10dEIAyldcO"
   },
   "source": [
    "Escribe aquí tus conclusiones\n",
    "\n",
    "el resultado nos muestra el porcentaje de cuantas veces se a vuelto a pedir para cada producto, siendo muy distinto para cada uno, mostrando que no eiste un relación obvia entre los productos y ue se vuelvan a pedir aparentemente."
   ]
  },
  {
   "cell_type": "markdown",
   "id": "subject-boxing",
   "metadata": {
    "id": "subject-boxing"
   },
   "source": [
    "### [C4] Para cada cliente, ¿qué proporción de sus productos ya los había pedido?"
   ]
  },
  {
   "cell_type": "code",
   "execution_count": 54,
   "id": "medical-couple",
   "metadata": {
    "id": "medical-couple",
    "scrolled": true
   },
   "outputs": [],
   "source": [
    "#filtro por cliente, repeticion de pedidos previamente\n",
    "client_prod=df_ord_prod.merge(df_insta_ord, on = 'order_id')\n"
   ]
  },
  {
   "cell_type": "code",
   "execution_count": 55,
   "id": "cd9fb0c7",
   "metadata": {},
   "outputs": [],
   "source": [
    "porcentaje_reorden = client_prod.groupby(['user_id'])['reordered'].mean()"
   ]
  },
  {
   "cell_type": "code",
   "execution_count": 56,
   "id": "8892e4b4",
   "metadata": {
    "id": "8892e4b4"
   },
   "outputs": [
    {
     "name": "stdout",
     "output_type": "stream",
     "text": [
      "user_id\n",
      "2         0.038462\n",
      "4         0.000000\n",
      "5         0.666667\n",
      "6         0.000000\n",
      "7         0.928571\n",
      "            ...   \n",
      "206203    0.222222\n",
      "206206    0.714286\n",
      "206207    0.891304\n",
      "206208    0.696000\n",
      "206209    0.320000\n",
      "Name: reordered, Length: 149626, dtype: float64\n"
     ]
    }
   ],
   "source": [
    "print(porcentaje_reorden)"
   ]
  },
  {
   "cell_type": "markdown",
   "id": "BgJSvXDsleXz",
   "metadata": {
    "id": "BgJSvXDsleXz"
   },
   "source": [
    "Escribe aquí tus conclusiones\n",
    "\n",
    "Cada usuario tiene un porcentaje de acuerdo a cuentas veces ha vuelto a pedir en la plataorma, se puede orden en porcentajes para conocer los usuarios con mayor uso y buscar patrones en su compras para futuras investigaciones.\n",
    "Entre mayor porcentaje muestre el resultado mayor numero de compras han realizado."
   ]
  },
  {
   "cell_type": "markdown",
   "id": "92d35137",
   "metadata": {
    "id": "92d35137"
   },
   "source": [
    "### [C5] ¿Cuáles son los 20 principales artículos que las personas ponen primero en sus carritos?"
   ]
  },
  {
   "cell_type": "code",
   "execution_count": 57,
   "id": "0ae57274",
   "metadata": {
    "id": "0ae57274",
    "scrolled": true
   },
   "outputs": [],
   "source": [
    "#filtrar por oden de añadidura en el carrito\n",
    "primeros_prod = prod_id_y_nombre[prod_id_y_nombre['add_to_cart_order']==1] \n"
   ]
  },
  {
   "cell_type": "code",
   "execution_count": 58,
   "id": "forty-netherlands",
   "metadata": {
    "id": "forty-netherlands",
    "scrolled": true
   },
   "outputs": [],
   "source": [
    "top_20 = primeros_prod.groupby(\"product_id\").size().rename(\"count\").nlargest(20)\n"
   ]
  },
  {
   "cell_type": "code",
   "execution_count": 59,
   "id": "08e41ec2",
   "metadata": {
    "id": "08e41ec2"
   },
   "outputs": [
    {
     "name": "stdout",
     "output_type": "stream",
     "text": [
      "            product_id                                       product_name  \\\n",
      "product_id                                                                  \n",
      "24852            24853                          Shredded 3 Cheese Italian   \n",
      "13176            13177           Warrior Blend Vanilla Dietary Supplement   \n",
      "27845            27846                                     Calimyrna Figs   \n",
      "21137            21138             Fat Free Low Sodium Poppyseed Dressing   \n",
      "47209            47210                        Fresh Farmed Tilapia Fillet   \n",
      "21903            21904  Earth Paste Amazingly Natural Toothpaste Peppe...   \n",
      "47766            47767                           Essential Enzymes 500 Mg   \n",
      "19660            19661                                Slider Freezer Bags   \n",
      "16797            16798                      Chicken Breast Grilled Strips   \n",
      "27966            27967                               Egg Pasta Fettuccine   \n",
      "44632            44633            Hearty Chicken with Vegetables RTS Soup   \n",
      "49235            49236                               80% Lean Ground Beef   \n",
      "47626            47627                        Salsa Ranch Yogurt Dressing   \n",
      "196                197                  Cold Brew Coffee Tahitian Vanilla   \n",
      "38689            38690                     Original Sea Salt Bagel Crisps   \n",
      "26209            26210                                    Almond Gold Bar   \n",
      "12341            12342       Organic Sprinkle 24 Herbs & Spices Seasoning   \n",
      "5785              5786                            Fruit Punch Super Drink   \n",
      "27086            27087                             Zero Drops Fruit Punch   \n",
      "22935            22936                           Blended Seeds Flatbreads   \n",
      "\n",
      "            aisle_id  department_id  count  \n",
      "product_id                                  \n",
      "24852             21             16  15562  \n",
      "13176             65             11  11026  \n",
      "27845            117             19   4363  \n",
      "21137             89             13   3946  \n",
      "47209             15             12   3390  \n",
      "21903             20             11   3336  \n",
      "47766             70             11   3044  \n",
      "19660             85             17   2336  \n",
      "16797              7             12   2308  \n",
      "27966            131              9   2024  \n",
      "44632             69             15   1914  \n",
      "49235            122             12   1797  \n",
      "47626             89             13   1737  \n",
      "196               26              7   1733  \n",
      "38689             78             19   1397  \n",
      "26209             45             19   1370  \n",
      "12341            104             13   1340  \n",
      "5785              98              7   1310  \n",
      "27086             90              7   1309  \n",
      "22935             78             19   1246  \n"
     ]
    }
   ],
   "source": [
    "#mosrtrar los primeros 20 màs populares \n",
    "first_20_table = df_products.join(top_20, how='right')\n",
    "print(first_20_table)"
   ]
  },
  {
   "cell_type": "markdown",
   "id": "28ce9872",
   "metadata": {
    "id": "28ce9872"
   },
   "source": [
    "Escribe aquí tus conclusiones\n",
    "Aqui se observan los productos que más facil se reordenan según los clientes"
   ]
  },
  {
   "cell_type": "markdown",
   "id": "uITbFCEoDosC",
   "metadata": {
    "id": "uITbFCEoDosC"
   },
   "source": [
    "### Conclusion general del proyecto:"
   ]
  },
  {
   "cell_type": "markdown",
   "id": "Nk-4GS7mDwqY",
   "metadata": {
    "id": "Nk-4GS7mDwqY"
   },
   "source": [
    "En la primera seccion se busco profudizar en la limpieza de datos para un mejor analisis de los mismos, con ya un conjuto de datas a usar al mismo tiempo.\n",
    "Además de conocer la información en el data para conocer un poco más y logrando demostar nuestros resultados de formas mucho más faciles de exlicar con el uso de graficas los cuales facilitan la entrega de resultados al equipo de trabajo.\n",
    "Es importante reconocer la importancia de todos nuestros datos obtenidos para su uso posterior dentro de la empresa para hacer crecer el negocio o investigar a fondo a los clientes y mejorar su experiencia en la plataforma, compras, productos nuevos, promociones, etc y todo gracias a nuestro analisis."
   ]
  },
  {
   "cell_type": "markdown",
   "id": "db2cdfc9",
   "metadata": {
    "scrolled": true
   },
   "source": [
    "Durante este proyecto se hizo el analisis detallado de diferentes puntos de los data, combinando datas y permitiendonos explorar de el patron de uso de esta aplicacion.\n",
    "\n",
    "En la primera parte: se analizo las horas más populares para ordenar que van de las  9 a las 5, los días más populares para hacer pedidos domingo y lunes, \n",
    "y el tiempo de esperan para hacer otro pedido que va de los 30 dias seguido por 7 dias, logrando analizar el comportamiento del usuario.\n",
    "\n",
    "En la segunda parte:\n",
    "Se hizo la comparativa de los pedidos en 2 dias difernetes de la semana (miercoles y sabado), la hora de mayor pedidos 12 y 2.\n",
    "\n",
    "Logramos observar cuantos productos se compran en promedio por compra que van de 1 a 5 productos.\n",
    "Y conociendo los 20 productos más populares, liderada por platanos, bolsas de platanos y frutas y verduras organicas.\n",
    "\n",
    "En la tercera parte:\n",
    "Se conocio cuantos productos se compran por pedido promedio, que son 5, los 20 productos que mas se piden y cuantas veces se vuelven a pedir, logrando observar la satisfacccion del cliente con los productos el cual es relacionaod con su reordenamiento en siguientes pedidos.\n",
    "Hasta ubicar en que orden sevuelven a comprar, indicando preferencias."
   ]
  },
  {
   "cell_type": "code",
   "execution_count": null,
   "id": "5246b9bd",
   "metadata": {},
   "outputs": [],
   "source": []
  }
 ],
 "metadata": {
  "ExecuteTimeLog": [
   {
    "duration": 300,
    "start_time": "2024-09-04T17:46:53.462Z"
   },
   {
    "duration": 385,
    "start_time": "2024-09-04T17:48:27.706Z"
   },
   {
    "duration": 420,
    "start_time": "2024-09-04T17:50:14.806Z"
   },
   {
    "duration": 2602,
    "start_time": "2024-09-04T17:51:54.462Z"
   },
   {
    "duration": 22,
    "start_time": "2024-09-04T17:53:01.761Z"
   },
   {
    "duration": 10,
    "start_time": "2024-09-04T17:53:07.425Z"
   },
   {
    "duration": 56,
    "start_time": "2024-09-04T17:53:11.592Z"
   },
   {
    "duration": 9,
    "start_time": "2024-09-04T17:53:25.644Z"
   },
   {
    "duration": 14,
    "start_time": "2024-09-04T17:53:29.911Z"
   },
   {
    "duration": 9,
    "start_time": "2024-09-04T17:53:49.703Z"
   },
   {
    "duration": 7,
    "start_time": "2024-09-04T17:53:53.919Z"
   },
   {
    "duration": 157,
    "start_time": "2024-09-04T18:44:25.677Z"
   },
   {
    "duration": 12,
    "start_time": "2024-09-04T18:44:43.137Z"
   },
   {
    "duration": 299,
    "start_time": "2024-09-04T18:44:58.297Z"
   },
   {
    "duration": 2565,
    "start_time": "2024-09-04T18:45:00.279Z"
   },
   {
    "duration": 21,
    "start_time": "2024-09-04T18:45:04.068Z"
   },
   {
    "duration": 21,
    "start_time": "2024-09-04T18:45:24.152Z"
   },
   {
    "duration": 10,
    "start_time": "2024-09-04T18:45:44.013Z"
   },
   {
    "duration": 9,
    "start_time": "2024-09-04T18:46:23.288Z"
   },
   {
    "duration": 7,
    "start_time": "2024-09-04T18:46:30.286Z"
   },
   {
    "duration": 6,
    "start_time": "2024-09-04T18:46:35.169Z"
   },
   {
    "duration": 944,
    "start_time": "2024-09-04T18:51:08.098Z"
   },
   {
    "duration": 13,
    "start_time": "2024-09-04T18:51:15.685Z"
   },
   {
    "duration": 13,
    "start_time": "2024-09-04T18:51:21.350Z"
   },
   {
    "duration": 9,
    "start_time": "2024-09-04T18:51:24.788Z"
   },
   {
    "duration": 9,
    "start_time": "2024-09-04T18:51:27.922Z"
   },
   {
    "duration": 9,
    "start_time": "2024-09-04T18:51:32.286Z"
   },
   {
    "duration": 11,
    "start_time": "2024-09-04T18:55:13.814Z"
   },
   {
    "duration": 329,
    "start_time": "2024-09-04T19:07:01.874Z"
   },
   {
    "duration": 950,
    "start_time": "2024-09-04T19:07:04.478Z"
   },
   {
    "duration": 13,
    "start_time": "2024-09-04T19:07:11.765Z"
   },
   {
    "duration": 12,
    "start_time": "2024-09-04T19:07:19.713Z"
   },
   {
    "duration": 10,
    "start_time": "2024-09-04T19:07:30.443Z"
   },
   {
    "duration": 9,
    "start_time": "2024-09-04T19:07:37.468Z"
   },
   {
    "duration": 10,
    "start_time": "2024-09-04T19:07:45.779Z"
   },
   {
    "duration": 8,
    "start_time": "2024-09-04T19:08:53.626Z"
   },
   {
    "duration": 7,
    "start_time": "2024-09-04T19:14:26.287Z"
   },
   {
    "duration": 7,
    "start_time": "2024-09-04T19:14:43.565Z"
   },
   {
    "duration": 305,
    "start_time": "2024-09-04T19:15:08.561Z"
   },
   {
    "duration": 100,
    "start_time": "2024-09-04T19:17:50.376Z"
   },
   {
    "duration": 103,
    "start_time": "2024-09-04T19:18:04.761Z"
   },
   {
    "duration": 111,
    "start_time": "2024-09-04T19:18:51.506Z"
   },
   {
    "duration": 310,
    "start_time": "2024-09-04T19:19:03.736Z"
   },
   {
    "duration": 61,
    "start_time": "2024-09-04T19:19:38.698Z"
   },
   {
    "duration": 364,
    "start_time": "2024-09-04T19:20:36.268Z"
   },
   {
    "duration": 56,
    "start_time": "2024-09-04T19:21:13.718Z"
   },
   {
    "duration": 89,
    "start_time": "2024-09-04T19:21:45.518Z"
   },
   {
    "duration": 66,
    "start_time": "2024-09-04T19:21:57.185Z"
   },
   {
    "duration": 78,
    "start_time": "2024-09-04T19:24:33.425Z"
   },
   {
    "duration": 7,
    "start_time": "2024-09-04T19:29:09.019Z"
   },
   {
    "duration": 13,
    "start_time": "2024-09-04T19:29:53.094Z"
   },
   {
    "duration": 611,
    "start_time": "2024-09-04T19:30:30.377Z"
   },
   {
    "duration": 11,
    "start_time": "2024-09-04T19:31:31.411Z"
   },
   {
    "duration": 13,
    "start_time": "2024-09-04T19:35:55.751Z"
   },
   {
    "duration": 161,
    "start_time": "2024-09-04T19:36:06.632Z"
   },
   {
    "duration": 13,
    "start_time": "2024-09-04T19:36:35.156Z"
   },
   {
    "duration": 114,
    "start_time": "2024-09-04T19:36:47.442Z"
   },
   {
    "duration": 31,
    "start_time": "2024-09-04T19:37:46.187Z"
   },
   {
    "duration": 32,
    "start_time": "2024-09-04T19:38:15.806Z"
   },
   {
    "duration": 101,
    "start_time": "2024-09-04T19:38:20.404Z"
   },
   {
    "duration": 45,
    "start_time": "2024-09-04T19:38:24.708Z"
   },
   {
    "duration": 22,
    "start_time": "2024-09-04T19:39:29.958Z"
   },
   {
    "duration": 31,
    "start_time": "2024-09-04T19:39:42.285Z"
   },
   {
    "duration": 14,
    "start_time": "2024-09-04T19:39:50.190Z"
   },
   {
    "duration": 4,
    "start_time": "2024-09-04T19:40:33.110Z"
   },
   {
    "duration": 11,
    "start_time": "2024-09-04T19:42:41.610Z"
   },
   {
    "duration": 28,
    "start_time": "2024-09-04T19:43:16.080Z"
   },
   {
    "duration": 4,
    "start_time": "2024-09-04T19:47:06.830Z"
   },
   {
    "duration": 3,
    "start_time": "2024-09-04T19:47:46.077Z"
   },
   {
    "duration": 4,
    "start_time": "2024-09-04T19:50:10.405Z"
   },
   {
    "duration": 4,
    "start_time": "2024-09-04T19:50:36.182Z"
   },
   {
    "duration": 16,
    "start_time": "2024-09-04T19:51:03.277Z"
   },
   {
    "duration": 22,
    "start_time": "2024-09-04T19:51:52.525Z"
   },
   {
    "duration": 4,
    "start_time": "2024-09-04T19:55:36.607Z"
   },
   {
    "duration": 336,
    "start_time": "2024-09-04T19:56:24.591Z"
   },
   {
    "duration": 4,
    "start_time": "2024-09-04T19:57:01.793Z"
   },
   {
    "duration": 889,
    "start_time": "2024-09-04T19:59:06.249Z"
   },
   {
    "duration": 11,
    "start_time": "2024-09-04T19:59:57.981Z"
   },
   {
    "duration": 12,
    "start_time": "2024-09-04T20:00:08.664Z"
   },
   {
    "duration": 11,
    "start_time": "2024-09-04T20:00:43.178Z"
   },
   {
    "duration": 352,
    "start_time": "2024-09-04T20:01:00.168Z"
   },
   {
    "duration": 959,
    "start_time": "2024-09-04T20:01:03.159Z"
   },
   {
    "duration": 22,
    "start_time": "2024-09-04T20:01:07.207Z"
   },
   {
    "duration": 13,
    "start_time": "2024-09-04T20:01:12.482Z"
   },
   {
    "duration": 11,
    "start_time": "2024-09-04T20:01:26.723Z"
   },
   {
    "duration": 10,
    "start_time": "2024-09-04T20:01:31.020Z"
   },
   {
    "duration": 11,
    "start_time": "2024-09-04T20:01:35.049Z"
   },
   {
    "duration": 10,
    "start_time": "2024-09-04T20:01:39.010Z"
   },
   {
    "duration": 8,
    "start_time": "2024-09-04T20:01:42.911Z"
   },
   {
    "duration": 11,
    "start_time": "2024-09-04T20:02:14.397Z"
   },
   {
    "duration": 58,
    "start_time": "2024-09-04T20:02:33.113Z"
   },
   {
    "duration": 18,
    "start_time": "2024-09-04T20:02:43.498Z"
   },
   {
    "duration": 35,
    "start_time": "2024-09-04T20:02:53.587Z"
   },
   {
    "duration": 158,
    "start_time": "2024-09-04T22:41:03.348Z"
   },
   {
    "duration": 156,
    "start_time": "2024-09-04T22:41:25.343Z"
   },
   {
    "duration": 315,
    "start_time": "2024-09-04T22:41:31.325Z"
   },
   {
    "duration": 1033,
    "start_time": "2024-09-04T22:41:35.515Z"
   },
   {
    "duration": 12,
    "start_time": "2024-09-04T22:41:39.019Z"
   },
   {
    "duration": 10,
    "start_time": "2024-09-04T22:41:43.730Z"
   },
   {
    "duration": 9,
    "start_time": "2024-09-04T22:41:48.142Z"
   },
   {
    "duration": 9,
    "start_time": "2024-09-04T22:41:52.512Z"
   },
   {
    "duration": 9,
    "start_time": "2024-09-04T22:41:55.632Z"
   },
   {
    "duration": 353,
    "start_time": "2024-09-04T22:47:52.009Z"
   },
   {
    "duration": 13,
    "start_time": "2024-09-04T22:51:10.656Z"
   },
   {
    "duration": 157,
    "start_time": "2024-09-04T22:51:50.553Z"
   },
   {
    "duration": 86,
    "start_time": "2024-09-04T22:52:30.662Z"
   },
   {
    "duration": 37,
    "start_time": "2024-09-04T22:53:21.517Z"
   },
   {
    "duration": 11,
    "start_time": "2024-09-04T22:53:33.151Z"
   },
   {
    "duration": 85,
    "start_time": "2024-09-04T22:53:42.119Z"
   },
   {
    "duration": 9,
    "start_time": "2024-09-04T22:53:46.788Z"
   },
   {
    "duration": 92,
    "start_time": "2024-09-04T22:54:19.467Z"
   },
   {
    "duration": 86,
    "start_time": "2024-09-04T22:54:25.617Z"
   },
   {
    "duration": 27,
    "start_time": "2024-09-04T22:54:32.455Z"
   },
   {
    "duration": 88,
    "start_time": "2024-09-04T22:55:41.770Z"
   },
   {
    "duration": 75,
    "start_time": "2024-09-04T22:56:01.467Z"
   },
   {
    "duration": 23,
    "start_time": "2024-09-04T22:56:31.703Z"
   },
   {
    "duration": 12,
    "start_time": "2024-09-04T22:56:46.372Z"
   },
   {
    "duration": 4,
    "start_time": "2024-09-04T22:56:50.920Z"
   },
   {
    "duration": 19,
    "start_time": "2024-09-04T22:56:59.036Z"
   },
   {
    "duration": 17,
    "start_time": "2024-09-04T22:57:19.037Z"
   },
   {
    "duration": 20,
    "start_time": "2024-09-04T22:59:47.763Z"
   },
   {
    "duration": 3,
    "start_time": "2024-09-04T23:00:44.169Z"
   },
   {
    "duration": 5,
    "start_time": "2024-09-04T23:00:53.999Z"
   },
   {
    "duration": 6,
    "start_time": "2024-09-04T23:01:27.994Z"
   },
   {
    "duration": 6,
    "start_time": "2024-09-04T23:02:27.184Z"
   },
   {
    "duration": 5,
    "start_time": "2024-09-04T23:08:49.982Z"
   },
   {
    "duration": 7,
    "start_time": "2024-09-04T23:09:04.954Z"
   },
   {
    "duration": 15,
    "start_time": "2024-09-04T23:12:43.214Z"
   },
   {
    "duration": 14,
    "start_time": "2024-09-04T23:13:15.500Z"
   },
   {
    "duration": 326,
    "start_time": "2024-09-04T23:15:16.515Z"
   },
   {
    "duration": 861,
    "start_time": "2024-09-04T23:15:18.570Z"
   },
   {
    "duration": 13,
    "start_time": "2024-09-04T23:15:22.729Z"
   },
   {
    "duration": 10,
    "start_time": "2024-09-04T23:15:26.670Z"
   },
   {
    "duration": 8,
    "start_time": "2024-09-04T23:15:30.127Z"
   },
   {
    "duration": 8,
    "start_time": "2024-09-04T23:15:33.682Z"
   },
   {
    "duration": 11,
    "start_time": "2024-09-04T23:15:36.693Z"
   },
   {
    "duration": 94,
    "start_time": "2024-09-04T23:17:16.580Z"
   },
   {
    "duration": 13,
    "start_time": "2024-09-04T23:17:25.473Z"
   },
   {
    "duration": 100,
    "start_time": "2024-09-04T23:17:36.124Z"
   },
   {
    "duration": 88,
    "start_time": "2024-09-04T23:17:40.355Z"
   },
   {
    "duration": 27,
    "start_time": "2024-09-04T23:17:43.171Z"
   },
   {
    "duration": 11,
    "start_time": "2024-09-04T23:17:50.473Z"
   },
   {
    "duration": 3,
    "start_time": "2024-09-04T23:17:51.650Z"
   },
   {
    "duration": 192,
    "start_time": "2024-09-04T23:17:52.670Z"
   },
   {
    "duration": 26,
    "start_time": "2024-09-04T23:18:03.788Z"
   },
   {
    "duration": 302,
    "start_time": "2024-09-04T23:18:09.174Z"
   },
   {
    "duration": 6,
    "start_time": "2024-09-04T23:18:26.318Z"
   },
   {
    "duration": 29,
    "start_time": "2024-09-04T23:20:12.651Z"
   },
   {
    "duration": 31,
    "start_time": "2024-09-04T23:21:25.068Z"
   },
   {
    "duration": 3,
    "start_time": "2024-09-04T23:21:40.374Z"
   },
   {
    "duration": 3,
    "start_time": "2024-09-04T23:21:44.564Z"
   },
   {
    "duration": 3,
    "start_time": "2024-09-04T23:22:22.570Z"
   },
   {
    "duration": 4,
    "start_time": "2024-09-04T23:22:25.743Z"
   },
   {
    "duration": 761,
    "start_time": "2024-09-04T23:22:52.829Z"
   },
   {
    "duration": 11,
    "start_time": "2024-09-04T23:22:56.397Z"
   },
   {
    "duration": 13,
    "start_time": "2024-09-04T23:26:45.968Z"
   },
   {
    "duration": 76,
    "start_time": "2024-09-04T23:26:54.186Z"
   },
   {
    "duration": 6,
    "start_time": "2024-09-04T23:33:05.592Z"
   },
   {
    "duration": 4,
    "start_time": "2024-09-04T23:33:17.711Z"
   },
   {
    "duration": 13,
    "start_time": "2024-09-04T23:33:38.609Z"
   },
   {
    "duration": 406,
    "start_time": "2024-09-04T23:35:49.549Z"
   },
   {
    "duration": 13,
    "start_time": "2024-09-04T23:36:05.561Z"
   },
   {
    "duration": 13,
    "start_time": "2024-09-04T23:36:17.716Z"
   },
   {
    "duration": 4,
    "start_time": "2024-09-04T23:37:21.580Z"
   },
   {
    "duration": 15,
    "start_time": "2024-09-04T23:39:11.556Z"
   },
   {
    "duration": 4,
    "start_time": "2024-09-04T23:41:15.343Z"
   },
   {
    "duration": 6,
    "start_time": "2024-09-04T23:42:37.405Z"
   },
   {
    "duration": 14,
    "start_time": "2024-09-04T23:43:06.694Z"
   },
   {
    "duration": 10,
    "start_time": "2024-09-04T23:43:38.073Z"
   },
   {
    "duration": 27,
    "start_time": "2024-09-04T23:43:44.937Z"
   },
   {
    "duration": 52,
    "start_time": "2024-09-04T23:45:04.868Z"
   },
   {
    "duration": 33,
    "start_time": "2024-09-04T23:46:03.002Z"
   },
   {
    "duration": 377,
    "start_time": "2024-09-05T15:14:30.157Z"
   },
   {
    "duration": 1527,
    "start_time": "2024-09-05T15:14:30.536Z"
   },
   {
    "duration": 19,
    "start_time": "2024-09-05T15:14:32.064Z"
   },
   {
    "duration": 21,
    "start_time": "2024-09-05T15:14:32.099Z"
   },
   {
    "duration": 10,
    "start_time": "2024-09-05T15:14:32.125Z"
   },
   {
    "duration": 8,
    "start_time": "2024-09-05T15:14:32.137Z"
   },
   {
    "duration": 11,
    "start_time": "2024-09-05T15:14:32.147Z"
   },
   {
    "duration": 166,
    "start_time": "2024-09-05T15:14:32.159Z"
   },
   {
    "duration": 13,
    "start_time": "2024-09-05T15:14:32.330Z"
   },
   {
    "duration": 146,
    "start_time": "2024-09-05T15:14:32.347Z"
   },
   {
    "duration": 134,
    "start_time": "2024-09-05T15:14:32.495Z"
   },
   {
    "duration": 29,
    "start_time": "2024-09-05T15:14:32.630Z"
   },
   {
    "duration": 19,
    "start_time": "2024-09-05T15:14:32.661Z"
   },
   {
    "duration": 10,
    "start_time": "2024-09-05T15:14:32.682Z"
   },
   {
    "duration": 39,
    "start_time": "2024-09-05T15:14:32.694Z"
   },
   {
    "duration": 227,
    "start_time": "2024-09-05T15:14:32.735Z"
   },
   {
    "duration": 0,
    "start_time": "2024-09-05T15:14:32.964Z"
   },
   {
    "duration": 0,
    "start_time": "2024-09-05T15:14:32.965Z"
   },
   {
    "duration": 0,
    "start_time": "2024-09-05T15:14:32.967Z"
   },
   {
    "duration": 0,
    "start_time": "2024-09-05T15:14:32.968Z"
   },
   {
    "duration": 0,
    "start_time": "2024-09-05T15:14:32.990Z"
   },
   {
    "duration": 0,
    "start_time": "2024-09-05T15:14:32.990Z"
   },
   {
    "duration": 0,
    "start_time": "2024-09-05T15:14:32.991Z"
   },
   {
    "duration": 0,
    "start_time": "2024-09-05T15:14:32.992Z"
   },
   {
    "duration": 0,
    "start_time": "2024-09-05T15:14:32.992Z"
   },
   {
    "duration": 0,
    "start_time": "2024-09-05T15:14:32.993Z"
   },
   {
    "duration": 0,
    "start_time": "2024-09-05T15:14:33.002Z"
   },
   {
    "duration": 0,
    "start_time": "2024-09-05T15:14:33.002Z"
   },
   {
    "duration": 0,
    "start_time": "2024-09-05T15:14:33.003Z"
   },
   {
    "duration": 0,
    "start_time": "2024-09-05T15:14:33.004Z"
   },
   {
    "duration": 0,
    "start_time": "2024-09-05T15:14:33.005Z"
   },
   {
    "duration": 0,
    "start_time": "2024-09-05T15:14:33.010Z"
   },
   {
    "duration": 0,
    "start_time": "2024-09-05T15:14:33.010Z"
   },
   {
    "duration": 0,
    "start_time": "2024-09-05T15:14:33.011Z"
   },
   {
    "duration": 9,
    "start_time": "2024-09-05T15:15:19.135Z"
   },
   {
    "duration": 12,
    "start_time": "2024-09-05T15:16:38.499Z"
   },
   {
    "duration": 37,
    "start_time": "2024-09-05T15:20:26.202Z"
   },
   {
    "duration": 6,
    "start_time": "2024-09-05T15:21:15.097Z"
   },
   {
    "duration": 4,
    "start_time": "2024-09-05T15:21:41.975Z"
   },
   {
    "duration": 18,
    "start_time": "2024-09-05T15:21:58.326Z"
   },
   {
    "duration": 4,
    "start_time": "2024-09-05T15:22:26.849Z"
   },
   {
    "duration": 13,
    "start_time": "2024-09-05T15:22:43.622Z"
   },
   {
    "duration": 14,
    "start_time": "2024-09-05T15:23:43.126Z"
   },
   {
    "duration": 4,
    "start_time": "2024-09-05T15:24:55.346Z"
   },
   {
    "duration": 7,
    "start_time": "2024-09-05T15:24:58.774Z"
   },
   {
    "duration": 5,
    "start_time": "2024-09-05T15:25:05.318Z"
   },
   {
    "duration": 7,
    "start_time": "2024-09-05T15:25:08.106Z"
   },
   {
    "duration": 1051,
    "start_time": "2024-09-05T15:25:19.899Z"
   },
   {
    "duration": 248,
    "start_time": "2024-09-05T15:25:27.607Z"
   },
   {
    "duration": 34,
    "start_time": "2024-09-05T15:25:54.659Z"
   },
   {
    "duration": 14,
    "start_time": "2024-09-05T15:26:35.347Z"
   },
   {
    "duration": 29,
    "start_time": "2024-09-05T15:26:47.089Z"
   },
   {
    "duration": 13,
    "start_time": "2024-09-05T15:27:33.218Z"
   },
   {
    "duration": 15,
    "start_time": "2024-09-05T15:27:56.277Z"
   },
   {
    "duration": 9,
    "start_time": "2024-09-05T15:30:12.010Z"
   },
   {
    "duration": 540,
    "start_time": "2024-09-05T15:30:16.655Z"
   },
   {
    "duration": 42,
    "start_time": "2024-09-05T15:30:37.231Z"
   },
   {
    "duration": 5,
    "start_time": "2024-09-05T15:31:28.021Z"
   },
   {
    "duration": 18,
    "start_time": "2024-09-05T15:32:10.615Z"
   },
   {
    "duration": 7,
    "start_time": "2024-09-05T15:32:20.534Z"
   },
   {
    "duration": 15,
    "start_time": "2024-09-05T15:32:40.686Z"
   },
   {
    "duration": 14,
    "start_time": "2024-09-05T15:32:54.283Z"
   },
   {
    "duration": 4,
    "start_time": "2024-09-05T15:33:03.027Z"
   },
   {
    "duration": 4,
    "start_time": "2024-09-05T15:33:33.859Z"
   },
   {
    "duration": 50,
    "start_time": "2024-09-05T15:34:16.880Z"
   },
   {
    "duration": 69,
    "start_time": "2024-09-05T15:34:20.864Z"
   },
   {
    "duration": 9,
    "start_time": "2024-09-05T15:36:22.488Z"
   },
   {
    "duration": 50,
    "start_time": "2024-09-05T15:36:30.251Z"
   },
   {
    "duration": 16,
    "start_time": "2024-09-05T15:37:01.628Z"
   },
   {
    "duration": 18,
    "start_time": "2024-09-05T15:37:12.190Z"
   },
   {
    "duration": 1006,
    "start_time": "2024-09-05T15:37:20.695Z"
   },
   {
    "duration": 95,
    "start_time": "2024-09-05T15:38:32.730Z"
   },
   {
    "duration": 13,
    "start_time": "2024-09-05T15:41:40.414Z"
   },
   {
    "duration": 4,
    "start_time": "2024-09-05T15:44:58.788Z"
   },
   {
    "duration": 13,
    "start_time": "2024-09-05T15:45:44.814Z"
   },
   {
    "duration": 350,
    "start_time": "2024-09-05T15:47:26.282Z"
   },
   {
    "duration": 1099,
    "start_time": "2024-09-05T15:47:26.635Z"
   },
   {
    "duration": 12,
    "start_time": "2024-09-05T15:47:27.736Z"
   },
   {
    "duration": 10,
    "start_time": "2024-09-05T15:47:27.750Z"
   },
   {
    "duration": 20,
    "start_time": "2024-09-05T15:47:27.761Z"
   },
   {
    "duration": 16,
    "start_time": "2024-09-05T15:47:27.785Z"
   },
   {
    "duration": 7,
    "start_time": "2024-09-05T15:47:27.803Z"
   },
   {
    "duration": 110,
    "start_time": "2024-09-05T15:47:27.812Z"
   },
   {
    "duration": 11,
    "start_time": "2024-09-05T15:47:27.923Z"
   },
   {
    "duration": 128,
    "start_time": "2024-09-05T15:47:27.937Z"
   },
   {
    "duration": 116,
    "start_time": "2024-09-05T15:47:28.086Z"
   },
   {
    "duration": 28,
    "start_time": "2024-09-05T15:47:28.205Z"
   },
   {
    "duration": 14,
    "start_time": "2024-09-05T15:47:28.235Z"
   },
   {
    "duration": 3,
    "start_time": "2024-09-05T15:47:28.250Z"
   },
   {
    "duration": 54,
    "start_time": "2024-09-05T15:47:28.255Z"
   },
   {
    "duration": 4,
    "start_time": "2024-09-05T15:47:28.311Z"
   },
   {
    "duration": 0,
    "start_time": "2024-09-05T15:47:28.317Z"
   },
   {
    "duration": 0,
    "start_time": "2024-09-05T15:47:28.318Z"
   },
   {
    "duration": 0,
    "start_time": "2024-09-05T15:47:28.319Z"
   },
   {
    "duration": 0,
    "start_time": "2024-09-05T15:47:28.320Z"
   },
   {
    "duration": 0,
    "start_time": "2024-09-05T15:47:28.321Z"
   },
   {
    "duration": 0,
    "start_time": "2024-09-05T15:47:28.322Z"
   },
   {
    "duration": 0,
    "start_time": "2024-09-05T15:47:28.323Z"
   },
   {
    "duration": 0,
    "start_time": "2024-09-05T15:47:28.324Z"
   },
   {
    "duration": 0,
    "start_time": "2024-09-05T15:47:28.325Z"
   },
   {
    "duration": 0,
    "start_time": "2024-09-05T15:47:28.326Z"
   },
   {
    "duration": 0,
    "start_time": "2024-09-05T15:47:28.327Z"
   },
   {
    "duration": 0,
    "start_time": "2024-09-05T15:47:28.328Z"
   },
   {
    "duration": 0,
    "start_time": "2024-09-05T15:47:28.329Z"
   },
   {
    "duration": 0,
    "start_time": "2024-09-05T15:47:28.330Z"
   },
   {
    "duration": 0,
    "start_time": "2024-09-05T15:47:28.331Z"
   },
   {
    "duration": 0,
    "start_time": "2024-09-05T15:47:28.332Z"
   },
   {
    "duration": 0,
    "start_time": "2024-09-05T15:47:28.333Z"
   },
   {
    "duration": 0,
    "start_time": "2024-09-05T15:47:28.334Z"
   },
   {
    "duration": 3,
    "start_time": "2024-09-05T15:57:35.000Z"
   },
   {
    "duration": 4,
    "start_time": "2024-09-05T15:57:37.893Z"
   },
   {
    "duration": 4,
    "start_time": "2024-09-05T15:57:42.319Z"
   },
   {
    "duration": 3,
    "start_time": "2024-09-05T15:57:45.215Z"
   },
   {
    "duration": 965,
    "start_time": "2024-09-05T15:57:50.526Z"
   },
   {
    "duration": 127,
    "start_time": "2024-09-05T15:57:54.173Z"
   },
   {
    "duration": 211,
    "start_time": "2024-09-05T15:58:00.596Z"
   },
   {
    "duration": 13,
    "start_time": "2024-09-05T15:58:58.816Z"
   },
   {
    "duration": 16,
    "start_time": "2024-09-05T16:00:11.901Z"
   },
   {
    "duration": 6,
    "start_time": "2024-09-05T16:06:16.749Z"
   },
   {
    "duration": 22,
    "start_time": "2024-09-05T16:06:27.183Z"
   },
   {
    "duration": 523,
    "start_time": "2024-09-05T16:09:30.082Z"
   },
   {
    "duration": 13,
    "start_time": "2024-09-05T16:10:02.960Z"
   },
   {
    "duration": 56,
    "start_time": "2024-09-05T16:10:12.805Z"
   },
   {
    "duration": 81,
    "start_time": "2024-09-05T16:10:37.712Z"
   },
   {
    "duration": 13,
    "start_time": "2024-09-05T16:11:22.236Z"
   },
   {
    "duration": 9,
    "start_time": "2024-09-05T16:11:30.696Z"
   },
   {
    "duration": 90,
    "start_time": "2024-09-05T16:11:37.367Z"
   },
   {
    "duration": 12,
    "start_time": "2024-09-05T16:20:58.611Z"
   },
   {
    "duration": 14,
    "start_time": "2024-09-05T16:21:08.234Z"
   },
   {
    "duration": 4,
    "start_time": "2024-09-05T16:22:40.023Z"
   },
   {
    "duration": 65,
    "start_time": "2024-09-05T16:25:37.442Z"
   },
   {
    "duration": 18,
    "start_time": "2024-09-05T16:26:02.055Z"
   },
   {
    "duration": 42,
    "start_time": "2024-09-05T16:26:06.587Z"
   },
   {
    "duration": 3,
    "start_time": "2024-09-05T16:28:34.998Z"
   },
   {
    "duration": 3,
    "start_time": "2024-09-05T16:28:50.094Z"
   },
   {
    "duration": 3,
    "start_time": "2024-09-05T16:29:15.258Z"
   },
   {
    "duration": 26,
    "start_time": "2024-09-05T16:41:32.481Z"
   },
   {
    "duration": 19,
    "start_time": "2024-09-05T16:42:33.840Z"
   },
   {
    "duration": 308,
    "start_time": "2024-09-05T16:45:28.451Z"
   },
   {
    "duration": 4,
    "start_time": "2024-09-05T16:53:59.833Z"
   },
   {
    "duration": 312,
    "start_time": "2024-09-05T18:56:11.203Z"
   },
   {
    "duration": 1089,
    "start_time": "2024-09-05T18:56:11.517Z"
   },
   {
    "duration": 11,
    "start_time": "2024-09-05T18:56:12.607Z"
   },
   {
    "duration": 19,
    "start_time": "2024-09-05T18:56:12.620Z"
   },
   {
    "duration": 7,
    "start_time": "2024-09-05T18:56:12.642Z"
   },
   {
    "duration": 8,
    "start_time": "2024-09-05T18:56:12.651Z"
   },
   {
    "duration": 7,
    "start_time": "2024-09-05T18:56:12.661Z"
   },
   {
    "duration": 121,
    "start_time": "2024-09-05T18:56:12.669Z"
   },
   {
    "duration": 10,
    "start_time": "2024-09-05T18:56:12.792Z"
   },
   {
    "duration": 115,
    "start_time": "2024-09-05T18:56:12.806Z"
   },
   {
    "duration": 94,
    "start_time": "2024-09-05T18:56:12.923Z"
   },
   {
    "duration": 40,
    "start_time": "2024-09-05T18:56:13.018Z"
   },
   {
    "duration": 12,
    "start_time": "2024-09-05T18:56:13.060Z"
   },
   {
    "duration": 4,
    "start_time": "2024-09-05T18:56:13.074Z"
   },
   {
    "duration": 22,
    "start_time": "2024-09-05T18:56:13.080Z"
   },
   {
    "duration": 6,
    "start_time": "2024-09-05T18:56:13.130Z"
   },
   {
    "duration": 0,
    "start_time": "2024-09-05T18:56:13.138Z"
   },
   {
    "duration": 0,
    "start_time": "2024-09-05T18:56:13.140Z"
   },
   {
    "duration": 0,
    "start_time": "2024-09-05T18:56:13.142Z"
   },
   {
    "duration": 0,
    "start_time": "2024-09-05T18:56:13.143Z"
   },
   {
    "duration": 0,
    "start_time": "2024-09-05T18:56:13.144Z"
   },
   {
    "duration": 0,
    "start_time": "2024-09-05T18:56:13.145Z"
   },
   {
    "duration": 0,
    "start_time": "2024-09-05T18:56:13.146Z"
   },
   {
    "duration": 0,
    "start_time": "2024-09-05T18:56:13.148Z"
   },
   {
    "duration": 0,
    "start_time": "2024-09-05T18:56:13.149Z"
   },
   {
    "duration": 0,
    "start_time": "2024-09-05T18:56:13.151Z"
   },
   {
    "duration": 0,
    "start_time": "2024-09-05T18:56:13.153Z"
   },
   {
    "duration": 0,
    "start_time": "2024-09-05T18:56:13.154Z"
   },
   {
    "duration": 0,
    "start_time": "2024-09-05T18:56:13.156Z"
   },
   {
    "duration": 0,
    "start_time": "2024-09-05T18:56:13.157Z"
   },
   {
    "duration": 0,
    "start_time": "2024-09-05T18:56:13.158Z"
   },
   {
    "duration": 0,
    "start_time": "2024-09-05T18:56:13.160Z"
   },
   {
    "duration": 0,
    "start_time": "2024-09-05T18:56:13.161Z"
   },
   {
    "duration": 0,
    "start_time": "2024-09-05T18:56:13.163Z"
   },
   {
    "duration": 0,
    "start_time": "2024-09-05T18:56:13.164Z"
   },
   {
    "duration": 4,
    "start_time": "2024-09-05T18:57:03.031Z"
   },
   {
    "duration": 4,
    "start_time": "2024-09-05T18:57:44.955Z"
   },
   {
    "duration": 3,
    "start_time": "2024-09-05T18:59:42.964Z"
   },
   {
    "duration": 177,
    "start_time": "2024-09-05T19:00:06.163Z"
   },
   {
    "duration": 15,
    "start_time": "2024-09-05T19:00:32.486Z"
   },
   {
    "duration": 14,
    "start_time": "2024-09-05T19:00:59.643Z"
   },
   {
    "duration": 12,
    "start_time": "2024-09-05T19:02:53.643Z"
   },
   {
    "duration": 4,
    "start_time": "2024-09-05T19:04:29.294Z"
   },
   {
    "duration": 3,
    "start_time": "2024-09-05T19:04:32.024Z"
   },
   {
    "duration": 836,
    "start_time": "2024-09-05T19:04:36.554Z"
   },
   {
    "duration": 74,
    "start_time": "2024-09-05T19:04:39.948Z"
   },
   {
    "duration": 11,
    "start_time": "2024-09-05T19:04:58.467Z"
   },
   {
    "duration": 12,
    "start_time": "2024-09-05T19:05:17.442Z"
   },
   {
    "duration": 4,
    "start_time": "2024-09-05T19:13:21.096Z"
   },
   {
    "duration": 4,
    "start_time": "2024-09-05T19:14:03.512Z"
   },
   {
    "duration": 8,
    "start_time": "2024-09-05T19:14:47.940Z"
   },
   {
    "duration": 55,
    "start_time": "2024-09-05T19:14:58.000Z"
   },
   {
    "duration": 19,
    "start_time": "2024-09-05T19:15:08.124Z"
   },
   {
    "duration": 34,
    "start_time": "2024-09-05T19:15:14.827Z"
   },
   {
    "duration": 14,
    "start_time": "2024-09-05T19:15:21.028Z"
   },
   {
    "duration": 308,
    "start_time": "2024-09-05T19:25:10.396Z"
   },
   {
    "duration": 959,
    "start_time": "2024-09-05T19:25:10.707Z"
   },
   {
    "duration": 13,
    "start_time": "2024-09-05T19:25:11.668Z"
   },
   {
    "duration": 12,
    "start_time": "2024-09-05T19:25:11.683Z"
   },
   {
    "duration": 8,
    "start_time": "2024-09-05T19:25:11.699Z"
   },
   {
    "duration": 29,
    "start_time": "2024-09-05T19:25:11.708Z"
   },
   {
    "duration": 7,
    "start_time": "2024-09-05T19:25:11.739Z"
   },
   {
    "duration": 123,
    "start_time": "2024-09-05T19:25:11.748Z"
   },
   {
    "duration": 10,
    "start_time": "2024-09-05T19:25:11.875Z"
   },
   {
    "duration": 147,
    "start_time": "2024-09-05T19:25:11.889Z"
   },
   {
    "duration": 112,
    "start_time": "2024-09-05T19:25:12.037Z"
   },
   {
    "duration": 38,
    "start_time": "2024-09-05T19:25:12.151Z"
   },
   {
    "duration": 16,
    "start_time": "2024-09-05T19:25:12.191Z"
   },
   {
    "duration": 6,
    "start_time": "2024-09-05T19:25:12.209Z"
   },
   {
    "duration": 23,
    "start_time": "2024-09-05T19:25:12.218Z"
   },
   {
    "duration": 189,
    "start_time": "2024-09-05T19:25:12.242Z"
   },
   {
    "duration": 0,
    "start_time": "2024-09-05T19:25:12.433Z"
   },
   {
    "duration": 0,
    "start_time": "2024-09-05T19:25:12.434Z"
   },
   {
    "duration": 0,
    "start_time": "2024-09-05T19:25:12.436Z"
   },
   {
    "duration": 0,
    "start_time": "2024-09-05T19:25:12.437Z"
   },
   {
    "duration": 0,
    "start_time": "2024-09-05T19:25:12.438Z"
   },
   {
    "duration": 0,
    "start_time": "2024-09-05T19:25:12.439Z"
   },
   {
    "duration": 0,
    "start_time": "2024-09-05T19:25:12.440Z"
   },
   {
    "duration": 0,
    "start_time": "2024-09-05T19:25:12.441Z"
   },
   {
    "duration": 0,
    "start_time": "2024-09-05T19:25:12.442Z"
   },
   {
    "duration": 0,
    "start_time": "2024-09-05T19:25:12.443Z"
   },
   {
    "duration": 0,
    "start_time": "2024-09-05T19:25:12.445Z"
   },
   {
    "duration": 0,
    "start_time": "2024-09-05T19:25:12.446Z"
   },
   {
    "duration": 0,
    "start_time": "2024-09-05T19:25:12.447Z"
   },
   {
    "duration": 0,
    "start_time": "2024-09-05T19:25:12.448Z"
   },
   {
    "duration": 0,
    "start_time": "2024-09-05T19:25:12.449Z"
   },
   {
    "duration": 0,
    "start_time": "2024-09-05T19:25:12.450Z"
   },
   {
    "duration": 0,
    "start_time": "2024-09-05T19:25:12.451Z"
   },
   {
    "duration": 0,
    "start_time": "2024-09-05T19:25:12.452Z"
   },
   {
    "duration": 0,
    "start_time": "2024-09-05T19:25:12.454Z"
   },
   {
    "duration": 4,
    "start_time": "2024-09-05T19:26:48.926Z"
   },
   {
    "duration": 3,
    "start_time": "2024-09-05T19:26:51.431Z"
   },
   {
    "duration": 5,
    "start_time": "2024-09-05T19:26:56.408Z"
   },
   {
    "duration": 4,
    "start_time": "2024-09-05T19:26:59.232Z"
   },
   {
    "duration": 800,
    "start_time": "2024-09-05T19:27:06.301Z"
   },
   {
    "duration": 80,
    "start_time": "2024-09-05T19:27:09.892Z"
   },
   {
    "duration": 12,
    "start_time": "2024-09-05T19:27:18.894Z"
   },
   {
    "duration": 293,
    "start_time": "2024-09-05T21:55:29.976Z"
   },
   {
    "duration": 1029,
    "start_time": "2024-09-05T21:55:30.271Z"
   },
   {
    "duration": 15,
    "start_time": "2024-09-05T21:55:31.302Z"
   },
   {
    "duration": 9,
    "start_time": "2024-09-05T21:55:31.320Z"
   },
   {
    "duration": 7,
    "start_time": "2024-09-05T21:55:31.331Z"
   },
   {
    "duration": 7,
    "start_time": "2024-09-05T21:55:31.340Z"
   },
   {
    "duration": 7,
    "start_time": "2024-09-05T21:55:31.348Z"
   },
   {
    "duration": 126,
    "start_time": "2024-09-05T21:55:31.356Z"
   },
   {
    "duration": 11,
    "start_time": "2024-09-05T21:55:31.484Z"
   },
   {
    "duration": 101,
    "start_time": "2024-09-05T21:55:31.508Z"
   },
   {
    "duration": 84,
    "start_time": "2024-09-05T21:55:31.611Z"
   },
   {
    "duration": 39,
    "start_time": "2024-09-05T21:55:31.697Z"
   },
   {
    "duration": 12,
    "start_time": "2024-09-05T21:55:31.738Z"
   },
   {
    "duration": 3,
    "start_time": "2024-09-05T21:55:31.752Z"
   },
   {
    "duration": 19,
    "start_time": "2024-09-05T21:55:31.756Z"
   },
   {
    "duration": 204,
    "start_time": "2024-09-05T21:55:31.777Z"
   },
   {
    "duration": 0,
    "start_time": "2024-09-05T21:55:31.983Z"
   },
   {
    "duration": 0,
    "start_time": "2024-09-05T21:55:31.985Z"
   },
   {
    "duration": 0,
    "start_time": "2024-09-05T21:55:31.986Z"
   },
   {
    "duration": 0,
    "start_time": "2024-09-05T21:55:31.987Z"
   },
   {
    "duration": 0,
    "start_time": "2024-09-05T21:55:31.988Z"
   },
   {
    "duration": 0,
    "start_time": "2024-09-05T21:55:31.989Z"
   },
   {
    "duration": 0,
    "start_time": "2024-09-05T21:55:31.990Z"
   },
   {
    "duration": 0,
    "start_time": "2024-09-05T21:55:31.991Z"
   },
   {
    "duration": 0,
    "start_time": "2024-09-05T21:55:32.009Z"
   },
   {
    "duration": 0,
    "start_time": "2024-09-05T21:55:32.010Z"
   },
   {
    "duration": 0,
    "start_time": "2024-09-05T21:55:32.012Z"
   },
   {
    "duration": 0,
    "start_time": "2024-09-05T21:55:32.013Z"
   },
   {
    "duration": 0,
    "start_time": "2024-09-05T21:55:32.014Z"
   },
   {
    "duration": 0,
    "start_time": "2024-09-05T21:55:32.016Z"
   },
   {
    "duration": 0,
    "start_time": "2024-09-05T21:55:32.017Z"
   },
   {
    "duration": 0,
    "start_time": "2024-09-05T21:55:32.017Z"
   },
   {
    "duration": 0,
    "start_time": "2024-09-05T21:55:32.019Z"
   },
   {
    "duration": 0,
    "start_time": "2024-09-05T21:55:32.020Z"
   },
   {
    "duration": 0,
    "start_time": "2024-09-05T21:55:32.021Z"
   },
   {
    "duration": 13,
    "start_time": "2024-09-05T22:11:20.889Z"
   },
   {
    "duration": 320,
    "start_time": "2024-09-05T22:12:00.699Z"
   },
   {
    "duration": 900,
    "start_time": "2024-09-05T22:12:01.021Z"
   },
   {
    "duration": 13,
    "start_time": "2024-09-05T22:12:01.923Z"
   },
   {
    "duration": 8,
    "start_time": "2024-09-05T22:12:01.939Z"
   },
   {
    "duration": 8,
    "start_time": "2024-09-05T22:12:01.949Z"
   },
   {
    "duration": 10,
    "start_time": "2024-09-05T22:12:01.959Z"
   },
   {
    "duration": 44,
    "start_time": "2024-09-05T22:12:01.971Z"
   },
   {
    "duration": 126,
    "start_time": "2024-09-05T22:12:02.017Z"
   },
   {
    "duration": 11,
    "start_time": "2024-09-05T22:12:02.145Z"
   },
   {
    "duration": 149,
    "start_time": "2024-09-05T22:12:02.160Z"
   },
   {
    "duration": 106,
    "start_time": "2024-09-05T22:12:02.311Z"
   },
   {
    "duration": 34,
    "start_time": "2024-09-05T22:12:02.419Z"
   },
   {
    "duration": 13,
    "start_time": "2024-09-05T22:12:02.454Z"
   },
   {
    "duration": 4,
    "start_time": "2024-09-05T22:12:02.468Z"
   },
   {
    "duration": 43,
    "start_time": "2024-09-05T22:12:02.474Z"
   },
   {
    "duration": 211,
    "start_time": "2024-09-05T22:12:02.518Z"
   },
   {
    "duration": 0,
    "start_time": "2024-09-05T22:12:02.731Z"
   },
   {
    "duration": 0,
    "start_time": "2024-09-05T22:12:02.734Z"
   },
   {
    "duration": 0,
    "start_time": "2024-09-05T22:12:02.735Z"
   },
   {
    "duration": 0,
    "start_time": "2024-09-05T22:12:02.737Z"
   },
   {
    "duration": 0,
    "start_time": "2024-09-05T22:12:02.738Z"
   },
   {
    "duration": 0,
    "start_time": "2024-09-05T22:12:02.740Z"
   },
   {
    "duration": 0,
    "start_time": "2024-09-05T22:12:02.741Z"
   },
   {
    "duration": 0,
    "start_time": "2024-09-05T22:12:02.742Z"
   },
   {
    "duration": 0,
    "start_time": "2024-09-05T22:12:02.743Z"
   },
   {
    "duration": 0,
    "start_time": "2024-09-05T22:12:02.745Z"
   },
   {
    "duration": 0,
    "start_time": "2024-09-05T22:12:02.746Z"
   },
   {
    "duration": 0,
    "start_time": "2024-09-05T22:12:02.747Z"
   },
   {
    "duration": 0,
    "start_time": "2024-09-05T22:12:02.748Z"
   },
   {
    "duration": 0,
    "start_time": "2024-09-05T22:12:02.749Z"
   },
   {
    "duration": 0,
    "start_time": "2024-09-05T22:12:02.750Z"
   },
   {
    "duration": 0,
    "start_time": "2024-09-05T22:12:02.751Z"
   },
   {
    "duration": 0,
    "start_time": "2024-09-05T22:12:02.752Z"
   },
   {
    "duration": 0,
    "start_time": "2024-09-05T22:12:02.753Z"
   },
   {
    "duration": 0,
    "start_time": "2024-09-05T22:12:02.754Z"
   },
   {
    "duration": 293,
    "start_time": "2024-09-05T22:14:11.089Z"
   },
   {
    "duration": 863,
    "start_time": "2024-09-05T22:14:11.384Z"
   },
   {
    "duration": 12,
    "start_time": "2024-09-05T22:14:12.249Z"
   },
   {
    "duration": 11,
    "start_time": "2024-09-05T22:14:12.263Z"
   },
   {
    "duration": 8,
    "start_time": "2024-09-05T22:14:12.276Z"
   },
   {
    "duration": 29,
    "start_time": "2024-09-05T22:14:12.286Z"
   },
   {
    "duration": 7,
    "start_time": "2024-09-05T22:14:12.317Z"
   },
   {
    "duration": 117,
    "start_time": "2024-09-05T22:14:12.326Z"
   },
   {
    "duration": 11,
    "start_time": "2024-09-05T22:14:12.445Z"
   },
   {
    "duration": 116,
    "start_time": "2024-09-05T22:14:12.460Z"
   },
   {
    "duration": 96,
    "start_time": "2024-09-05T22:14:12.578Z"
   },
   {
    "duration": 36,
    "start_time": "2024-09-05T22:14:12.675Z"
   },
   {
    "duration": 12,
    "start_time": "2024-09-05T22:14:12.713Z"
   },
   {
    "duration": 4,
    "start_time": "2024-09-05T22:14:12.726Z"
   },
   {
    "duration": 20,
    "start_time": "2024-09-05T22:14:12.731Z"
   },
   {
    "duration": 16,
    "start_time": "2024-09-05T22:14:12.752Z"
   },
   {
    "duration": 5,
    "start_time": "2024-09-05T22:14:12.770Z"
   },
   {
    "duration": 3,
    "start_time": "2024-09-05T22:14:12.776Z"
   },
   {
    "duration": 3,
    "start_time": "2024-09-05T22:14:12.809Z"
   },
   {
    "duration": 4,
    "start_time": "2024-09-05T22:14:12.814Z"
   },
   {
    "duration": 767,
    "start_time": "2024-09-05T22:14:12.820Z"
   },
   {
    "duration": 85,
    "start_time": "2024-09-05T22:14:13.589Z"
   },
   {
    "duration": 5,
    "start_time": "2024-09-05T22:14:13.676Z"
   },
   {
    "duration": 5,
    "start_time": "2024-09-05T22:14:13.683Z"
   },
   {
    "duration": 1,
    "start_time": "2024-09-05T22:14:13.689Z"
   },
   {
    "duration": 0,
    "start_time": "2024-09-05T22:14:13.709Z"
   },
   {
    "duration": 0,
    "start_time": "2024-09-05T22:14:13.711Z"
   },
   {
    "duration": 0,
    "start_time": "2024-09-05T22:14:13.712Z"
   },
   {
    "duration": 0,
    "start_time": "2024-09-05T22:14:13.714Z"
   },
   {
    "duration": 0,
    "start_time": "2024-09-05T22:14:13.715Z"
   },
   {
    "duration": 0,
    "start_time": "2024-09-05T22:14:13.717Z"
   },
   {
    "duration": 0,
    "start_time": "2024-09-05T22:14:13.718Z"
   },
   {
    "duration": 0,
    "start_time": "2024-09-05T22:14:13.719Z"
   },
   {
    "duration": 0,
    "start_time": "2024-09-05T22:14:13.720Z"
   },
   {
    "duration": 0,
    "start_time": "2024-09-05T22:14:13.721Z"
   },
   {
    "duration": 322,
    "start_time": "2024-09-05T22:14:51.506Z"
   },
   {
    "duration": 871,
    "start_time": "2024-09-05T22:14:51.830Z"
   },
   {
    "duration": 13,
    "start_time": "2024-09-05T22:14:52.703Z"
   },
   {
    "duration": 10,
    "start_time": "2024-09-05T22:14:52.719Z"
   },
   {
    "duration": 8,
    "start_time": "2024-09-05T22:14:52.731Z"
   },
   {
    "duration": 8,
    "start_time": "2024-09-05T22:14:52.740Z"
   },
   {
    "duration": 6,
    "start_time": "2024-09-05T22:14:52.750Z"
   },
   {
    "duration": 128,
    "start_time": "2024-09-05T22:14:52.758Z"
   },
   {
    "duration": 10,
    "start_time": "2024-09-05T22:14:52.888Z"
   },
   {
    "duration": 108,
    "start_time": "2024-09-05T22:14:52.910Z"
   },
   {
    "duration": 95,
    "start_time": "2024-09-05T22:14:53.020Z"
   },
   {
    "duration": 32,
    "start_time": "2024-09-05T22:14:53.117Z"
   },
   {
    "duration": 14,
    "start_time": "2024-09-05T22:14:53.151Z"
   },
   {
    "duration": 4,
    "start_time": "2024-09-05T22:14:53.167Z"
   },
   {
    "duration": 47,
    "start_time": "2024-09-05T22:14:53.172Z"
   },
   {
    "duration": 16,
    "start_time": "2024-09-05T22:14:53.221Z"
   },
   {
    "duration": 3,
    "start_time": "2024-09-05T22:14:53.239Z"
   },
   {
    "duration": 4,
    "start_time": "2024-09-05T22:14:53.244Z"
   },
   {
    "duration": 4,
    "start_time": "2024-09-05T22:14:53.249Z"
   },
   {
    "duration": 3,
    "start_time": "2024-09-05T22:14:53.255Z"
   },
   {
    "duration": 791,
    "start_time": "2024-09-05T22:14:53.260Z"
   },
   {
    "duration": 137,
    "start_time": "2024-09-05T22:14:54.053Z"
   },
   {
    "duration": 5,
    "start_time": "2024-09-05T22:14:54.192Z"
   },
   {
    "duration": 11,
    "start_time": "2024-09-05T22:14:54.200Z"
   },
   {
    "duration": 0,
    "start_time": "2024-09-05T22:14:54.213Z"
   },
   {
    "duration": 0,
    "start_time": "2024-09-05T22:14:54.214Z"
   },
   {
    "duration": 0,
    "start_time": "2024-09-05T22:14:54.216Z"
   },
   {
    "duration": 0,
    "start_time": "2024-09-05T22:14:54.217Z"
   },
   {
    "duration": 0,
    "start_time": "2024-09-05T22:14:54.218Z"
   },
   {
    "duration": 0,
    "start_time": "2024-09-05T22:14:54.219Z"
   },
   {
    "duration": 0,
    "start_time": "2024-09-05T22:14:54.220Z"
   },
   {
    "duration": 0,
    "start_time": "2024-09-05T22:14:54.221Z"
   },
   {
    "duration": 0,
    "start_time": "2024-09-05T22:14:54.222Z"
   },
   {
    "duration": 0,
    "start_time": "2024-09-05T22:14:54.223Z"
   },
   {
    "duration": 0,
    "start_time": "2024-09-05T22:14:54.225Z"
   },
   {
    "duration": 554,
    "start_time": "2024-09-05T22:16:15.582Z"
   },
   {
    "duration": 4,
    "start_time": "2024-09-05T22:18:00.883Z"
   },
   {
    "duration": 5,
    "start_time": "2024-09-05T22:18:20.287Z"
   },
   {
    "duration": 44,
    "start_time": "2024-09-05T22:18:44.982Z"
   },
   {
    "duration": 330,
    "start_time": "2024-09-06T02:05:51.765Z"
   },
   {
    "duration": 1059,
    "start_time": "2024-09-06T02:05:52.098Z"
   },
   {
    "duration": 13,
    "start_time": "2024-09-06T02:05:53.159Z"
   },
   {
    "duration": 11,
    "start_time": "2024-09-06T02:05:53.173Z"
   },
   {
    "duration": 28,
    "start_time": "2024-09-06T02:05:53.186Z"
   },
   {
    "duration": 8,
    "start_time": "2024-09-06T02:05:53.216Z"
   },
   {
    "duration": 7,
    "start_time": "2024-09-06T02:05:53.226Z"
   },
   {
    "duration": 136,
    "start_time": "2024-09-06T02:05:53.235Z"
   },
   {
    "duration": 11,
    "start_time": "2024-09-06T02:05:53.373Z"
   },
   {
    "duration": 128,
    "start_time": "2024-09-06T02:05:53.386Z"
   },
   {
    "duration": 103,
    "start_time": "2024-09-06T02:05:53.516Z"
   },
   {
    "duration": 32,
    "start_time": "2024-09-06T02:05:53.622Z"
   },
   {
    "duration": 13,
    "start_time": "2024-09-06T02:05:53.656Z"
   },
   {
    "duration": 4,
    "start_time": "2024-09-06T02:05:53.673Z"
   },
   {
    "duration": 45,
    "start_time": "2024-09-06T02:05:53.679Z"
   },
   {
    "duration": 17,
    "start_time": "2024-09-06T02:05:53.726Z"
   },
   {
    "duration": 3,
    "start_time": "2024-09-06T02:05:53.745Z"
   },
   {
    "duration": 4,
    "start_time": "2024-09-06T02:05:53.750Z"
   },
   {
    "duration": 5,
    "start_time": "2024-09-06T02:05:53.755Z"
   },
   {
    "duration": 3,
    "start_time": "2024-09-06T02:05:53.762Z"
   },
   {
    "duration": 891,
    "start_time": "2024-09-06T02:05:53.768Z"
   },
   {
    "duration": 155,
    "start_time": "2024-09-06T02:05:54.661Z"
   },
   {
    "duration": 6,
    "start_time": "2024-09-06T02:05:54.817Z"
   },
   {
    "duration": 628,
    "start_time": "2024-09-06T02:05:54.825Z"
   },
   {
    "duration": 0,
    "start_time": "2024-09-06T02:05:55.455Z"
   },
   {
    "duration": 0,
    "start_time": "2024-09-06T02:05:55.456Z"
   },
   {
    "duration": 0,
    "start_time": "2024-09-06T02:05:55.457Z"
   },
   {
    "duration": 0,
    "start_time": "2024-09-06T02:05:55.459Z"
   },
   {
    "duration": 0,
    "start_time": "2024-09-06T02:05:55.460Z"
   },
   {
    "duration": 0,
    "start_time": "2024-09-06T02:05:55.461Z"
   },
   {
    "duration": 0,
    "start_time": "2024-09-06T02:05:55.462Z"
   },
   {
    "duration": 0,
    "start_time": "2024-09-06T02:05:55.463Z"
   },
   {
    "duration": 0,
    "start_time": "2024-09-06T02:05:55.464Z"
   },
   {
    "duration": 0,
    "start_time": "2024-09-06T02:05:55.465Z"
   },
   {
    "duration": 0,
    "start_time": "2024-09-06T02:05:55.466Z"
   },
   {
    "duration": 45,
    "start_time": "2024-09-06T02:20:40.481Z"
   },
   {
    "duration": 6,
    "start_time": "2024-09-06T02:21:11.237Z"
   },
   {
    "duration": 5,
    "start_time": "2024-09-06T02:21:28.505Z"
   },
   {
    "duration": 43,
    "start_time": "2024-09-06T03:20:25.153Z"
   },
   {
    "duration": 7,
    "start_time": "2024-09-06T03:21:28.017Z"
   },
   {
    "duration": 13,
    "start_time": "2024-09-06T03:21:56.291Z"
   },
   {
    "duration": 10,
    "start_time": "2024-09-06T03:22:05.776Z"
   },
   {
    "duration": 319,
    "start_time": "2024-09-06T16:14:13.137Z"
   },
   {
    "duration": 1014,
    "start_time": "2024-09-06T16:14:13.458Z"
   },
   {
    "duration": 12,
    "start_time": "2024-09-06T16:14:14.474Z"
   },
   {
    "duration": 9,
    "start_time": "2024-09-06T16:14:14.488Z"
   },
   {
    "duration": 7,
    "start_time": "2024-09-06T16:14:14.499Z"
   },
   {
    "duration": 7,
    "start_time": "2024-09-06T16:14:14.532Z"
   },
   {
    "duration": 9,
    "start_time": "2024-09-06T16:14:14.541Z"
   },
   {
    "duration": 112,
    "start_time": "2024-09-06T16:14:14.553Z"
   },
   {
    "duration": 12,
    "start_time": "2024-09-06T16:14:14.667Z"
   },
   {
    "duration": 124,
    "start_time": "2024-09-06T16:14:14.682Z"
   },
   {
    "duration": 105,
    "start_time": "2024-09-06T16:14:14.807Z"
   },
   {
    "duration": 38,
    "start_time": "2024-09-06T16:14:14.914Z"
   },
   {
    "duration": 12,
    "start_time": "2024-09-06T16:14:14.955Z"
   },
   {
    "duration": 3,
    "start_time": "2024-09-06T16:14:14.969Z"
   },
   {
    "duration": 20,
    "start_time": "2024-09-06T16:14:14.974Z"
   },
   {
    "duration": 36,
    "start_time": "2024-09-06T16:14:14.995Z"
   },
   {
    "duration": 4,
    "start_time": "2024-09-06T16:14:15.033Z"
   },
   {
    "duration": 3,
    "start_time": "2024-09-06T16:14:15.039Z"
   },
   {
    "duration": 4,
    "start_time": "2024-09-06T16:14:15.043Z"
   },
   {
    "duration": 3,
    "start_time": "2024-09-06T16:14:15.049Z"
   },
   {
    "duration": 807,
    "start_time": "2024-09-06T16:14:15.054Z"
   },
   {
    "duration": 98,
    "start_time": "2024-09-06T16:14:15.863Z"
   },
   {
    "duration": 5,
    "start_time": "2024-09-06T16:14:15.963Z"
   },
   {
    "duration": 11,
    "start_time": "2024-09-06T16:14:15.970Z"
   },
   {
    "duration": 6,
    "start_time": "2024-09-06T16:14:15.983Z"
   },
   {
    "duration": 2,
    "start_time": "2024-09-06T16:14:15.991Z"
   },
   {
    "duration": 3,
    "start_time": "2024-09-06T16:14:15.995Z"
   },
   {
    "duration": 0,
    "start_time": "2024-09-06T16:14:16.032Z"
   },
   {
    "duration": 0,
    "start_time": "2024-09-06T16:14:16.034Z"
   },
   {
    "duration": 0,
    "start_time": "2024-09-06T16:14:16.035Z"
   },
   {
    "duration": 0,
    "start_time": "2024-09-06T16:14:16.036Z"
   },
   {
    "duration": 0,
    "start_time": "2024-09-06T16:14:16.037Z"
   },
   {
    "duration": 0,
    "start_time": "2024-09-06T16:14:16.039Z"
   },
   {
    "duration": 0,
    "start_time": "2024-09-06T16:14:16.040Z"
   },
   {
    "duration": 0,
    "start_time": "2024-09-06T16:14:16.041Z"
   },
   {
    "duration": 0,
    "start_time": "2024-09-06T16:14:16.043Z"
   },
   {
    "duration": 9,
    "start_time": "2024-09-06T16:19:21.086Z"
   },
   {
    "duration": 182,
    "start_time": "2024-09-06T16:27:51.361Z"
   },
   {
    "duration": 13,
    "start_time": "2024-09-06T16:28:05.155Z"
   },
   {
    "duration": 400,
    "start_time": "2024-09-06T16:28:18.670Z"
   },
   {
    "duration": 6,
    "start_time": "2024-09-06T16:28:35.888Z"
   },
   {
    "duration": 122,
    "start_time": "2024-09-06T16:30:01.834Z"
   },
   {
    "duration": 6,
    "start_time": "2024-09-06T16:30:10.199Z"
   },
   {
    "duration": 341,
    "start_time": "2024-09-06T16:32:09.144Z"
   },
   {
    "duration": 897,
    "start_time": "2024-09-06T16:32:09.487Z"
   },
   {
    "duration": 13,
    "start_time": "2024-09-06T16:32:10.385Z"
   },
   {
    "duration": 12,
    "start_time": "2024-09-06T16:32:10.400Z"
   },
   {
    "duration": 9,
    "start_time": "2024-09-06T16:32:10.430Z"
   },
   {
    "duration": 7,
    "start_time": "2024-09-06T16:32:10.440Z"
   },
   {
    "duration": 7,
    "start_time": "2024-09-06T16:32:10.449Z"
   },
   {
    "duration": 126,
    "start_time": "2024-09-06T16:32:10.457Z"
   },
   {
    "duration": 11,
    "start_time": "2024-09-06T16:32:10.586Z"
   },
   {
    "duration": 130,
    "start_time": "2024-09-06T16:32:10.598Z"
   },
   {
    "duration": 100,
    "start_time": "2024-09-06T16:32:10.731Z"
   },
   {
    "duration": 34,
    "start_time": "2024-09-06T16:32:10.833Z"
   },
   {
    "duration": 13,
    "start_time": "2024-09-06T16:32:10.868Z"
   },
   {
    "duration": 3,
    "start_time": "2024-09-06T16:32:10.885Z"
   },
   {
    "duration": 49,
    "start_time": "2024-09-06T16:32:10.890Z"
   },
   {
    "duration": 16,
    "start_time": "2024-09-06T16:32:10.943Z"
   },
   {
    "duration": 4,
    "start_time": "2024-09-06T16:32:10.961Z"
   },
   {
    "duration": 4,
    "start_time": "2024-09-06T16:32:10.966Z"
   },
   {
    "duration": 4,
    "start_time": "2024-09-06T16:32:10.971Z"
   },
   {
    "duration": 4,
    "start_time": "2024-09-06T16:32:10.977Z"
   },
   {
    "duration": 848,
    "start_time": "2024-09-06T16:32:10.983Z"
   },
   {
    "duration": 87,
    "start_time": "2024-09-06T16:32:11.833Z"
   },
   {
    "duration": 5,
    "start_time": "2024-09-06T16:32:11.930Z"
   },
   {
    "duration": 10,
    "start_time": "2024-09-06T16:32:11.937Z"
   },
   {
    "duration": 11,
    "start_time": "2024-09-06T16:32:11.949Z"
   },
   {
    "duration": 7,
    "start_time": "2024-09-06T16:32:11.963Z"
   },
   {
    "duration": 5,
    "start_time": "2024-09-06T16:32:11.972Z"
   },
   {
    "duration": 8,
    "start_time": "2024-09-06T16:32:11.979Z"
   },
   {
    "duration": 73,
    "start_time": "2024-09-06T16:32:11.990Z"
   },
   {
    "duration": 16,
    "start_time": "2024-09-06T16:32:12.065Z"
   },
   {
    "duration": 32,
    "start_time": "2024-09-06T16:32:12.082Z"
   },
   {
    "duration": 7,
    "start_time": "2024-09-06T16:32:12.132Z"
   },
   {
    "duration": 0,
    "start_time": "2024-09-06T16:32:12.141Z"
   },
   {
    "duration": 0,
    "start_time": "2024-09-06T16:32:12.142Z"
   },
   {
    "duration": 0,
    "start_time": "2024-09-06T16:32:12.144Z"
   },
   {
    "duration": 5,
    "start_time": "2024-09-06T16:39:47.352Z"
   },
   {
    "duration": 6,
    "start_time": "2024-09-06T16:53:12.263Z"
   },
   {
    "duration": 4,
    "start_time": "2024-09-06T16:53:22.933Z"
   },
   {
    "duration": 63,
    "start_time": "2024-09-06T16:54:26.053Z"
   },
   {
    "duration": 243,
    "start_time": "2024-09-06T16:55:10.139Z"
   },
   {
    "duration": 73,
    "start_time": "2024-09-06T16:55:16.756Z"
   },
   {
    "duration": 131,
    "start_time": "2024-09-06T16:55:35.012Z"
   },
   {
    "duration": 74,
    "start_time": "2024-09-06T16:55:43.064Z"
   },
   {
    "duration": 58,
    "start_time": "2024-09-06T16:56:10.551Z"
   },
   {
    "duration": 15,
    "start_time": "2024-09-06T16:57:05.131Z"
   },
   {
    "duration": 63,
    "start_time": "2024-09-06T16:57:18.319Z"
   },
   {
    "duration": 63,
    "start_time": "2024-09-06T16:58:10.453Z"
   },
   {
    "duration": 389,
    "start_time": "2024-09-06T16:59:26.673Z"
   },
   {
    "duration": 10,
    "start_time": "2024-09-06T17:00:14.507Z"
   },
   {
    "duration": 3,
    "start_time": "2024-09-06T17:00:18.204Z"
   },
   {
    "duration": 476,
    "start_time": "2024-09-06T17:00:38.005Z"
   },
   {
    "duration": 30,
    "start_time": "2024-09-06T17:16:04.079Z"
   },
   {
    "duration": 37,
    "start_time": "2024-09-06T17:16:32.555Z"
   },
   {
    "duration": 307,
    "start_time": "2024-09-06T17:17:06.954Z"
   },
   {
    "duration": 75,
    "start_time": "2024-09-06T17:17:22.517Z"
   },
   {
    "duration": 39,
    "start_time": "2024-09-06T17:17:55.923Z"
   },
   {
    "duration": 10,
    "start_time": "2024-09-06T17:18:36.220Z"
   },
   {
    "duration": 7,
    "start_time": "2024-09-06T17:19:04.291Z"
   },
   {
    "duration": 39,
    "start_time": "2024-09-06T17:19:52.300Z"
   },
   {
    "duration": 9,
    "start_time": "2024-09-06T17:20:20.907Z"
   },
   {
    "duration": 15,
    "start_time": "2024-09-06T17:21:25.978Z"
   },
   {
    "duration": 10,
    "start_time": "2024-09-06T17:21:52.602Z"
   },
   {
    "duration": 37,
    "start_time": "2024-09-06T17:22:09.865Z"
   },
   {
    "duration": 4,
    "start_time": "2024-09-06T17:22:43.131Z"
   },
   {
    "duration": 3,
    "start_time": "2024-09-06T17:23:05.911Z"
   },
   {
    "duration": 1875,
    "start_time": "2024-09-06T17:26:32.678Z"
   },
   {
    "duration": 107,
    "start_time": "2024-09-06T17:28:19.737Z"
   },
   {
    "duration": 11,
    "start_time": "2024-09-06T17:28:57.583Z"
   },
   {
    "duration": 3,
    "start_time": "2024-09-06T17:29:01.531Z"
   },
   {
    "duration": 646,
    "start_time": "2024-09-06T17:34:24.877Z"
   },
   {
    "duration": 351,
    "start_time": "2024-09-06T17:34:36.846Z"
   },
   {
    "duration": 1069,
    "start_time": "2024-09-06T17:34:37.200Z"
   },
   {
    "duration": 13,
    "start_time": "2024-09-06T17:34:38.271Z"
   },
   {
    "duration": 10,
    "start_time": "2024-09-06T17:34:38.286Z"
   },
   {
    "duration": 9,
    "start_time": "2024-09-06T17:34:38.298Z"
   },
   {
    "duration": 11,
    "start_time": "2024-09-06T17:34:38.330Z"
   },
   {
    "duration": 7,
    "start_time": "2024-09-06T17:34:38.343Z"
   },
   {
    "duration": 110,
    "start_time": "2024-09-06T17:34:38.352Z"
   },
   {
    "duration": 9,
    "start_time": "2024-09-06T17:34:38.464Z"
   },
   {
    "duration": 119,
    "start_time": "2024-09-06T17:34:38.475Z"
   },
   {
    "duration": 97,
    "start_time": "2024-09-06T17:34:38.596Z"
   },
   {
    "duration": 35,
    "start_time": "2024-09-06T17:34:38.696Z"
   },
   {
    "duration": 12,
    "start_time": "2024-09-06T17:34:38.733Z"
   },
   {
    "duration": 3,
    "start_time": "2024-09-06T17:34:38.749Z"
   },
   {
    "duration": 18,
    "start_time": "2024-09-06T17:34:38.753Z"
   },
   {
    "duration": 16,
    "start_time": "2024-09-06T17:34:38.773Z"
   },
   {
    "duration": 4,
    "start_time": "2024-09-06T17:34:38.791Z"
   },
   {
    "duration": 35,
    "start_time": "2024-09-06T17:34:38.796Z"
   },
   {
    "duration": 4,
    "start_time": "2024-09-06T17:34:38.833Z"
   },
   {
    "duration": 3,
    "start_time": "2024-09-06T17:34:38.838Z"
   },
   {
    "duration": 788,
    "start_time": "2024-09-06T17:34:38.843Z"
   },
   {
    "duration": 69,
    "start_time": "2024-09-06T17:34:39.632Z"
   },
   {
    "duration": 5,
    "start_time": "2024-09-06T17:34:39.703Z"
   },
   {
    "duration": 23,
    "start_time": "2024-09-06T17:34:39.709Z"
   },
   {
    "duration": 9,
    "start_time": "2024-09-06T17:34:39.733Z"
   },
   {
    "duration": 23,
    "start_time": "2024-09-06T17:34:39.744Z"
   },
   {
    "duration": 12,
    "start_time": "2024-09-06T17:34:39.768Z"
   },
   {
    "duration": 6,
    "start_time": "2024-09-06T17:34:39.781Z"
   },
   {
    "duration": 45,
    "start_time": "2024-09-06T17:34:39.789Z"
   },
   {
    "duration": 16,
    "start_time": "2024-09-06T17:34:39.836Z"
   },
   {
    "duration": 32,
    "start_time": "2024-09-06T17:34:39.854Z"
   },
   {
    "duration": 5,
    "start_time": "2024-09-06T17:34:39.888Z"
   },
   {
    "duration": 88,
    "start_time": "2024-09-06T17:34:39.895Z"
   },
   {
    "duration": 495,
    "start_time": "2024-09-06T17:34:39.985Z"
   },
   {
    "duration": 5,
    "start_time": "2024-09-06T17:34:40.482Z"
   },
   {
    "duration": 4,
    "start_time": "2024-09-06T17:34:40.488Z"
   },
   {
    "duration": 166,
    "start_time": "2024-09-06T17:44:20.457Z"
   },
   {
    "duration": 293,
    "start_time": "2024-09-07T13:56:34.784Z"
   },
   {
    "duration": 1057,
    "start_time": "2024-09-07T13:56:35.087Z"
   },
   {
    "duration": 12,
    "start_time": "2024-09-07T13:56:36.146Z"
   },
   {
    "duration": 9,
    "start_time": "2024-09-07T13:56:36.160Z"
   },
   {
    "duration": 22,
    "start_time": "2024-09-07T13:56:36.171Z"
   },
   {
    "duration": 8,
    "start_time": "2024-09-07T13:56:36.194Z"
   },
   {
    "duration": 6,
    "start_time": "2024-09-07T13:56:36.203Z"
   },
   {
    "duration": 118,
    "start_time": "2024-09-07T13:56:36.211Z"
   },
   {
    "duration": 11,
    "start_time": "2024-09-07T13:56:36.331Z"
   },
   {
    "duration": 112,
    "start_time": "2024-09-07T13:56:36.344Z"
   },
   {
    "duration": 88,
    "start_time": "2024-09-07T13:56:36.458Z"
   },
   {
    "duration": 42,
    "start_time": "2024-09-07T13:56:36.547Z"
   },
   {
    "duration": 13,
    "start_time": "2024-09-07T13:56:36.591Z"
   },
   {
    "duration": 3,
    "start_time": "2024-09-07T13:56:36.606Z"
   },
   {
    "duration": 17,
    "start_time": "2024-09-07T13:56:36.611Z"
   },
   {
    "duration": 14,
    "start_time": "2024-09-07T13:56:36.630Z"
   },
   {
    "duration": 3,
    "start_time": "2024-09-07T13:56:36.646Z"
   },
   {
    "duration": 38,
    "start_time": "2024-09-07T13:56:36.650Z"
   },
   {
    "duration": 3,
    "start_time": "2024-09-07T13:56:36.690Z"
   },
   {
    "duration": 3,
    "start_time": "2024-09-07T13:56:36.695Z"
   },
   {
    "duration": 738,
    "start_time": "2024-09-07T13:56:36.699Z"
   },
   {
    "duration": 78,
    "start_time": "2024-09-07T13:56:37.439Z"
   },
   {
    "duration": 5,
    "start_time": "2024-09-07T13:56:37.519Z"
   },
   {
    "duration": 9,
    "start_time": "2024-09-07T13:56:37.526Z"
   },
   {
    "duration": 9,
    "start_time": "2024-09-07T13:56:37.536Z"
   },
   {
    "duration": 5,
    "start_time": "2024-09-07T13:56:37.547Z"
   },
   {
    "duration": 4,
    "start_time": "2024-09-07T13:56:37.586Z"
   },
   {
    "duration": 7,
    "start_time": "2024-09-07T13:56:37.595Z"
   },
   {
    "duration": 36,
    "start_time": "2024-09-07T13:56:37.604Z"
   },
   {
    "duration": 14,
    "start_time": "2024-09-07T13:56:37.642Z"
   },
   {
    "duration": 55,
    "start_time": "2024-09-07T13:56:37.658Z"
   },
   {
    "duration": 4,
    "start_time": "2024-09-07T13:56:37.714Z"
   },
   {
    "duration": 75,
    "start_time": "2024-09-07T13:56:37.720Z"
   },
   {
    "duration": 490,
    "start_time": "2024-09-07T13:56:37.797Z"
   },
   {
    "duration": 4,
    "start_time": "2024-09-07T13:56:38.288Z"
   },
   {
    "duration": 5,
    "start_time": "2024-09-07T13:56:38.294Z"
   },
   {
    "duration": 289,
    "start_time": "2024-09-08T15:28:55.707Z"
   },
   {
    "duration": 1056,
    "start_time": "2024-09-08T15:28:55.998Z"
   },
   {
    "duration": 12,
    "start_time": "2024-09-08T15:28:57.056Z"
   },
   {
    "duration": 9,
    "start_time": "2024-09-08T15:28:57.071Z"
   },
   {
    "duration": 7,
    "start_time": "2024-09-08T15:28:57.082Z"
   },
   {
    "duration": 9,
    "start_time": "2024-09-08T15:28:57.091Z"
   },
   {
    "duration": 36,
    "start_time": "2024-09-08T15:28:57.101Z"
   },
   {
    "duration": 103,
    "start_time": "2024-09-08T15:28:57.139Z"
   },
   {
    "duration": 10,
    "start_time": "2024-09-08T15:28:57.244Z"
   },
   {
    "duration": 114,
    "start_time": "2024-09-08T15:28:57.257Z"
   },
   {
    "duration": 98,
    "start_time": "2024-09-08T15:28:57.373Z"
   },
   {
    "duration": 29,
    "start_time": "2024-09-08T15:28:57.473Z"
   },
   {
    "duration": 12,
    "start_time": "2024-09-08T15:28:57.504Z"
   },
   {
    "duration": 4,
    "start_time": "2024-09-08T15:28:57.532Z"
   },
   {
    "duration": 20,
    "start_time": "2024-09-08T15:28:57.538Z"
   },
   {
    "duration": 16,
    "start_time": "2024-09-08T15:28:57.560Z"
   },
   {
    "duration": 4,
    "start_time": "2024-09-08T15:28:57.577Z"
   },
   {
    "duration": 3,
    "start_time": "2024-09-08T15:28:57.583Z"
   },
   {
    "duration": 3,
    "start_time": "2024-09-08T15:28:57.588Z"
   },
   {
    "duration": 39,
    "start_time": "2024-09-08T15:28:57.593Z"
   },
   {
    "duration": 792,
    "start_time": "2024-09-08T15:28:57.634Z"
   },
   {
    "duration": 100,
    "start_time": "2024-09-08T15:28:58.431Z"
   },
   {
    "duration": 5,
    "start_time": "2024-09-08T15:28:58.533Z"
   },
   {
    "duration": 9,
    "start_time": "2024-09-08T15:28:58.540Z"
   },
   {
    "duration": 11,
    "start_time": "2024-09-08T15:28:58.550Z"
   },
   {
    "duration": 6,
    "start_time": "2024-09-08T15:28:58.562Z"
   },
   {
    "duration": 4,
    "start_time": "2024-09-08T15:28:58.570Z"
   },
   {
    "duration": 5,
    "start_time": "2024-09-08T15:28:58.579Z"
   },
   {
    "duration": 78,
    "start_time": "2024-09-08T15:28:58.586Z"
   },
   {
    "duration": 16,
    "start_time": "2024-09-08T15:28:58.665Z"
   },
   {
    "duration": 31,
    "start_time": "2024-09-08T15:28:58.683Z"
   },
   {
    "duration": 18,
    "start_time": "2024-09-08T15:28:58.716Z"
   },
   {
    "duration": 62,
    "start_time": "2024-09-08T15:28:58.736Z"
   },
   {
    "duration": 500,
    "start_time": "2024-09-08T15:28:58.800Z"
   },
   {
    "duration": 4,
    "start_time": "2024-09-08T15:28:59.302Z"
   },
   {
    "duration": 4,
    "start_time": "2024-09-08T15:28:59.307Z"
   },
   {
    "duration": 10,
    "start_time": "2024-09-08T15:40:16.932Z"
   },
   {
    "duration": 824,
    "start_time": "2024-09-08T15:40:24.866Z"
   },
   {
    "duration": 4,
    "start_time": "2024-09-08T15:40:37.109Z"
   },
   {
    "duration": 4,
    "start_time": "2024-09-08T15:40:41.843Z"
   },
   {
    "duration": 810,
    "start_time": "2024-09-08T15:48:34.211Z"
   },
   {
    "duration": 303,
    "start_time": "2024-09-08T15:48:39.907Z"
   },
   {
    "duration": 280,
    "start_time": "2024-09-08T15:51:39.303Z"
   },
   {
    "duration": 1016,
    "start_time": "2024-09-08T15:51:39.585Z"
   },
   {
    "duration": 12,
    "start_time": "2024-09-08T15:51:40.602Z"
   },
   {
    "duration": 20,
    "start_time": "2024-09-08T15:51:40.616Z"
   },
   {
    "duration": 9,
    "start_time": "2024-09-08T15:51:40.637Z"
   },
   {
    "duration": 8,
    "start_time": "2024-09-08T15:51:40.647Z"
   },
   {
    "duration": 6,
    "start_time": "2024-09-08T15:51:40.657Z"
   },
   {
    "duration": 119,
    "start_time": "2024-09-08T15:51:40.665Z"
   },
   {
    "duration": 10,
    "start_time": "2024-09-08T15:51:40.786Z"
   },
   {
    "duration": 117,
    "start_time": "2024-09-08T15:51:40.799Z"
   },
   {
    "duration": 99,
    "start_time": "2024-09-08T15:51:40.917Z"
   },
   {
    "duration": 34,
    "start_time": "2024-09-08T15:51:41.017Z"
   },
   {
    "duration": 12,
    "start_time": "2024-09-08T15:51:41.053Z"
   },
   {
    "duration": 3,
    "start_time": "2024-09-08T15:51:41.066Z"
   },
   {
    "duration": 19,
    "start_time": "2024-09-08T15:51:41.071Z"
   },
   {
    "duration": 44,
    "start_time": "2024-09-08T15:51:41.091Z"
   },
   {
    "duration": 4,
    "start_time": "2024-09-08T15:51:41.137Z"
   },
   {
    "duration": 3,
    "start_time": "2024-09-08T15:51:41.143Z"
   },
   {
    "duration": 4,
    "start_time": "2024-09-08T15:51:41.147Z"
   },
   {
    "duration": 3,
    "start_time": "2024-09-08T15:51:41.152Z"
   },
   {
    "duration": 779,
    "start_time": "2024-09-08T15:51:41.157Z"
   },
   {
    "duration": 99,
    "start_time": "2024-09-08T15:51:41.938Z"
   },
   {
    "duration": 5,
    "start_time": "2024-09-08T15:51:42.039Z"
   },
   {
    "duration": 9,
    "start_time": "2024-09-08T15:51:42.047Z"
   },
   {
    "duration": 10,
    "start_time": "2024-09-08T15:51:42.057Z"
   },
   {
    "duration": 4,
    "start_time": "2024-09-08T15:51:42.068Z"
   },
   {
    "duration": 5,
    "start_time": "2024-09-08T15:51:42.074Z"
   },
   {
    "duration": 6,
    "start_time": "2024-09-08T15:51:42.084Z"
   },
   {
    "duration": 69,
    "start_time": "2024-09-08T15:51:42.092Z"
   },
   {
    "duration": 16,
    "start_time": "2024-09-08T15:51:42.162Z"
   },
   {
    "duration": 30,
    "start_time": "2024-09-08T15:51:42.179Z"
   },
   {
    "duration": 21,
    "start_time": "2024-09-08T15:51:42.211Z"
   },
   {
    "duration": 62,
    "start_time": "2024-09-08T15:51:42.234Z"
   },
   {
    "duration": 488,
    "start_time": "2024-09-08T15:51:42.299Z"
   },
   {
    "duration": 5,
    "start_time": "2024-09-08T15:51:42.789Z"
   },
   {
    "duration": 3,
    "start_time": "2024-09-08T15:51:42.796Z"
   },
   {
    "duration": 1687,
    "start_time": "2024-09-08T15:51:42.801Z"
   },
   {
    "duration": 0,
    "start_time": "2024-09-08T15:51:44.490Z"
   },
   {
    "duration": 0,
    "start_time": "2024-09-08T15:51:44.491Z"
   },
   {
    "duration": 0,
    "start_time": "2024-09-08T15:51:44.492Z"
   },
   {
    "duration": 0,
    "start_time": "2024-09-08T15:51:44.493Z"
   },
   {
    "duration": 0,
    "start_time": "2024-09-08T15:51:44.494Z"
   },
   {
    "duration": 0,
    "start_time": "2024-09-08T15:51:44.495Z"
   },
   {
    "duration": 138,
    "start_time": "2024-09-08T15:52:43.844Z"
   },
   {
    "duration": 378,
    "start_time": "2024-09-08T15:52:51.242Z"
   },
   {
    "duration": 405,
    "start_time": "2024-09-08T15:52:57.616Z"
   },
   {
    "duration": 312,
    "start_time": "2024-09-08T15:53:06.066Z"
   },
   {
    "duration": 832,
    "start_time": "2024-09-08T15:53:41.771Z"
   },
   {
    "duration": 7,
    "start_time": "2024-09-08T15:53:46.468Z"
   },
   {
    "duration": 349,
    "start_time": "2024-09-09T15:35:47.661Z"
   },
   {
    "duration": 1213,
    "start_time": "2024-09-09T15:35:48.016Z"
   },
   {
    "duration": 12,
    "start_time": "2024-09-09T15:35:49.231Z"
   },
   {
    "duration": 9,
    "start_time": "2024-09-09T15:35:49.245Z"
   },
   {
    "duration": 8,
    "start_time": "2024-09-09T15:35:49.256Z"
   },
   {
    "duration": 19,
    "start_time": "2024-09-09T15:35:49.286Z"
   },
   {
    "duration": 10,
    "start_time": "2024-09-09T15:35:49.308Z"
   },
   {
    "duration": 103,
    "start_time": "2024-09-09T15:35:49.320Z"
   },
   {
    "duration": 10,
    "start_time": "2024-09-09T15:35:49.425Z"
   },
   {
    "duration": 129,
    "start_time": "2024-09-09T15:35:49.439Z"
   },
   {
    "duration": 101,
    "start_time": "2024-09-09T15:35:49.569Z"
   },
   {
    "duration": 41,
    "start_time": "2024-09-09T15:35:49.671Z"
   },
   {
    "duration": 14,
    "start_time": "2024-09-09T15:35:49.714Z"
   },
   {
    "duration": 3,
    "start_time": "2024-09-09T15:35:49.730Z"
   },
   {
    "duration": 17,
    "start_time": "2024-09-09T15:35:49.735Z"
   },
   {
    "duration": 48,
    "start_time": "2024-09-09T15:35:49.754Z"
   },
   {
    "duration": 8,
    "start_time": "2024-09-09T15:35:49.805Z"
   },
   {
    "duration": 5,
    "start_time": "2024-09-09T15:35:49.815Z"
   },
   {
    "duration": 3,
    "start_time": "2024-09-09T15:35:49.822Z"
   },
   {
    "duration": 3,
    "start_time": "2024-09-09T15:35:49.827Z"
   },
   {
    "duration": 845,
    "start_time": "2024-09-09T15:35:49.832Z"
   },
   {
    "duration": 99,
    "start_time": "2024-09-09T15:35:50.679Z"
   },
   {
    "duration": 14,
    "start_time": "2024-09-09T15:35:50.780Z"
   },
   {
    "duration": 18,
    "start_time": "2024-09-09T15:35:50.795Z"
   },
   {
    "duration": 14,
    "start_time": "2024-09-09T15:35:50.815Z"
   },
   {
    "duration": 5,
    "start_time": "2024-09-09T15:35:50.831Z"
   },
   {
    "duration": 5,
    "start_time": "2024-09-09T15:35:50.838Z"
   },
   {
    "duration": 4,
    "start_time": "2024-09-09T15:35:50.847Z"
   },
   {
    "duration": 72,
    "start_time": "2024-09-09T15:35:50.853Z"
   },
   {
    "duration": 15,
    "start_time": "2024-09-09T15:35:50.926Z"
   },
   {
    "duration": 50,
    "start_time": "2024-09-09T15:35:50.943Z"
   },
   {
    "duration": 19,
    "start_time": "2024-09-09T15:35:50.995Z"
   },
   {
    "duration": 63,
    "start_time": "2024-09-09T15:35:51.016Z"
   },
   {
    "duration": 557,
    "start_time": "2024-09-09T15:35:51.081Z"
   },
   {
    "duration": 5,
    "start_time": "2024-09-09T15:35:51.640Z"
   },
   {
    "duration": 4,
    "start_time": "2024-09-09T15:35:51.646Z"
   },
   {
    "duration": 1386,
    "start_time": "2024-09-09T15:42:50.397Z"
   },
   {
    "duration": 1540,
    "start_time": "2024-09-09T15:43:39.050Z"
   },
   {
    "duration": 196,
    "start_time": "2024-09-09T16:12:56.823Z"
   },
   {
    "duration": 353,
    "start_time": "2024-09-09T16:13:10.007Z"
   },
   {
    "duration": 1192,
    "start_time": "2024-09-09T16:13:10.362Z"
   },
   {
    "duration": 20,
    "start_time": "2024-09-09T16:13:11.555Z"
   },
   {
    "duration": 16,
    "start_time": "2024-09-09T16:13:11.578Z"
   },
   {
    "duration": 11,
    "start_time": "2024-09-09T16:13:11.597Z"
   },
   {
    "duration": 10,
    "start_time": "2024-09-09T16:13:11.611Z"
   },
   {
    "duration": 8,
    "start_time": "2024-09-09T16:13:11.624Z"
   },
   {
    "duration": 129,
    "start_time": "2024-09-09T16:13:11.633Z"
   },
   {
    "duration": 10,
    "start_time": "2024-09-09T16:13:11.763Z"
   },
   {
    "duration": 126,
    "start_time": "2024-09-09T16:13:11.793Z"
   },
   {
    "duration": 100,
    "start_time": "2024-09-09T16:13:11.921Z"
   },
   {
    "duration": 26,
    "start_time": "2024-09-09T16:13:12.024Z"
   },
   {
    "duration": 12,
    "start_time": "2024-09-09T16:13:12.051Z"
   },
   {
    "duration": 3,
    "start_time": "2024-09-09T16:13:12.064Z"
   },
   {
    "duration": 30,
    "start_time": "2024-09-09T16:13:12.091Z"
   },
   {
    "duration": 17,
    "start_time": "2024-09-09T16:13:12.122Z"
   },
   {
    "duration": 3,
    "start_time": "2024-09-09T16:13:12.140Z"
   },
   {
    "duration": 3,
    "start_time": "2024-09-09T16:13:12.145Z"
   },
   {
    "duration": 4,
    "start_time": "2024-09-09T16:13:12.149Z"
   },
   {
    "duration": 4,
    "start_time": "2024-09-09T16:13:12.154Z"
   },
   {
    "duration": 869,
    "start_time": "2024-09-09T16:13:12.187Z"
   },
   {
    "duration": 174,
    "start_time": "2024-09-09T16:13:13.057Z"
   },
   {
    "duration": 6,
    "start_time": "2024-09-09T16:13:13.233Z"
   },
   {
    "duration": 10,
    "start_time": "2024-09-09T16:13:13.241Z"
   },
   {
    "duration": 9,
    "start_time": "2024-09-09T16:13:13.252Z"
   },
   {
    "duration": 27,
    "start_time": "2024-09-09T16:13:13.262Z"
   },
   {
    "duration": 8,
    "start_time": "2024-09-09T16:13:13.293Z"
   },
   {
    "duration": 11,
    "start_time": "2024-09-09T16:13:13.317Z"
   },
   {
    "duration": 35,
    "start_time": "2024-09-09T16:13:13.330Z"
   },
   {
    "duration": 28,
    "start_time": "2024-09-09T16:13:13.367Z"
   },
   {
    "duration": 40,
    "start_time": "2024-09-09T16:13:13.397Z"
   },
   {
    "duration": 4,
    "start_time": "2024-09-09T16:13:13.439Z"
   },
   {
    "duration": 99,
    "start_time": "2024-09-09T16:13:13.445Z"
   },
   {
    "duration": 566,
    "start_time": "2024-09-09T16:13:13.546Z"
   },
   {
    "duration": 9,
    "start_time": "2024-09-09T16:13:14.113Z"
   },
   {
    "duration": 7,
    "start_time": "2024-09-09T16:13:14.124Z"
   },
   {
    "duration": 7,
    "start_time": "2024-09-10T18:47:39.002Z"
   },
   {
    "duration": 337,
    "start_time": "2024-09-20T02:07:42.090Z"
   },
   {
    "duration": 1042,
    "start_time": "2024-09-20T02:07:42.430Z"
   },
   {
    "duration": 12,
    "start_time": "2024-09-20T02:07:43.474Z"
   },
   {
    "duration": 10,
    "start_time": "2024-09-20T02:07:43.489Z"
   },
   {
    "duration": 8,
    "start_time": "2024-09-20T02:07:43.500Z"
   },
   {
    "duration": 7,
    "start_time": "2024-09-20T02:07:43.510Z"
   },
   {
    "duration": 6,
    "start_time": "2024-09-20T02:07:43.519Z"
   },
   {
    "duration": 147,
    "start_time": "2024-09-20T02:07:43.527Z"
   },
   {
    "duration": 10,
    "start_time": "2024-09-20T02:07:43.676Z"
   },
   {
    "duration": 117,
    "start_time": "2024-09-20T02:07:43.689Z"
   },
   {
    "duration": 95,
    "start_time": "2024-09-20T02:07:43.808Z"
   },
   {
    "duration": 29,
    "start_time": "2024-09-20T02:07:43.905Z"
   },
   {
    "duration": 14,
    "start_time": "2024-09-20T02:07:43.935Z"
   },
   {
    "duration": 20,
    "start_time": "2024-09-20T02:07:43.950Z"
   },
   {
    "duration": 18,
    "start_time": "2024-09-20T02:07:43.971Z"
   },
   {
    "duration": 15,
    "start_time": "2024-09-20T02:07:43.991Z"
   },
   {
    "duration": 3,
    "start_time": "2024-09-20T02:07:44.008Z"
   },
   {
    "duration": 3,
    "start_time": "2024-09-20T02:07:44.013Z"
   },
   {
    "duration": 3,
    "start_time": "2024-09-20T02:07:44.018Z"
   },
   {
    "duration": 3,
    "start_time": "2024-09-20T02:07:44.023Z"
   },
   {
    "duration": 800,
    "start_time": "2024-09-20T02:07:44.028Z"
   },
   {
    "duration": 81,
    "start_time": "2024-09-20T02:07:44.830Z"
   },
   {
    "duration": 5,
    "start_time": "2024-09-20T02:07:44.913Z"
   },
   {
    "duration": 10,
    "start_time": "2024-09-20T02:07:44.920Z"
   },
   {
    "duration": 10,
    "start_time": "2024-09-20T02:07:44.932Z"
   },
   {
    "duration": 30,
    "start_time": "2024-09-20T02:07:44.943Z"
   },
   {
    "duration": 5,
    "start_time": "2024-09-20T02:07:44.975Z"
   },
   {
    "duration": 6,
    "start_time": "2024-09-20T02:07:44.984Z"
   },
   {
    "duration": 36,
    "start_time": "2024-09-20T02:07:44.991Z"
   },
   {
    "duration": 44,
    "start_time": "2024-09-20T02:07:45.029Z"
   },
   {
    "duration": 31,
    "start_time": "2024-09-20T02:07:45.075Z"
   },
   {
    "duration": 4,
    "start_time": "2024-09-20T02:07:45.108Z"
   },
   {
    "duration": 80,
    "start_time": "2024-09-20T02:07:45.114Z"
   },
   {
    "duration": 483,
    "start_time": "2024-09-20T02:07:45.195Z"
   },
   {
    "duration": 4,
    "start_time": "2024-09-20T02:07:45.679Z"
   },
   {
    "duration": 3,
    "start_time": "2024-09-20T02:07:45.685Z"
   },
   {
    "duration": 337,
    "start_time": "2024-09-20T03:10:45.291Z"
   },
   {
    "duration": 1066,
    "start_time": "2024-09-20T03:10:45.631Z"
   },
   {
    "duration": 11,
    "start_time": "2024-09-20T03:10:46.699Z"
   },
   {
    "duration": 9,
    "start_time": "2024-09-20T03:10:46.713Z"
   },
   {
    "duration": 8,
    "start_time": "2024-09-20T03:10:46.723Z"
   },
   {
    "duration": 8,
    "start_time": "2024-09-20T03:10:46.733Z"
   },
   {
    "duration": 7,
    "start_time": "2024-09-20T03:10:46.770Z"
   },
   {
    "duration": 101,
    "start_time": "2024-09-20T03:10:46.779Z"
   },
   {
    "duration": 10,
    "start_time": "2024-09-20T03:10:46.882Z"
   },
   {
    "duration": 118,
    "start_time": "2024-09-20T03:10:46.896Z"
   },
   {
    "duration": 92,
    "start_time": "2024-09-20T03:10:47.015Z"
   },
   {
    "duration": 27,
    "start_time": "2024-09-20T03:10:47.109Z"
   },
   {
    "duration": 12,
    "start_time": "2024-09-20T03:10:47.138Z"
   },
   {
    "duration": 24,
    "start_time": "2024-09-20T03:10:47.151Z"
   },
   {
    "duration": 23,
    "start_time": "2024-09-20T03:10:47.177Z"
   },
   {
    "duration": 16,
    "start_time": "2024-09-20T03:10:47.202Z"
   },
   {
    "duration": 3,
    "start_time": "2024-09-20T03:10:47.220Z"
   },
   {
    "duration": 3,
    "start_time": "2024-09-20T03:10:47.225Z"
   },
   {
    "duration": 4,
    "start_time": "2024-09-20T03:10:47.230Z"
   },
   {
    "duration": 36,
    "start_time": "2024-09-20T03:10:47.235Z"
   },
   {
    "duration": 781,
    "start_time": "2024-09-20T03:10:47.273Z"
   },
   {
    "duration": 78,
    "start_time": "2024-09-20T03:10:48.056Z"
   },
   {
    "duration": 6,
    "start_time": "2024-09-20T03:10:48.135Z"
   },
   {
    "duration": 27,
    "start_time": "2024-09-20T03:10:48.143Z"
   },
   {
    "duration": 8,
    "start_time": "2024-09-20T03:10:48.172Z"
   },
   {
    "duration": 5,
    "start_time": "2024-09-20T03:10:48.182Z"
   },
   {
    "duration": 4,
    "start_time": "2024-09-20T03:10:48.189Z"
   },
   {
    "duration": 5,
    "start_time": "2024-09-20T03:10:48.199Z"
   },
   {
    "duration": 66,
    "start_time": "2024-09-20T03:10:48.206Z"
   },
   {
    "duration": 15,
    "start_time": "2024-09-20T03:10:48.274Z"
   },
   {
    "duration": 31,
    "start_time": "2024-09-20T03:10:48.290Z"
   },
   {
    "duration": 4,
    "start_time": "2024-09-20T03:10:48.323Z"
   },
   {
    "duration": 89,
    "start_time": "2024-09-20T03:10:48.328Z"
   },
   {
    "duration": 504,
    "start_time": "2024-09-20T03:10:48.419Z"
   },
   {
    "duration": 4,
    "start_time": "2024-09-20T03:10:48.924Z"
   },
   {
    "duration": 3,
    "start_time": "2024-09-20T03:10:48.930Z"
   },
   {
    "duration": 475,
    "start_time": "2024-09-20T03:10:48.934Z"
   },
   {
    "duration": 0,
    "start_time": "2024-09-20T03:10:49.411Z"
   },
   {
    "duration": 0,
    "start_time": "2024-09-20T03:10:49.413Z"
   },
   {
    "duration": 0,
    "start_time": "2024-09-20T03:10:49.414Z"
   },
   {
    "duration": 0,
    "start_time": "2024-09-20T03:10:49.416Z"
   },
   {
    "duration": 0,
    "start_time": "2024-09-20T03:10:49.417Z"
   },
   {
    "duration": 0,
    "start_time": "2024-09-20T03:10:49.419Z"
   },
   {
    "duration": 0,
    "start_time": "2024-09-20T03:10:49.420Z"
   },
   {
    "duration": 0,
    "start_time": "2024-09-20T03:10:49.422Z"
   },
   {
    "duration": 0,
    "start_time": "2024-09-20T03:10:49.423Z"
   },
   {
    "duration": 0,
    "start_time": "2024-09-20T03:10:49.425Z"
   },
   {
    "duration": 1,
    "start_time": "2024-09-20T03:10:49.425Z"
   },
   {
    "duration": 0,
    "start_time": "2024-09-20T03:10:49.427Z"
   },
   {
    "duration": 0,
    "start_time": "2024-09-20T03:10:49.428Z"
   },
   {
    "duration": 0,
    "start_time": "2024-09-20T03:10:49.429Z"
   },
   {
    "duration": 0,
    "start_time": "2024-09-20T03:10:49.430Z"
   },
   {
    "duration": 0,
    "start_time": "2024-09-20T03:10:49.431Z"
   },
   {
    "duration": 0,
    "start_time": "2024-09-20T03:10:49.433Z"
   },
   {
    "duration": 0,
    "start_time": "2024-09-20T03:10:49.434Z"
   },
   {
    "duration": 281,
    "start_time": "2024-09-20T22:55:05.487Z"
   },
   {
    "duration": 1028,
    "start_time": "2024-09-20T22:55:05.770Z"
   },
   {
    "duration": 11,
    "start_time": "2024-09-20T22:55:06.800Z"
   },
   {
    "duration": 19,
    "start_time": "2024-09-20T22:55:06.813Z"
   },
   {
    "duration": 7,
    "start_time": "2024-09-20T22:55:06.834Z"
   },
   {
    "duration": 8,
    "start_time": "2024-09-20T22:55:06.843Z"
   },
   {
    "duration": 6,
    "start_time": "2024-09-20T22:55:06.852Z"
   },
   {
    "duration": 119,
    "start_time": "2024-09-20T22:55:06.860Z"
   },
   {
    "duration": 10,
    "start_time": "2024-09-20T22:55:06.981Z"
   },
   {
    "duration": 109,
    "start_time": "2024-09-20T22:55:06.994Z"
   },
   {
    "duration": 87,
    "start_time": "2024-09-20T22:55:07.105Z"
   },
   {
    "duration": 35,
    "start_time": "2024-09-20T22:55:07.194Z"
   },
   {
    "duration": 11,
    "start_time": "2024-09-20T22:55:07.231Z"
   },
   {
    "duration": 3,
    "start_time": "2024-09-20T22:55:07.244Z"
   },
   {
    "duration": 18,
    "start_time": "2024-09-20T22:55:07.249Z"
   },
   {
    "duration": 14,
    "start_time": "2024-09-20T22:55:07.269Z"
   },
   {
    "duration": 3,
    "start_time": "2024-09-20T22:55:07.285Z"
   },
   {
    "duration": 3,
    "start_time": "2024-09-20T22:55:07.324Z"
   },
   {
    "duration": 4,
    "start_time": "2024-09-20T22:55:07.329Z"
   },
   {
    "duration": 3,
    "start_time": "2024-09-20T22:55:07.335Z"
   },
   {
    "duration": 762,
    "start_time": "2024-09-20T22:55:07.339Z"
   },
   {
    "duration": 87,
    "start_time": "2024-09-20T22:55:08.103Z"
   },
   {
    "duration": 5,
    "start_time": "2024-09-20T22:55:08.194Z"
   },
   {
    "duration": 9,
    "start_time": "2024-09-20T22:55:08.201Z"
   },
   {
    "duration": 10,
    "start_time": "2024-09-20T22:55:08.224Z"
   },
   {
    "duration": 6,
    "start_time": "2024-09-20T22:55:08.236Z"
   },
   {
    "duration": 4,
    "start_time": "2024-09-20T22:55:08.244Z"
   },
   {
    "duration": 5,
    "start_time": "2024-09-20T22:55:08.253Z"
   },
   {
    "duration": 35,
    "start_time": "2024-09-20T22:55:08.260Z"
   },
   {
    "duration": 15,
    "start_time": "2024-09-20T22:55:08.323Z"
   },
   {
    "duration": 29,
    "start_time": "2024-09-20T22:55:08.340Z"
   },
   {
    "duration": 4,
    "start_time": "2024-09-20T22:55:08.371Z"
   },
   {
    "duration": 83,
    "start_time": "2024-09-20T22:55:08.377Z"
   },
   {
    "duration": 489,
    "start_time": "2024-09-20T22:55:08.462Z"
   },
   {
    "duration": 4,
    "start_time": "2024-09-20T22:55:08.953Z"
   },
   {
    "duration": 4,
    "start_time": "2024-09-20T22:55:08.959Z"
   },
   {
    "duration": 4205,
    "start_time": "2024-09-20T22:55:08.964Z"
   },
   {
    "duration": 318,
    "start_time": "2024-09-20T22:57:01.441Z"
   },
   {
    "duration": 866,
    "start_time": "2024-09-20T22:57:01.761Z"
   },
   {
    "duration": 11,
    "start_time": "2024-09-20T22:57:02.629Z"
   },
   {
    "duration": 9,
    "start_time": "2024-09-20T22:57:02.643Z"
   },
   {
    "duration": 7,
    "start_time": "2024-09-20T22:57:02.654Z"
   },
   {
    "duration": 7,
    "start_time": "2024-09-20T22:57:02.663Z"
   },
   {
    "duration": 6,
    "start_time": "2024-09-20T22:57:02.671Z"
   },
   {
    "duration": 126,
    "start_time": "2024-09-20T22:57:02.679Z"
   },
   {
    "duration": 17,
    "start_time": "2024-09-20T22:57:02.807Z"
   },
   {
    "duration": 101,
    "start_time": "2024-09-20T22:57:02.827Z"
   },
   {
    "duration": 94,
    "start_time": "2024-09-20T22:57:02.930Z"
   },
   {
    "duration": 27,
    "start_time": "2024-09-20T22:57:03.025Z"
   },
   {
    "duration": 12,
    "start_time": "2024-09-20T22:57:03.053Z"
   },
   {
    "duration": 3,
    "start_time": "2024-09-20T22:57:03.066Z"
   },
   {
    "duration": 18,
    "start_time": "2024-09-20T22:57:03.071Z"
   },
   {
    "duration": 40,
    "start_time": "2024-09-20T22:57:03.090Z"
   },
   {
    "duration": 3,
    "start_time": "2024-09-20T22:57:03.132Z"
   },
   {
    "duration": 4,
    "start_time": "2024-09-20T22:57:03.136Z"
   },
   {
    "duration": 4,
    "start_time": "2024-09-20T22:57:03.142Z"
   },
   {
    "duration": 3,
    "start_time": "2024-09-20T22:57:03.147Z"
   },
   {
    "duration": 766,
    "start_time": "2024-09-20T22:57:03.153Z"
   },
   {
    "duration": 73,
    "start_time": "2024-09-20T22:57:03.924Z"
   },
   {
    "duration": 6,
    "start_time": "2024-09-20T22:57:03.999Z"
   },
   {
    "duration": 10,
    "start_time": "2024-09-20T22:57:04.023Z"
   },
   {
    "duration": 9,
    "start_time": "2024-09-20T22:57:04.035Z"
   },
   {
    "duration": 5,
    "start_time": "2024-09-20T22:57:04.045Z"
   },
   {
    "duration": 5,
    "start_time": "2024-09-20T22:57:04.052Z"
   },
   {
    "duration": 4,
    "start_time": "2024-09-20T22:57:04.061Z"
   },
   {
    "duration": 67,
    "start_time": "2024-09-20T22:57:04.067Z"
   },
   {
    "duration": 14,
    "start_time": "2024-09-20T22:57:04.136Z"
   },
   {
    "duration": 29,
    "start_time": "2024-09-20T22:57:04.152Z"
   },
   {
    "duration": 4,
    "start_time": "2024-09-20T22:57:04.183Z"
   },
   {
    "duration": 83,
    "start_time": "2024-09-20T22:57:04.189Z"
   },
   {
    "duration": 478,
    "start_time": "2024-09-20T22:57:04.274Z"
   },
   {
    "duration": 4,
    "start_time": "2024-09-20T22:57:04.753Z"
   },
   {
    "duration": 4,
    "start_time": "2024-09-20T22:57:04.759Z"
   },
   {
    "duration": 2317,
    "start_time": "2024-09-20T22:57:04.764Z"
   },
   {
    "duration": 1914,
    "start_time": "2024-09-20T22:57:07.082Z"
   },
   {
    "duration": 308,
    "start_time": "2024-09-20T22:59:15.662Z"
   },
   {
    "duration": 996,
    "start_time": "2024-09-20T22:59:15.972Z"
   },
   {
    "duration": 12,
    "start_time": "2024-09-20T22:59:16.970Z"
   },
   {
    "duration": 9,
    "start_time": "2024-09-20T22:59:16.984Z"
   },
   {
    "duration": 8,
    "start_time": "2024-09-20T22:59:16.994Z"
   },
   {
    "duration": 27,
    "start_time": "2024-09-20T22:59:17.003Z"
   },
   {
    "duration": 7,
    "start_time": "2024-09-20T22:59:17.032Z"
   },
   {
    "duration": 106,
    "start_time": "2024-09-20T22:59:17.040Z"
   },
   {
    "duration": 11,
    "start_time": "2024-09-20T22:59:17.147Z"
   },
   {
    "duration": 109,
    "start_time": "2024-09-20T22:59:17.162Z"
   },
   {
    "duration": 93,
    "start_time": "2024-09-20T22:59:17.272Z"
   },
   {
    "duration": 29,
    "start_time": "2024-09-20T22:59:17.367Z"
   },
   {
    "duration": 30,
    "start_time": "2024-09-20T22:59:17.397Z"
   },
   {
    "duration": 4,
    "start_time": "2024-09-20T22:59:17.428Z"
   },
   {
    "duration": 18,
    "start_time": "2024-09-20T22:59:17.433Z"
   },
   {
    "duration": 14,
    "start_time": "2024-09-20T22:59:17.453Z"
   },
   {
    "duration": 3,
    "start_time": "2024-09-20T22:59:17.469Z"
   },
   {
    "duration": 3,
    "start_time": "2024-09-20T22:59:17.474Z"
   },
   {
    "duration": 4,
    "start_time": "2024-09-20T22:59:17.479Z"
   },
   {
    "duration": 39,
    "start_time": "2024-09-20T22:59:17.485Z"
   },
   {
    "duration": 765,
    "start_time": "2024-09-20T22:59:17.526Z"
   },
   {
    "duration": 80,
    "start_time": "2024-09-20T22:59:18.293Z"
   },
   {
    "duration": 5,
    "start_time": "2024-09-20T22:59:18.375Z"
   },
   {
    "duration": 10,
    "start_time": "2024-09-20T22:59:18.381Z"
   },
   {
    "duration": 10,
    "start_time": "2024-09-20T22:59:18.393Z"
   },
   {
    "duration": 6,
    "start_time": "2024-09-20T22:59:18.424Z"
   },
   {
    "duration": 6,
    "start_time": "2024-09-20T22:59:18.432Z"
   },
   {
    "duration": 6,
    "start_time": "2024-09-20T22:59:18.444Z"
   },
   {
    "duration": 34,
    "start_time": "2024-09-20T22:59:18.452Z"
   },
   {
    "duration": 39,
    "start_time": "2024-09-20T22:59:18.488Z"
   },
   {
    "duration": 31,
    "start_time": "2024-09-20T22:59:18.529Z"
   },
   {
    "duration": 3,
    "start_time": "2024-09-20T22:59:18.562Z"
   },
   {
    "duration": 79,
    "start_time": "2024-09-20T22:59:18.567Z"
   },
   {
    "duration": 486,
    "start_time": "2024-09-20T22:59:18.648Z"
   },
   {
    "duration": 4,
    "start_time": "2024-09-20T22:59:19.135Z"
   },
   {
    "duration": 3,
    "start_time": "2024-09-20T22:59:19.141Z"
   },
   {
    "duration": 416,
    "start_time": "2024-09-20T22:59:19.146Z"
   },
   {
    "duration": 2138,
    "start_time": "2024-09-20T22:59:19.563Z"
   },
   {
    "duration": 2635,
    "start_time": "2024-09-20T23:05:14.551Z"
   },
   {
    "duration": 21,
    "start_time": "2024-09-20T23:15:53.163Z"
   },
   {
    "duration": 242,
    "start_time": "2024-09-20T23:25:39.256Z"
   },
   {
    "duration": 223,
    "start_time": "2024-09-20T23:29:24.901Z"
   },
   {
    "duration": 335,
    "start_time": "2024-09-20T23:31:20.235Z"
   },
   {
    "duration": 274,
    "start_time": "2024-09-20T23:31:28.927Z"
   },
   {
    "duration": 214,
    "start_time": "2024-09-20T23:35:58.163Z"
   },
   {
    "duration": 213,
    "start_time": "2024-09-20T23:40:32.255Z"
   },
   {
    "duration": 155,
    "start_time": "2024-09-20T23:40:46.393Z"
   },
   {
    "duration": 282,
    "start_time": "2024-09-20T23:41:38.415Z"
   },
   {
    "duration": 1018,
    "start_time": "2024-09-20T23:41:38.699Z"
   },
   {
    "duration": 16,
    "start_time": "2024-09-20T23:41:39.718Z"
   },
   {
    "duration": 10,
    "start_time": "2024-09-20T23:41:39.735Z"
   },
   {
    "duration": 8,
    "start_time": "2024-09-20T23:41:39.746Z"
   },
   {
    "duration": 9,
    "start_time": "2024-09-20T23:41:39.756Z"
   },
   {
    "duration": 6,
    "start_time": "2024-09-20T23:41:39.767Z"
   },
   {
    "duration": 125,
    "start_time": "2024-09-20T23:41:39.775Z"
   },
   {
    "duration": 10,
    "start_time": "2024-09-20T23:41:39.902Z"
   },
   {
    "duration": 103,
    "start_time": "2024-09-20T23:41:39.924Z"
   },
   {
    "duration": 85,
    "start_time": "2024-09-20T23:41:40.029Z"
   },
   {
    "duration": 36,
    "start_time": "2024-09-20T23:41:40.116Z"
   },
   {
    "duration": 17,
    "start_time": "2024-09-20T23:41:40.153Z"
   },
   {
    "duration": 3,
    "start_time": "2024-09-20T23:41:40.172Z"
   },
   {
    "duration": 17,
    "start_time": "2024-09-20T23:41:40.177Z"
   },
   {
    "duration": 41,
    "start_time": "2024-09-20T23:41:40.196Z"
   },
   {
    "duration": 3,
    "start_time": "2024-09-20T23:41:40.239Z"
   },
   {
    "duration": 5,
    "start_time": "2024-09-20T23:41:40.244Z"
   },
   {
    "duration": 4,
    "start_time": "2024-09-20T23:41:40.250Z"
   },
   {
    "duration": 3,
    "start_time": "2024-09-20T23:41:40.257Z"
   },
   {
    "duration": 740,
    "start_time": "2024-09-20T23:41:40.261Z"
   },
   {
    "duration": 81,
    "start_time": "2024-09-20T23:41:41.003Z"
   },
   {
    "duration": 6,
    "start_time": "2024-09-20T23:41:41.086Z"
   },
   {
    "duration": 9,
    "start_time": "2024-09-20T23:41:41.093Z"
   },
   {
    "duration": 21,
    "start_time": "2024-09-20T23:41:41.104Z"
   },
   {
    "duration": 6,
    "start_time": "2024-09-20T23:41:41.126Z"
   },
   {
    "duration": 4,
    "start_time": "2024-09-20T23:41:41.133Z"
   },
   {
    "duration": 5,
    "start_time": "2024-09-20T23:41:41.141Z"
   },
   {
    "duration": 39,
    "start_time": "2024-09-20T23:41:41.148Z"
   },
   {
    "duration": 48,
    "start_time": "2024-09-20T23:41:41.189Z"
   },
   {
    "duration": 31,
    "start_time": "2024-09-20T23:41:41.239Z"
   },
   {
    "duration": 4,
    "start_time": "2024-09-20T23:41:41.271Z"
   },
   {
    "duration": 84,
    "start_time": "2024-09-20T23:41:41.277Z"
   },
   {
    "duration": 483,
    "start_time": "2024-09-20T23:41:41.362Z"
   },
   {
    "duration": 4,
    "start_time": "2024-09-20T23:41:41.847Z"
   },
   {
    "duration": 3,
    "start_time": "2024-09-20T23:41:41.853Z"
   },
   {
    "duration": 468,
    "start_time": "2024-09-20T23:41:41.858Z"
   },
   {
    "duration": 227,
    "start_time": "2024-09-20T23:41:42.328Z"
   },
   {
    "duration": 287,
    "start_time": "2024-09-20T23:43:52.776Z"
   },
   {
    "duration": 1053,
    "start_time": "2024-09-20T23:43:53.065Z"
   },
   {
    "duration": 11,
    "start_time": "2024-09-20T23:43:54.120Z"
   },
   {
    "duration": 10,
    "start_time": "2024-09-20T23:43:54.133Z"
   },
   {
    "duration": 8,
    "start_time": "2024-09-20T23:43:54.144Z"
   },
   {
    "duration": 9,
    "start_time": "2024-09-20T23:43:54.153Z"
   },
   {
    "duration": 7,
    "start_time": "2024-09-20T23:43:54.163Z"
   },
   {
    "duration": 123,
    "start_time": "2024-09-20T23:43:54.172Z"
   },
   {
    "duration": 10,
    "start_time": "2024-09-20T23:43:54.296Z"
   },
   {
    "duration": 115,
    "start_time": "2024-09-20T23:43:54.310Z"
   },
   {
    "duration": 84,
    "start_time": "2024-09-20T23:43:54.426Z"
   },
   {
    "duration": 32,
    "start_time": "2024-09-20T23:43:54.512Z"
   },
   {
    "duration": 13,
    "start_time": "2024-09-20T23:43:54.545Z"
   },
   {
    "duration": 3,
    "start_time": "2024-09-20T23:43:54.562Z"
   },
   {
    "duration": 19,
    "start_time": "2024-09-20T23:43:54.567Z"
   },
   {
    "duration": 42,
    "start_time": "2024-09-20T23:43:54.589Z"
   },
   {
    "duration": 3,
    "start_time": "2024-09-20T23:43:54.633Z"
   },
   {
    "duration": 3,
    "start_time": "2024-09-20T23:43:54.638Z"
   },
   {
    "duration": 3,
    "start_time": "2024-09-20T23:43:54.643Z"
   },
   {
    "duration": 5,
    "start_time": "2024-09-20T23:43:54.647Z"
   },
   {
    "duration": 740,
    "start_time": "2024-09-20T23:43:54.653Z"
   },
   {
    "duration": 81,
    "start_time": "2024-09-20T23:43:55.396Z"
   },
   {
    "duration": 5,
    "start_time": "2024-09-20T23:43:55.479Z"
   },
   {
    "duration": 9,
    "start_time": "2024-09-20T23:43:55.486Z"
   },
   {
    "duration": 28,
    "start_time": "2024-09-20T23:43:55.497Z"
   },
   {
    "duration": 4,
    "start_time": "2024-09-20T23:43:55.527Z"
   },
   {
    "duration": 5,
    "start_time": "2024-09-20T23:43:55.533Z"
   },
   {
    "duration": 5,
    "start_time": "2024-09-20T23:43:55.542Z"
   },
   {
    "duration": 35,
    "start_time": "2024-09-20T23:43:55.548Z"
   },
   {
    "duration": 44,
    "start_time": "2024-09-20T23:43:55.585Z"
   },
   {
    "duration": 31,
    "start_time": "2024-09-20T23:43:55.631Z"
   },
   {
    "duration": 4,
    "start_time": "2024-09-20T23:43:55.664Z"
   },
   {
    "duration": 83,
    "start_time": "2024-09-20T23:43:55.670Z"
   },
   {
    "duration": 485,
    "start_time": "2024-09-20T23:43:55.754Z"
   },
   {
    "duration": 4,
    "start_time": "2024-09-20T23:43:56.241Z"
   },
   {
    "duration": 3,
    "start_time": "2024-09-20T23:43:56.247Z"
   },
   {
    "duration": 472,
    "start_time": "2024-09-20T23:43:56.252Z"
   },
   {
    "duration": 220,
    "start_time": "2024-09-20T23:43:56.726Z"
   },
   {
    "duration": 299,
    "start_time": "2024-09-20T23:43:56.948Z"
   },
   {
    "duration": 8,
    "start_time": "2024-09-20T23:54:06.385Z"
   },
   {
    "duration": 871,
    "start_time": "2024-09-20T23:54:31.577Z"
   },
   {
    "duration": 448,
    "start_time": "2024-09-20T23:56:20.535Z"
   },
   {
    "duration": 275,
    "start_time": "2024-09-20T23:57:51.905Z"
   },
   {
    "duration": 995,
    "start_time": "2024-09-20T23:57:52.182Z"
   },
   {
    "duration": 12,
    "start_time": "2024-09-20T23:57:53.178Z"
   },
   {
    "duration": 9,
    "start_time": "2024-09-20T23:57:53.192Z"
   },
   {
    "duration": 25,
    "start_time": "2024-09-20T23:57:53.203Z"
   },
   {
    "duration": 8,
    "start_time": "2024-09-20T23:57:53.229Z"
   },
   {
    "duration": 7,
    "start_time": "2024-09-20T23:57:53.238Z"
   },
   {
    "duration": 108,
    "start_time": "2024-09-20T23:57:53.246Z"
   },
   {
    "duration": 10,
    "start_time": "2024-09-20T23:57:53.355Z"
   },
   {
    "duration": 109,
    "start_time": "2024-09-20T23:57:53.369Z"
   },
   {
    "duration": 91,
    "start_time": "2024-09-20T23:57:53.480Z"
   },
   {
    "duration": 26,
    "start_time": "2024-09-20T23:57:53.573Z"
   },
   {
    "duration": 24,
    "start_time": "2024-09-20T23:57:53.601Z"
   },
   {
    "duration": 3,
    "start_time": "2024-09-20T23:57:53.626Z"
   },
   {
    "duration": 19,
    "start_time": "2024-09-20T23:57:53.630Z"
   },
   {
    "duration": 15,
    "start_time": "2024-09-20T23:57:53.651Z"
   },
   {
    "duration": 4,
    "start_time": "2024-09-20T23:57:53.667Z"
   },
   {
    "duration": 4,
    "start_time": "2024-09-20T23:57:53.672Z"
   },
   {
    "duration": 4,
    "start_time": "2024-09-20T23:57:53.678Z"
   },
   {
    "duration": 3,
    "start_time": "2024-09-20T23:57:53.683Z"
   },
   {
    "duration": 784,
    "start_time": "2024-09-20T23:57:53.687Z"
   },
   {
    "duration": 77,
    "start_time": "2024-09-20T23:57:54.474Z"
   },
   {
    "duration": 5,
    "start_time": "2024-09-20T23:57:54.553Z"
   },
   {
    "duration": 9,
    "start_time": "2024-09-20T23:57:54.560Z"
   },
   {
    "duration": 9,
    "start_time": "2024-09-20T23:57:54.570Z"
   },
   {
    "duration": 5,
    "start_time": "2024-09-20T23:57:54.580Z"
   },
   {
    "duration": 4,
    "start_time": "2024-09-20T23:57:54.587Z"
   },
   {
    "duration": 6,
    "start_time": "2024-09-20T23:57:54.626Z"
   },
   {
    "duration": 35,
    "start_time": "2024-09-20T23:57:54.633Z"
   },
   {
    "duration": 14,
    "start_time": "2024-09-20T23:57:54.670Z"
   },
   {
    "duration": 55,
    "start_time": "2024-09-20T23:57:54.686Z"
   },
   {
    "duration": 4,
    "start_time": "2024-09-20T23:57:54.743Z"
   },
   {
    "duration": 62,
    "start_time": "2024-09-20T23:57:54.748Z"
   },
   {
    "duration": 489,
    "start_time": "2024-09-20T23:57:54.824Z"
   },
   {
    "duration": 13,
    "start_time": "2024-09-20T23:57:55.314Z"
   },
   {
    "duration": 4,
    "start_time": "2024-09-20T23:57:55.328Z"
   },
   {
    "duration": 452,
    "start_time": "2024-09-20T23:57:55.335Z"
   },
   {
    "duration": 235,
    "start_time": "2024-09-20T23:57:55.789Z"
   },
   {
    "duration": 318,
    "start_time": "2024-09-20T23:57:56.026Z"
   },
   {
    "duration": 287,
    "start_time": "2024-09-20T23:57:56.345Z"
   },
   {
    "duration": 767,
    "start_time": "2024-09-21T00:01:02.328Z"
   },
   {
    "duration": 413,
    "start_time": "2024-09-21T00:02:46.643Z"
   },
   {
    "duration": 10,
    "start_time": "2024-09-21T00:04:57.406Z"
   },
   {
    "duration": 319,
    "start_time": "2024-09-21T20:15:04.574Z"
   },
   {
    "duration": 1052,
    "start_time": "2024-09-21T20:15:04.896Z"
   },
   {
    "duration": 12,
    "start_time": "2024-09-21T20:15:05.949Z"
   },
   {
    "duration": 10,
    "start_time": "2024-09-21T20:15:05.964Z"
   },
   {
    "duration": 8,
    "start_time": "2024-09-21T20:15:05.975Z"
   },
   {
    "duration": 7,
    "start_time": "2024-09-21T20:15:05.984Z"
   },
   {
    "duration": 6,
    "start_time": "2024-09-21T20:15:05.993Z"
   },
   {
    "duration": 132,
    "start_time": "2024-09-21T20:15:06.000Z"
   },
   {
    "duration": 14,
    "start_time": "2024-09-21T20:15:06.134Z"
   },
   {
    "duration": 108,
    "start_time": "2024-09-21T20:15:06.151Z"
   },
   {
    "duration": 96,
    "start_time": "2024-09-21T20:15:06.261Z"
   },
   {
    "duration": 28,
    "start_time": "2024-09-21T20:15:06.360Z"
   },
   {
    "duration": 12,
    "start_time": "2024-09-21T20:15:06.389Z"
   },
   {
    "duration": 4,
    "start_time": "2024-09-21T20:15:06.402Z"
   },
   {
    "duration": 42,
    "start_time": "2024-09-21T20:15:06.408Z"
   },
   {
    "duration": 15,
    "start_time": "2024-09-21T20:15:06.452Z"
   },
   {
    "duration": 3,
    "start_time": "2024-09-21T20:15:06.469Z"
   },
   {
    "duration": 3,
    "start_time": "2024-09-21T20:15:06.474Z"
   },
   {
    "duration": 3,
    "start_time": "2024-09-21T20:15:06.479Z"
   },
   {
    "duration": 3,
    "start_time": "2024-09-21T20:15:06.484Z"
   },
   {
    "duration": 791,
    "start_time": "2024-09-21T20:15:06.489Z"
   },
   {
    "duration": 96,
    "start_time": "2024-09-21T20:15:07.282Z"
   },
   {
    "duration": 5,
    "start_time": "2024-09-21T20:15:07.380Z"
   },
   {
    "duration": 10,
    "start_time": "2024-09-21T20:15:07.387Z"
   },
   {
    "duration": 9,
    "start_time": "2024-09-21T20:15:07.399Z"
   },
   {
    "duration": 5,
    "start_time": "2024-09-21T20:15:07.409Z"
   },
   {
    "duration": 31,
    "start_time": "2024-09-21T20:15:07.415Z"
   },
   {
    "duration": 5,
    "start_time": "2024-09-21T20:15:07.450Z"
   },
   {
    "duration": 36,
    "start_time": "2024-09-21T20:15:07.456Z"
   },
   {
    "duration": 15,
    "start_time": "2024-09-21T20:15:07.495Z"
   },
   {
    "duration": 59,
    "start_time": "2024-09-21T20:15:07.511Z"
   },
   {
    "duration": 4,
    "start_time": "2024-09-21T20:15:07.572Z"
   },
   {
    "duration": 76,
    "start_time": "2024-09-21T20:15:07.577Z"
   },
   {
    "duration": 483,
    "start_time": "2024-09-21T20:15:07.655Z"
   },
   {
    "duration": 4,
    "start_time": "2024-09-21T20:15:08.139Z"
   },
   {
    "duration": 4,
    "start_time": "2024-09-21T20:15:08.145Z"
   },
   {
    "duration": 2174,
    "start_time": "2024-09-21T20:15:08.151Z"
   },
   {
    "duration": 241,
    "start_time": "2024-09-21T20:15:10.327Z"
   },
   {
    "duration": 319,
    "start_time": "2024-09-21T20:15:10.570Z"
   },
   {
    "duration": 260,
    "start_time": "2024-09-21T20:15:10.891Z"
   },
   {
    "duration": 395,
    "start_time": "2024-09-21T20:15:11.158Z"
   },
   {
    "duration": 0,
    "start_time": "2024-09-21T20:15:11.555Z"
   },
   {
    "duration": 0,
    "start_time": "2024-09-21T20:15:11.556Z"
   },
   {
    "duration": 0,
    "start_time": "2024-09-21T20:15:11.557Z"
   },
   {
    "duration": 0,
    "start_time": "2024-09-21T20:15:11.559Z"
   },
   {
    "duration": 0,
    "start_time": "2024-09-21T20:15:11.560Z"
   },
   {
    "duration": 0,
    "start_time": "2024-09-21T20:15:11.561Z"
   },
   {
    "duration": 0,
    "start_time": "2024-09-21T20:15:11.562Z"
   },
   {
    "duration": 0,
    "start_time": "2024-09-21T20:15:11.563Z"
   },
   {
    "duration": 0,
    "start_time": "2024-09-21T20:15:11.563Z"
   },
   {
    "duration": 0,
    "start_time": "2024-09-21T20:15:11.565Z"
   },
   {
    "duration": 0,
    "start_time": "2024-09-21T20:15:11.565Z"
   },
   {
    "duration": 0,
    "start_time": "2024-09-21T20:15:11.567Z"
   },
   {
    "duration": 0,
    "start_time": "2024-09-21T20:15:11.568Z"
   },
   {
    "duration": 0,
    "start_time": "2024-09-21T20:15:11.569Z"
   },
   {
    "duration": 301,
    "start_time": "2024-09-23T15:27:09.676Z"
   },
   {
    "duration": 1013,
    "start_time": "2024-09-23T15:27:09.979Z"
   },
   {
    "duration": 16,
    "start_time": "2024-09-23T15:27:10.994Z"
   },
   {
    "duration": 11,
    "start_time": "2024-09-23T15:27:11.012Z"
   },
   {
    "duration": 7,
    "start_time": "2024-09-23T15:27:11.024Z"
   },
   {
    "duration": 7,
    "start_time": "2024-09-23T15:27:11.033Z"
   },
   {
    "duration": 6,
    "start_time": "2024-09-23T15:27:11.042Z"
   },
   {
    "duration": 127,
    "start_time": "2024-09-23T15:27:11.050Z"
   },
   {
    "duration": 11,
    "start_time": "2024-09-23T15:27:11.179Z"
   },
   {
    "duration": 105,
    "start_time": "2024-09-23T15:27:11.204Z"
   },
   {
    "duration": 96,
    "start_time": "2024-09-23T15:27:11.311Z"
   },
   {
    "duration": 29,
    "start_time": "2024-09-23T15:27:11.408Z"
   },
   {
    "duration": 13,
    "start_time": "2024-09-23T15:27:11.439Z"
   },
   {
    "duration": 4,
    "start_time": "2024-09-23T15:27:11.453Z"
   },
   {
    "duration": 19,
    "start_time": "2024-09-23T15:27:11.459Z"
   },
   {
    "duration": 17,
    "start_time": "2024-09-23T15:27:11.506Z"
   },
   {
    "duration": 3,
    "start_time": "2024-09-23T15:27:11.524Z"
   },
   {
    "duration": 3,
    "start_time": "2024-09-23T15:27:11.529Z"
   },
   {
    "duration": 3,
    "start_time": "2024-09-23T15:27:11.534Z"
   },
   {
    "duration": 3,
    "start_time": "2024-09-23T15:27:11.539Z"
   },
   {
    "duration": 852,
    "start_time": "2024-09-23T15:27:11.544Z"
   },
   {
    "duration": 129,
    "start_time": "2024-09-23T15:27:12.398Z"
   },
   {
    "duration": 5,
    "start_time": "2024-09-23T15:27:12.530Z"
   },
   {
    "duration": 10,
    "start_time": "2024-09-23T15:27:12.537Z"
   },
   {
    "duration": 9,
    "start_time": "2024-09-23T15:27:12.548Z"
   },
   {
    "duration": 5,
    "start_time": "2024-09-23T15:27:12.558Z"
   },
   {
    "duration": 5,
    "start_time": "2024-09-23T15:27:12.564Z"
   },
   {
    "duration": 34,
    "start_time": "2024-09-23T15:27:12.573Z"
   },
   {
    "duration": 39,
    "start_time": "2024-09-23T15:27:12.610Z"
   },
   {
    "duration": 16,
    "start_time": "2024-09-23T15:27:12.650Z"
   },
   {
    "duration": 55,
    "start_time": "2024-09-23T15:27:12.667Z"
   },
   {
    "duration": 4,
    "start_time": "2024-09-23T15:27:12.724Z"
   },
   {
    "duration": 76,
    "start_time": "2024-09-23T15:27:12.731Z"
   },
   {
    "duration": 493,
    "start_time": "2024-09-23T15:27:12.812Z"
   },
   {
    "duration": 4,
    "start_time": "2024-09-23T15:27:13.307Z"
   },
   {
    "duration": 4,
    "start_time": "2024-09-23T15:27:13.312Z"
   },
   {
    "duration": 2239,
    "start_time": "2024-09-23T15:27:13.318Z"
   },
   {
    "duration": 232,
    "start_time": "2024-09-23T15:27:15.559Z"
   },
   {
    "duration": 349,
    "start_time": "2024-09-23T15:27:15.793Z"
   },
   {
    "duration": 220,
    "start_time": "2024-09-23T15:27:16.144Z"
   },
   {
    "duration": 292,
    "start_time": "2024-09-23T15:27:16.366Z"
   },
   {
    "duration": 320,
    "start_time": "2024-09-23T15:34:13.207Z"
   },
   {
    "duration": 1054,
    "start_time": "2024-09-23T15:34:13.529Z"
   },
   {
    "duration": 21,
    "start_time": "2024-09-23T15:34:14.584Z"
   },
   {
    "duration": 11,
    "start_time": "2024-09-23T15:34:14.607Z"
   },
   {
    "duration": 8,
    "start_time": "2024-09-23T15:34:14.619Z"
   },
   {
    "duration": 8,
    "start_time": "2024-09-23T15:34:14.629Z"
   },
   {
    "duration": 7,
    "start_time": "2024-09-23T15:34:14.638Z"
   },
   {
    "duration": 129,
    "start_time": "2024-09-23T15:34:14.647Z"
   },
   {
    "duration": 11,
    "start_time": "2024-09-23T15:34:14.778Z"
   },
   {
    "duration": 120,
    "start_time": "2024-09-23T15:34:14.792Z"
   },
   {
    "duration": 93,
    "start_time": "2024-09-23T15:34:14.914Z"
   },
   {
    "duration": 35,
    "start_time": "2024-09-23T15:34:15.009Z"
   },
   {
    "duration": 12,
    "start_time": "2024-09-23T15:34:15.047Z"
   },
   {
    "duration": 3,
    "start_time": "2024-09-23T15:34:15.061Z"
   },
   {
    "duration": 41,
    "start_time": "2024-09-23T15:34:15.066Z"
   },
   {
    "duration": 16,
    "start_time": "2024-09-23T15:34:15.109Z"
   },
   {
    "duration": 4,
    "start_time": "2024-09-23T15:34:15.126Z"
   },
   {
    "duration": 3,
    "start_time": "2024-09-23T15:34:15.132Z"
   },
   {
    "duration": 3,
    "start_time": "2024-09-23T15:34:15.138Z"
   },
   {
    "duration": 3,
    "start_time": "2024-09-23T15:34:15.143Z"
   },
   {
    "duration": 864,
    "start_time": "2024-09-23T15:34:15.148Z"
   },
   {
    "duration": 78,
    "start_time": "2024-09-23T15:34:16.014Z"
   },
   {
    "duration": 5,
    "start_time": "2024-09-23T15:34:16.104Z"
   },
   {
    "duration": 10,
    "start_time": "2024-09-23T15:34:16.111Z"
   },
   {
    "duration": 10,
    "start_time": "2024-09-23T15:34:16.122Z"
   },
   {
    "duration": 5,
    "start_time": "2024-09-23T15:34:16.133Z"
   },
   {
    "duration": 4,
    "start_time": "2024-09-23T15:34:16.140Z"
   },
   {
    "duration": 5,
    "start_time": "2024-09-23T15:34:16.149Z"
   },
   {
    "duration": 76,
    "start_time": "2024-09-23T15:34:16.155Z"
   },
   {
    "duration": 15,
    "start_time": "2024-09-23T15:34:16.233Z"
   },
   {
    "duration": 35,
    "start_time": "2024-09-23T15:34:16.250Z"
   },
   {
    "duration": 21,
    "start_time": "2024-09-23T15:34:16.287Z"
   },
   {
    "duration": 65,
    "start_time": "2024-09-23T15:34:16.310Z"
   },
   {
    "duration": 494,
    "start_time": "2024-09-23T15:34:16.376Z"
   },
   {
    "duration": 4,
    "start_time": "2024-09-23T15:34:16.872Z"
   },
   {
    "duration": 4,
    "start_time": "2024-09-23T15:34:16.877Z"
   },
   {
    "duration": 492,
    "start_time": "2024-09-23T15:34:16.883Z"
   },
   {
    "duration": 225,
    "start_time": "2024-09-23T15:34:17.377Z"
   },
   {
    "duration": 301,
    "start_time": "2024-09-23T15:34:17.605Z"
   },
   {
    "duration": 216,
    "start_time": "2024-09-23T15:34:17.908Z"
   },
   {
    "duration": 742,
    "start_time": "2024-09-23T15:34:18.128Z"
   },
   {
    "duration": 0,
    "start_time": "2024-09-23T15:34:18.872Z"
   },
   {
    "duration": 0,
    "start_time": "2024-09-23T15:34:18.873Z"
   },
   {
    "duration": 0,
    "start_time": "2024-09-23T15:34:18.874Z"
   },
   {
    "duration": 0,
    "start_time": "2024-09-23T15:34:18.876Z"
   },
   {
    "duration": 0,
    "start_time": "2024-09-23T15:34:18.877Z"
   },
   {
    "duration": 0,
    "start_time": "2024-09-23T15:34:18.878Z"
   },
   {
    "duration": 0,
    "start_time": "2024-09-23T15:34:18.879Z"
   },
   {
    "duration": 0,
    "start_time": "2024-09-23T15:34:18.880Z"
   },
   {
    "duration": 0,
    "start_time": "2024-09-23T15:34:18.881Z"
   },
   {
    "duration": 1,
    "start_time": "2024-09-23T15:34:18.882Z"
   },
   {
    "duration": 0,
    "start_time": "2024-09-23T15:34:18.884Z"
   },
   {
    "duration": 0,
    "start_time": "2024-09-23T15:34:18.905Z"
   },
   {
    "duration": 0,
    "start_time": "2024-09-23T15:34:18.907Z"
   },
   {
    "duration": 0,
    "start_time": "2024-09-23T15:34:18.908Z"
   },
   {
    "duration": 155,
    "start_time": "2024-09-23T15:34:55.220Z"
   },
   {
    "duration": 339,
    "start_time": "2024-09-23T15:36:10.326Z"
   },
   {
    "duration": 215,
    "start_time": "2024-09-23T15:51:34.879Z"
   },
   {
    "duration": 224,
    "start_time": "2024-09-23T15:51:46.706Z"
   },
   {
    "duration": 220,
    "start_time": "2024-09-23T15:52:00.052Z"
   },
   {
    "duration": 288,
    "start_time": "2024-09-23T16:17:37.590Z"
   },
   {
    "duration": 887,
    "start_time": "2024-09-23T16:17:37.880Z"
   },
   {
    "duration": 11,
    "start_time": "2024-09-23T16:17:38.769Z"
   },
   {
    "duration": 24,
    "start_time": "2024-09-23T16:17:38.782Z"
   },
   {
    "duration": 9,
    "start_time": "2024-09-23T16:17:38.807Z"
   },
   {
    "duration": 8,
    "start_time": "2024-09-23T16:17:38.819Z"
   },
   {
    "duration": 7,
    "start_time": "2024-09-23T16:17:38.828Z"
   },
   {
    "duration": 116,
    "start_time": "2024-09-23T16:17:38.836Z"
   },
   {
    "duration": 10,
    "start_time": "2024-09-23T16:17:38.954Z"
   },
   {
    "duration": 129,
    "start_time": "2024-09-23T16:17:38.967Z"
   },
   {
    "duration": 97,
    "start_time": "2024-09-23T16:17:39.098Z"
   },
   {
    "duration": 35,
    "start_time": "2024-09-23T16:17:39.197Z"
   },
   {
    "duration": 12,
    "start_time": "2024-09-23T16:17:39.234Z"
   },
   {
    "duration": 4,
    "start_time": "2024-09-23T16:17:39.248Z"
   },
   {
    "duration": 18,
    "start_time": "2024-09-23T16:17:39.253Z"
   },
   {
    "duration": 44,
    "start_time": "2024-09-23T16:17:39.273Z"
   },
   {
    "duration": 3,
    "start_time": "2024-09-23T16:17:39.319Z"
   },
   {
    "duration": 3,
    "start_time": "2024-09-23T16:17:39.325Z"
   },
   {
    "duration": 3,
    "start_time": "2024-09-23T16:17:39.329Z"
   },
   {
    "duration": 3,
    "start_time": "2024-09-23T16:17:39.334Z"
   },
   {
    "duration": 829,
    "start_time": "2024-09-23T16:17:39.339Z"
   },
   {
    "duration": 101,
    "start_time": "2024-09-23T16:17:40.170Z"
   },
   {
    "duration": 4,
    "start_time": "2024-09-23T16:17:40.273Z"
   },
   {
    "duration": 11,
    "start_time": "2024-09-23T16:17:40.279Z"
   },
   {
    "duration": 22,
    "start_time": "2024-09-23T16:17:40.291Z"
   },
   {
    "duration": 5,
    "start_time": "2024-09-23T16:17:40.315Z"
   },
   {
    "duration": 5,
    "start_time": "2024-09-23T16:17:40.322Z"
   },
   {
    "duration": 5,
    "start_time": "2024-09-23T16:17:40.331Z"
   },
   {
    "duration": 37,
    "start_time": "2024-09-23T16:17:40.339Z"
   },
   {
    "duration": 40,
    "start_time": "2024-09-23T16:17:40.377Z"
   },
   {
    "duration": 32,
    "start_time": "2024-09-23T16:17:40.420Z"
   },
   {
    "duration": 4,
    "start_time": "2024-09-23T16:17:40.454Z"
   },
   {
    "duration": 88,
    "start_time": "2024-09-23T16:17:40.460Z"
   },
   {
    "duration": 488,
    "start_time": "2024-09-23T16:17:40.550Z"
   },
   {
    "duration": 4,
    "start_time": "2024-09-23T16:17:41.040Z"
   },
   {
    "duration": 4,
    "start_time": "2024-09-23T16:17:41.045Z"
   },
   {
    "duration": 485,
    "start_time": "2024-09-23T16:17:41.052Z"
   },
   {
    "duration": 238,
    "start_time": "2024-09-23T16:17:41.539Z"
   },
   {
    "duration": 297,
    "start_time": "2024-09-23T16:17:41.779Z"
   },
   {
    "duration": 255,
    "start_time": "2024-09-23T16:17:42.078Z"
   },
   {
    "duration": 238,
    "start_time": "2024-09-23T16:17:42.335Z"
   },
   {
    "duration": 1597,
    "start_time": "2024-09-23T16:25:13.008Z"
   },
   {
    "duration": 334,
    "start_time": "2024-09-23T16:26:45.710Z"
   },
   {
    "duration": 999,
    "start_time": "2024-09-23T16:26:46.047Z"
   },
   {
    "duration": 12,
    "start_time": "2024-09-23T16:26:47.048Z"
   },
   {
    "duration": 9,
    "start_time": "2024-09-23T16:26:47.062Z"
   },
   {
    "duration": 8,
    "start_time": "2024-09-23T16:26:47.073Z"
   },
   {
    "duration": 29,
    "start_time": "2024-09-23T16:26:47.083Z"
   },
   {
    "duration": 7,
    "start_time": "2024-09-23T16:26:47.113Z"
   },
   {
    "duration": 111,
    "start_time": "2024-09-23T16:26:47.122Z"
   },
   {
    "duration": 11,
    "start_time": "2024-09-23T16:26:47.234Z"
   },
   {
    "duration": 111,
    "start_time": "2024-09-23T16:26:47.248Z"
   },
   {
    "duration": 100,
    "start_time": "2024-09-23T16:26:47.361Z"
   },
   {
    "duration": 28,
    "start_time": "2024-09-23T16:26:47.463Z"
   },
   {
    "duration": 25,
    "start_time": "2024-09-23T16:26:47.493Z"
   },
   {
    "duration": 5,
    "start_time": "2024-09-23T16:26:47.520Z"
   },
   {
    "duration": 23,
    "start_time": "2024-09-23T16:26:47.527Z"
   },
   {
    "duration": 15,
    "start_time": "2024-09-23T16:26:47.553Z"
   },
   {
    "duration": 3,
    "start_time": "2024-09-23T16:26:47.570Z"
   },
   {
    "duration": 33,
    "start_time": "2024-09-23T16:26:47.575Z"
   },
   {
    "duration": 4,
    "start_time": "2024-09-23T16:26:47.609Z"
   },
   {
    "duration": 4,
    "start_time": "2024-09-23T16:26:47.614Z"
   },
   {
    "duration": 825,
    "start_time": "2024-09-23T16:26:47.620Z"
   },
   {
    "duration": 79,
    "start_time": "2024-09-23T16:26:48.447Z"
   },
   {
    "duration": 5,
    "start_time": "2024-09-23T16:26:48.529Z"
   },
   {
    "duration": 9,
    "start_time": "2024-09-23T16:26:48.535Z"
   },
   {
    "duration": 10,
    "start_time": "2024-09-23T16:26:48.546Z"
   },
   {
    "duration": 7,
    "start_time": "2024-09-23T16:26:48.558Z"
   },
   {
    "duration": 5,
    "start_time": "2024-09-23T16:26:48.567Z"
   },
   {
    "duration": 7,
    "start_time": "2024-09-23T16:26:48.605Z"
   },
   {
    "duration": 39,
    "start_time": "2024-09-23T16:26:48.613Z"
   },
   {
    "duration": 15,
    "start_time": "2024-09-23T16:26:48.654Z"
   },
   {
    "duration": 57,
    "start_time": "2024-09-23T16:26:48.671Z"
   },
   {
    "duration": 5,
    "start_time": "2024-09-23T16:26:48.730Z"
   },
   {
    "duration": 81,
    "start_time": "2024-09-23T16:26:48.737Z"
   },
   {
    "duration": 485,
    "start_time": "2024-09-23T16:26:48.820Z"
   },
   {
    "duration": 4,
    "start_time": "2024-09-23T16:26:49.306Z"
   },
   {
    "duration": 3,
    "start_time": "2024-09-23T16:26:49.313Z"
   },
   {
    "duration": 472,
    "start_time": "2024-09-23T16:26:49.319Z"
   },
   {
    "duration": 228,
    "start_time": "2024-09-23T16:26:49.793Z"
   },
   {
    "duration": 307,
    "start_time": "2024-09-23T16:26:50.023Z"
   },
   {
    "duration": 218,
    "start_time": "2024-09-23T16:26:50.331Z"
   },
   {
    "duration": 240,
    "start_time": "2024-09-23T16:26:50.551Z"
   },
   {
    "duration": 1024,
    "start_time": "2024-09-23T16:26:50.793Z"
   },
   {
    "duration": 1201,
    "start_time": "2024-09-23T16:26:51.819Z"
   },
   {
    "duration": 0,
    "start_time": "2024-09-23T16:26:53.023Z"
   },
   {
    "duration": 0,
    "start_time": "2024-09-23T16:26:53.024Z"
   },
   {
    "duration": 0,
    "start_time": "2024-09-23T16:26:53.025Z"
   },
   {
    "duration": 0,
    "start_time": "2024-09-23T16:26:53.026Z"
   },
   {
    "duration": 0,
    "start_time": "2024-09-23T16:26:53.027Z"
   },
   {
    "duration": 0,
    "start_time": "2024-09-23T16:26:53.028Z"
   },
   {
    "duration": 0,
    "start_time": "2024-09-23T16:26:53.030Z"
   },
   {
    "duration": 0,
    "start_time": "2024-09-23T16:26:53.031Z"
   },
   {
    "duration": 0,
    "start_time": "2024-09-23T16:26:53.033Z"
   },
   {
    "duration": 0,
    "start_time": "2024-09-23T16:26:53.035Z"
   },
   {
    "duration": 0,
    "start_time": "2024-09-23T16:26:53.036Z"
   },
   {
    "duration": 226,
    "start_time": "2024-09-23T16:27:18.827Z"
   },
   {
    "duration": 145,
    "start_time": "2024-09-23T16:27:49.215Z"
   },
   {
    "duration": 217,
    "start_time": "2024-09-23T16:27:56.181Z"
   },
   {
    "duration": 213,
    "start_time": "2024-09-23T16:28:12.979Z"
   },
   {
    "duration": 1067,
    "start_time": "2024-09-23T16:32:48.601Z"
   },
   {
    "duration": 202,
    "start_time": "2024-09-23T16:33:00.743Z"
   },
   {
    "duration": 1007,
    "start_time": "2024-09-23T16:34:24.808Z"
   },
   {
    "duration": 333,
    "start_time": "2024-09-23T16:36:28.532Z"
   },
   {
    "duration": 860,
    "start_time": "2024-09-23T16:36:28.867Z"
   },
   {
    "duration": 12,
    "start_time": "2024-09-23T16:36:29.729Z"
   },
   {
    "duration": 10,
    "start_time": "2024-09-23T16:36:29.743Z"
   },
   {
    "duration": 7,
    "start_time": "2024-09-23T16:36:29.755Z"
   },
   {
    "duration": 7,
    "start_time": "2024-09-23T16:36:29.765Z"
   },
   {
    "duration": 32,
    "start_time": "2024-09-23T16:36:29.773Z"
   },
   {
    "duration": 106,
    "start_time": "2024-09-23T16:36:29.807Z"
   },
   {
    "duration": 11,
    "start_time": "2024-09-23T16:36:29.915Z"
   },
   {
    "duration": 117,
    "start_time": "2024-09-23T16:36:29.930Z"
   },
   {
    "duration": 99,
    "start_time": "2024-09-23T16:36:30.049Z"
   },
   {
    "duration": 28,
    "start_time": "2024-09-23T16:36:30.150Z"
   },
   {
    "duration": 24,
    "start_time": "2024-09-23T16:36:30.181Z"
   },
   {
    "duration": 4,
    "start_time": "2024-09-23T16:36:30.207Z"
   },
   {
    "duration": 19,
    "start_time": "2024-09-23T16:36:30.213Z"
   },
   {
    "duration": 16,
    "start_time": "2024-09-23T16:36:30.234Z"
   },
   {
    "duration": 4,
    "start_time": "2024-09-23T16:36:30.252Z"
   },
   {
    "duration": 4,
    "start_time": "2024-09-23T16:36:30.257Z"
   },
   {
    "duration": 4,
    "start_time": "2024-09-23T16:36:30.262Z"
   },
   {
    "duration": 3,
    "start_time": "2024-09-23T16:36:30.306Z"
   },
   {
    "duration": 842,
    "start_time": "2024-09-23T16:36:30.311Z"
   },
   {
    "duration": 85,
    "start_time": "2024-09-23T16:36:31.156Z"
   },
   {
    "duration": 5,
    "start_time": "2024-09-23T16:36:31.243Z"
   },
   {
    "duration": 20,
    "start_time": "2024-09-23T16:36:31.251Z"
   },
   {
    "duration": 13,
    "start_time": "2024-09-23T16:36:31.274Z"
   },
   {
    "duration": 17,
    "start_time": "2024-09-23T16:36:31.290Z"
   },
   {
    "duration": 5,
    "start_time": "2024-09-23T16:36:31.309Z"
   },
   {
    "duration": 5,
    "start_time": "2024-09-23T16:36:31.319Z"
   },
   {
    "duration": 36,
    "start_time": "2024-09-23T16:36:31.326Z"
   },
   {
    "duration": 14,
    "start_time": "2024-09-23T16:36:31.364Z"
   },
   {
    "duration": 34,
    "start_time": "2024-09-23T16:36:31.406Z"
   },
   {
    "duration": 4,
    "start_time": "2024-09-23T16:36:31.442Z"
   },
   {
    "duration": 86,
    "start_time": "2024-09-23T16:36:31.447Z"
   },
   {
    "duration": 489,
    "start_time": "2024-09-23T16:36:31.534Z"
   },
   {
    "duration": 3,
    "start_time": "2024-09-23T16:36:32.025Z"
   },
   {
    "duration": 4,
    "start_time": "2024-09-23T16:36:32.029Z"
   },
   {
    "duration": 490,
    "start_time": "2024-09-23T16:36:32.035Z"
   },
   {
    "duration": 233,
    "start_time": "2024-09-23T16:36:32.527Z"
   },
   {
    "duration": 312,
    "start_time": "2024-09-23T16:36:32.763Z"
   },
   {
    "duration": 228,
    "start_time": "2024-09-23T16:36:33.077Z"
   },
   {
    "duration": 221,
    "start_time": "2024-09-23T16:36:33.307Z"
   },
   {
    "duration": 1041,
    "start_time": "2024-09-23T16:36:33.530Z"
   },
   {
    "duration": 1147,
    "start_time": "2024-09-23T16:36:34.573Z"
   },
   {
    "duration": 0,
    "start_time": "2024-09-23T16:36:35.722Z"
   },
   {
    "duration": 0,
    "start_time": "2024-09-23T16:36:35.723Z"
   },
   {
    "duration": 0,
    "start_time": "2024-09-23T16:36:35.724Z"
   },
   {
    "duration": 0,
    "start_time": "2024-09-23T16:36:35.725Z"
   },
   {
    "duration": 0,
    "start_time": "2024-09-23T16:36:35.727Z"
   },
   {
    "duration": 0,
    "start_time": "2024-09-23T16:36:35.728Z"
   },
   {
    "duration": 0,
    "start_time": "2024-09-23T16:36:35.729Z"
   },
   {
    "duration": 0,
    "start_time": "2024-09-23T16:36:35.730Z"
   },
   {
    "duration": 0,
    "start_time": "2024-09-23T16:36:35.731Z"
   },
   {
    "duration": 0,
    "start_time": "2024-09-23T16:36:35.732Z"
   },
   {
    "duration": 0,
    "start_time": "2024-09-23T16:36:35.733Z"
   },
   {
    "duration": 1098,
    "start_time": "2024-09-23T16:38:28.071Z"
   },
   {
    "duration": 770,
    "start_time": "2024-09-23T16:39:19.335Z"
   },
   {
    "duration": 3,
    "start_time": "2024-09-23T16:44:10.536Z"
   },
   {
    "duration": 4,
    "start_time": "2024-09-23T16:44:22.564Z"
   },
   {
    "duration": 14,
    "start_time": "2024-09-23T16:44:29.019Z"
   },
   {
    "duration": 3,
    "start_time": "2024-09-23T16:45:46.081Z"
   },
   {
    "duration": 14,
    "start_time": "2024-09-23T16:46:00.600Z"
   },
   {
    "duration": 4,
    "start_time": "2024-09-23T16:46:08.306Z"
   },
   {
    "duration": 116,
    "start_time": "2024-09-23T16:47:03.052Z"
   },
   {
    "duration": 3,
    "start_time": "2024-09-23T16:47:11.826Z"
   },
   {
    "duration": 27,
    "start_time": "2024-09-23T16:47:16.499Z"
   },
   {
    "duration": 4,
    "start_time": "2024-09-23T16:47:40.340Z"
   },
   {
    "duration": 329,
    "start_time": "2024-09-24T00:23:33.531Z"
   },
   {
    "duration": 1073,
    "start_time": "2024-09-24T00:23:33.862Z"
   },
   {
    "duration": 11,
    "start_time": "2024-09-24T00:23:34.937Z"
   },
   {
    "duration": 10,
    "start_time": "2024-09-24T00:23:34.949Z"
   },
   {
    "duration": 7,
    "start_time": "2024-09-24T00:23:34.962Z"
   },
   {
    "duration": 7,
    "start_time": "2024-09-24T00:23:34.987Z"
   },
   {
    "duration": 8,
    "start_time": "2024-09-24T00:23:34.996Z"
   },
   {
    "duration": 115,
    "start_time": "2024-09-24T00:23:35.005Z"
   },
   {
    "duration": 10,
    "start_time": "2024-09-24T00:23:35.122Z"
   },
   {
    "duration": 116,
    "start_time": "2024-09-24T00:23:35.134Z"
   },
   {
    "duration": 96,
    "start_time": "2024-09-24T00:23:35.252Z"
   },
   {
    "duration": 37,
    "start_time": "2024-09-24T00:23:35.351Z"
   },
   {
    "duration": 12,
    "start_time": "2024-09-24T00:23:35.389Z"
   },
   {
    "duration": 3,
    "start_time": "2024-09-24T00:23:35.404Z"
   },
   {
    "duration": 18,
    "start_time": "2024-09-24T00:23:35.409Z"
   },
   {
    "duration": 16,
    "start_time": "2024-09-24T00:23:35.429Z"
   },
   {
    "duration": 3,
    "start_time": "2024-09-24T00:23:35.447Z"
   },
   {
    "duration": 35,
    "start_time": "2024-09-24T00:23:35.452Z"
   },
   {
    "duration": 4,
    "start_time": "2024-09-24T00:23:35.488Z"
   },
   {
    "duration": 3,
    "start_time": "2024-09-24T00:23:35.493Z"
   },
   {
    "duration": 797,
    "start_time": "2024-09-24T00:23:35.498Z"
   },
   {
    "duration": 91,
    "start_time": "2024-09-24T00:23:36.297Z"
   },
   {
    "duration": 5,
    "start_time": "2024-09-24T00:23:36.390Z"
   },
   {
    "duration": 10,
    "start_time": "2024-09-24T00:23:36.397Z"
   },
   {
    "duration": 9,
    "start_time": "2024-09-24T00:23:36.409Z"
   },
   {
    "duration": 5,
    "start_time": "2024-09-24T00:23:36.419Z"
   },
   {
    "duration": 4,
    "start_time": "2024-09-24T00:23:36.426Z"
   },
   {
    "duration": 5,
    "start_time": "2024-09-24T00:23:36.432Z"
   },
   {
    "duration": 75,
    "start_time": "2024-09-24T00:23:36.438Z"
   },
   {
    "duration": 16,
    "start_time": "2024-09-24T00:23:36.515Z"
   },
   {
    "duration": 32,
    "start_time": "2024-09-24T00:23:36.534Z"
   },
   {
    "duration": 4,
    "start_time": "2024-09-24T00:23:36.588Z"
   },
   {
    "duration": 64,
    "start_time": "2024-09-24T00:23:36.595Z"
   },
   {
    "duration": 512,
    "start_time": "2024-09-24T00:23:36.661Z"
   },
   {
    "duration": 12,
    "start_time": "2024-09-24T00:23:37.174Z"
   },
   {
    "duration": 3,
    "start_time": "2024-09-24T00:23:37.188Z"
   },
   {
    "duration": 2254,
    "start_time": "2024-09-24T00:23:37.193Z"
   },
   {
    "duration": 270,
    "start_time": "2024-09-24T00:23:39.449Z"
   },
   {
    "duration": 302,
    "start_time": "2024-09-24T00:23:39.721Z"
   },
   {
    "duration": 236,
    "start_time": "2024-09-24T00:23:40.026Z"
   },
   {
    "duration": 221,
    "start_time": "2024-09-24T00:23:40.267Z"
   },
   {
    "duration": 1056,
    "start_time": "2024-09-24T00:23:40.490Z"
   },
   {
    "duration": 780,
    "start_time": "2024-09-24T00:23:41.548Z"
   },
   {
    "duration": 3,
    "start_time": "2024-09-24T00:23:42.330Z"
   },
   {
    "duration": 4,
    "start_time": "2024-09-24T00:23:42.335Z"
   },
   {
    "duration": 2,
    "start_time": "2024-09-24T00:23:42.341Z"
   },
   {
    "duration": 3,
    "start_time": "2024-09-24T00:23:42.345Z"
   },
   {
    "duration": 3,
    "start_time": "2024-09-24T00:23:42.349Z"
   },
   {
    "duration": 33,
    "start_time": "2024-09-24T00:23:42.354Z"
   },
   {
    "duration": 2,
    "start_time": "2024-09-24T00:23:42.390Z"
   },
   {
    "duration": 2,
    "start_time": "2024-09-24T00:23:42.394Z"
   },
   {
    "duration": 3,
    "start_time": "2024-09-24T00:23:42.398Z"
   },
   {
    "duration": 2,
    "start_time": "2024-09-24T00:23:42.403Z"
   },
   {
    "duration": 296,
    "start_time": "2024-09-24T01:07:45.401Z"
   },
   {
    "duration": 351,
    "start_time": "2024-09-24T01:07:55.022Z"
   },
   {
    "duration": 925,
    "start_time": "2024-09-24T01:07:55.375Z"
   },
   {
    "duration": 12,
    "start_time": "2024-09-24T01:07:56.301Z"
   },
   {
    "duration": 10,
    "start_time": "2024-09-24T01:07:56.316Z"
   },
   {
    "duration": 9,
    "start_time": "2024-09-24T01:07:56.328Z"
   },
   {
    "duration": 8,
    "start_time": "2024-09-24T01:07:56.339Z"
   },
   {
    "duration": 40,
    "start_time": "2024-09-24T01:07:56.349Z"
   },
   {
    "duration": 112,
    "start_time": "2024-09-24T01:07:56.392Z"
   },
   {
    "duration": 11,
    "start_time": "2024-09-24T01:07:56.506Z"
   },
   {
    "duration": 131,
    "start_time": "2024-09-24T01:07:56.521Z"
   },
   {
    "duration": 107,
    "start_time": "2024-09-24T01:07:56.654Z"
   },
   {
    "duration": 42,
    "start_time": "2024-09-24T01:07:56.763Z"
   },
   {
    "duration": 14,
    "start_time": "2024-09-24T01:07:56.807Z"
   },
   {
    "duration": 4,
    "start_time": "2024-09-24T01:07:56.823Z"
   },
   {
    "duration": 20,
    "start_time": "2024-09-24T01:07:56.828Z"
   },
   {
    "duration": 46,
    "start_time": "2024-09-24T01:07:56.850Z"
   },
   {
    "duration": 4,
    "start_time": "2024-09-24T01:07:56.898Z"
   },
   {
    "duration": 3,
    "start_time": "2024-09-24T01:07:56.904Z"
   },
   {
    "duration": 4,
    "start_time": "2024-09-24T01:07:56.909Z"
   },
   {
    "duration": 3,
    "start_time": "2024-09-24T01:07:56.915Z"
   },
   {
    "duration": 922,
    "start_time": "2024-09-24T01:07:56.921Z"
   },
   {
    "duration": 176,
    "start_time": "2024-09-24T01:07:57.845Z"
   },
   {
    "duration": 6,
    "start_time": "2024-09-24T01:07:58.023Z"
   },
   {
    "duration": 11,
    "start_time": "2024-09-24T01:07:58.031Z"
   },
   {
    "duration": 11,
    "start_time": "2024-09-24T01:07:58.044Z"
   },
   {
    "duration": 31,
    "start_time": "2024-09-24T01:07:58.057Z"
   },
   {
    "duration": 5,
    "start_time": "2024-09-24T01:07:58.090Z"
   },
   {
    "duration": 6,
    "start_time": "2024-09-24T01:07:58.099Z"
   },
   {
    "duration": 46,
    "start_time": "2024-09-24T01:07:58.107Z"
   },
   {
    "duration": 45,
    "start_time": "2024-09-24T01:07:58.155Z"
   },
   {
    "duration": 34,
    "start_time": "2024-09-24T01:07:58.202Z"
   },
   {
    "duration": 4,
    "start_time": "2024-09-24T01:07:58.238Z"
   },
   {
    "duration": 86,
    "start_time": "2024-09-24T01:07:58.244Z"
   },
   {
    "duration": 503,
    "start_time": "2024-09-24T01:07:58.332Z"
   },
   {
    "duration": 4,
    "start_time": "2024-09-24T01:07:58.837Z"
   },
   {
    "duration": 4,
    "start_time": "2024-09-24T01:07:58.843Z"
   },
   {
    "duration": 526,
    "start_time": "2024-09-24T01:07:58.849Z"
   },
   {
    "duration": 237,
    "start_time": "2024-09-24T01:07:59.377Z"
   },
   {
    "duration": 304,
    "start_time": "2024-09-24T01:07:59.616Z"
   },
   {
    "duration": 223,
    "start_time": "2024-09-24T01:07:59.922Z"
   },
   {
    "duration": 227,
    "start_time": "2024-09-24T01:08:00.147Z"
   },
   {
    "duration": 1060,
    "start_time": "2024-09-24T01:08:00.376Z"
   },
   {
    "duration": 798,
    "start_time": "2024-09-24T01:08:01.438Z"
   },
   {
    "duration": 3,
    "start_time": "2024-09-24T01:08:02.238Z"
   },
   {
    "duration": 29,
    "start_time": "2024-09-24T01:08:02.243Z"
   },
   {
    "duration": 8,
    "start_time": "2024-09-24T01:08:02.274Z"
   },
   {
    "duration": 4,
    "start_time": "2024-09-24T01:08:02.284Z"
   },
   {
    "duration": 4,
    "start_time": "2024-09-24T01:08:02.290Z"
   },
   {
    "duration": 5,
    "start_time": "2024-09-24T01:08:02.296Z"
   },
   {
    "duration": 4,
    "start_time": "2024-09-24T01:08:02.303Z"
   },
   {
    "duration": 629,
    "start_time": "2024-09-24T01:08:02.308Z"
   },
   {
    "duration": 0,
    "start_time": "2024-09-24T01:08:02.939Z"
   },
   {
    "duration": 0,
    "start_time": "2024-09-24T01:08:02.941Z"
   },
   {
    "duration": 0,
    "start_time": "2024-09-24T01:08:02.942Z"
   },
   {
    "duration": 2148,
    "start_time": "2024-09-24T21:09:28.094Z"
   },
   {
    "duration": 1053,
    "start_time": "2024-09-24T21:09:30.245Z"
   },
   {
    "duration": 12,
    "start_time": "2024-09-24T21:09:31.300Z"
   },
   {
    "duration": 9,
    "start_time": "2024-09-24T21:09:31.315Z"
   },
   {
    "duration": 7,
    "start_time": "2024-09-24T21:09:31.342Z"
   },
   {
    "duration": 7,
    "start_time": "2024-09-24T21:09:31.351Z"
   },
   {
    "duration": 6,
    "start_time": "2024-09-24T21:09:31.360Z"
   },
   {
    "duration": 108,
    "start_time": "2024-09-24T21:09:31.368Z"
   },
   {
    "duration": 10,
    "start_time": "2024-09-24T21:09:31.478Z"
   },
   {
    "duration": 114,
    "start_time": "2024-09-24T21:09:31.490Z"
   },
   {
    "duration": 100,
    "start_time": "2024-09-24T21:09:31.605Z"
   },
   {
    "duration": 37,
    "start_time": "2024-09-24T21:09:31.707Z"
   },
   {
    "duration": 12,
    "start_time": "2024-09-24T21:09:31.745Z"
   },
   {
    "duration": 3,
    "start_time": "2024-09-24T21:09:31.762Z"
   },
   {
    "duration": 19,
    "start_time": "2024-09-24T21:09:31.767Z"
   },
   {
    "duration": 15,
    "start_time": "2024-09-24T21:09:31.787Z"
   },
   {
    "duration": 3,
    "start_time": "2024-09-24T21:09:31.804Z"
   },
   {
    "duration": 34,
    "start_time": "2024-09-24T21:09:31.810Z"
   },
   {
    "duration": 4,
    "start_time": "2024-09-24T21:09:31.846Z"
   },
   {
    "duration": 5,
    "start_time": "2024-09-24T21:09:31.852Z"
   },
   {
    "duration": 812,
    "start_time": "2024-09-24T21:09:31.858Z"
   },
   {
    "duration": 102,
    "start_time": "2024-09-24T21:09:32.672Z"
   },
   {
    "duration": 4,
    "start_time": "2024-09-24T21:09:32.776Z"
   },
   {
    "duration": 9,
    "start_time": "2024-09-24T21:09:32.782Z"
   },
   {
    "duration": 10,
    "start_time": "2024-09-24T21:09:32.793Z"
   },
   {
    "duration": 6,
    "start_time": "2024-09-24T21:09:32.805Z"
   },
   {
    "duration": 34,
    "start_time": "2024-09-24T21:09:32.813Z"
   },
   {
    "duration": 6,
    "start_time": "2024-09-24T21:09:32.849Z"
   },
   {
    "duration": 43,
    "start_time": "2024-09-24T21:09:32.858Z"
   },
   {
    "duration": 44,
    "start_time": "2024-09-24T21:09:32.902Z"
   },
   {
    "duration": 35,
    "start_time": "2024-09-24T21:09:32.949Z"
   },
   {
    "duration": 5,
    "start_time": "2024-09-24T21:09:32.986Z"
   },
   {
    "duration": 78,
    "start_time": "2024-09-24T21:09:32.993Z"
   },
   {
    "duration": 480,
    "start_time": "2024-09-24T21:09:33.074Z"
   },
   {
    "duration": 4,
    "start_time": "2024-09-24T21:09:33.555Z"
   },
   {
    "duration": 5,
    "start_time": "2024-09-24T21:09:33.561Z"
   },
   {
    "duration": 321,
    "start_time": "2024-09-24T21:09:33.567Z"
   },
   {
    "duration": 230,
    "start_time": "2024-09-24T21:09:33.890Z"
   },
   {
    "duration": 304,
    "start_time": "2024-09-24T21:09:34.122Z"
   },
   {
    "duration": 264,
    "start_time": "2024-09-24T21:09:34.428Z"
   },
   {
    "duration": 222,
    "start_time": "2024-09-24T21:09:34.697Z"
   },
   {
    "duration": 1047,
    "start_time": "2024-09-24T21:09:34.922Z"
   },
   {
    "duration": 1257,
    "start_time": "2024-09-24T21:09:35.971Z"
   },
   {
    "duration": 3,
    "start_time": "2024-09-24T21:09:37.230Z"
   },
   {
    "duration": 5,
    "start_time": "2024-09-24T21:09:37.243Z"
   },
   {
    "duration": 2,
    "start_time": "2024-09-24T21:09:37.250Z"
   },
   {
    "duration": 3,
    "start_time": "2024-09-24T21:09:37.254Z"
   },
   {
    "duration": 2,
    "start_time": "2024-09-24T21:09:37.261Z"
   },
   {
    "duration": 3,
    "start_time": "2024-09-24T21:09:37.265Z"
   },
   {
    "duration": 3,
    "start_time": "2024-09-24T21:09:37.270Z"
   },
   {
    "duration": 559,
    "start_time": "2024-09-24T21:09:37.274Z"
   },
   {
    "duration": 0,
    "start_time": "2024-09-24T21:09:37.843Z"
   },
   {
    "duration": 0,
    "start_time": "2024-09-24T21:09:37.844Z"
   },
   {
    "duration": 0,
    "start_time": "2024-09-24T21:09:37.846Z"
   },
   {
    "duration": 440,
    "start_time": "2024-09-24T21:19:37.087Z"
   },
   {
    "duration": 894,
    "start_time": "2024-09-24T21:19:37.529Z"
   },
   {
    "duration": 18,
    "start_time": "2024-09-24T21:19:38.425Z"
   },
   {
    "duration": 11,
    "start_time": "2024-09-24T21:19:38.445Z"
   },
   {
    "duration": 8,
    "start_time": "2024-09-24T21:19:38.457Z"
   },
   {
    "duration": 7,
    "start_time": "2024-09-24T21:19:38.467Z"
   },
   {
    "duration": 7,
    "start_time": "2024-09-24T21:19:38.476Z"
   },
   {
    "duration": 123,
    "start_time": "2024-09-24T21:19:38.485Z"
   },
   {
    "duration": 11,
    "start_time": "2024-09-24T21:19:38.610Z"
   },
   {
    "duration": 119,
    "start_time": "2024-09-24T21:19:38.625Z"
   },
   {
    "duration": 86,
    "start_time": "2024-09-24T21:19:38.746Z"
   },
   {
    "duration": 29,
    "start_time": "2024-09-24T21:19:38.842Z"
   },
   {
    "duration": 14,
    "start_time": "2024-09-24T21:19:38.872Z"
   },
   {
    "duration": 3,
    "start_time": "2024-09-24T21:19:38.888Z"
   },
   {
    "duration": 19,
    "start_time": "2024-09-24T21:19:38.892Z"
   },
   {
    "duration": 39,
    "start_time": "2024-09-24T21:19:38.913Z"
   },
   {
    "duration": 3,
    "start_time": "2024-09-24T21:19:38.953Z"
   },
   {
    "duration": 3,
    "start_time": "2024-09-24T21:19:38.959Z"
   },
   {
    "duration": 3,
    "start_time": "2024-09-24T21:19:38.964Z"
   },
   {
    "duration": 2,
    "start_time": "2024-09-24T21:19:38.969Z"
   },
   {
    "duration": 775,
    "start_time": "2024-09-24T21:19:38.973Z"
   },
   {
    "duration": 69,
    "start_time": "2024-09-24T21:19:39.749Z"
   },
   {
    "duration": 22,
    "start_time": "2024-09-24T21:19:39.820Z"
   },
   {
    "duration": 9,
    "start_time": "2024-09-24T21:19:39.844Z"
   },
   {
    "duration": 9,
    "start_time": "2024-09-24T21:19:39.855Z"
   },
   {
    "duration": 4,
    "start_time": "2024-09-24T21:19:39.866Z"
   },
   {
    "duration": 5,
    "start_time": "2024-09-24T21:19:39.872Z"
   },
   {
    "duration": 5,
    "start_time": "2024-09-24T21:19:39.882Z"
   },
   {
    "duration": 68,
    "start_time": "2024-09-24T21:19:39.888Z"
   },
   {
    "duration": 14,
    "start_time": "2024-09-24T21:19:39.958Z"
   },
   {
    "duration": 29,
    "start_time": "2024-09-24T21:19:39.974Z"
   },
   {
    "duration": 10,
    "start_time": "2024-09-24T21:19:40.005Z"
   },
   {
    "duration": 216,
    "start_time": "2024-09-24T21:19:40.017Z"
   },
   {
    "duration": 0,
    "start_time": "2024-09-24T21:19:40.235Z"
   },
   {
    "duration": 0,
    "start_time": "2024-09-24T21:19:40.236Z"
   },
   {
    "duration": 0,
    "start_time": "2024-09-24T21:19:40.237Z"
   },
   {
    "duration": 0,
    "start_time": "2024-09-24T21:19:40.243Z"
   },
   {
    "duration": 0,
    "start_time": "2024-09-24T21:19:40.247Z"
   },
   {
    "duration": 0,
    "start_time": "2024-09-24T21:19:40.248Z"
   },
   {
    "duration": 0,
    "start_time": "2024-09-24T21:19:40.249Z"
   },
   {
    "duration": 0,
    "start_time": "2024-09-24T21:19:40.250Z"
   },
   {
    "duration": 0,
    "start_time": "2024-09-24T21:19:40.251Z"
   },
   {
    "duration": 0,
    "start_time": "2024-09-24T21:19:40.252Z"
   },
   {
    "duration": 0,
    "start_time": "2024-09-24T21:19:40.253Z"
   },
   {
    "duration": 0,
    "start_time": "2024-09-24T21:19:40.254Z"
   },
   {
    "duration": 0,
    "start_time": "2024-09-24T21:19:40.255Z"
   },
   {
    "duration": 0,
    "start_time": "2024-09-24T21:19:40.256Z"
   },
   {
    "duration": 0,
    "start_time": "2024-09-24T21:19:40.257Z"
   },
   {
    "duration": 0,
    "start_time": "2024-09-24T21:19:40.258Z"
   },
   {
    "duration": 0,
    "start_time": "2024-09-24T21:19:40.258Z"
   },
   {
    "duration": 0,
    "start_time": "2024-09-24T21:19:40.259Z"
   },
   {
    "duration": 0,
    "start_time": "2024-09-24T21:19:40.260Z"
   },
   {
    "duration": 0,
    "start_time": "2024-09-24T21:19:40.260Z"
   },
   {
    "duration": 0,
    "start_time": "2024-09-24T21:19:40.261Z"
   },
   {
    "duration": 5,
    "start_time": "2024-09-24T21:20:04.097Z"
   },
   {
    "duration": 7,
    "start_time": "2024-09-24T21:20:09.484Z"
   },
   {
    "duration": 253,
    "start_time": "2024-09-24T21:20:15.990Z"
   },
   {
    "duration": 288,
    "start_time": "2024-09-24T21:20:24.506Z"
   },
   {
    "duration": 4,
    "start_time": "2024-09-24T21:21:11.505Z"
   },
   {
    "duration": 4,
    "start_time": "2024-09-24T21:21:14.706Z"
   },
   {
    "duration": 304,
    "start_time": "2024-09-24T21:25:12.830Z"
   },
   {
    "duration": 219,
    "start_time": "2024-09-24T21:26:18.377Z"
   },
   {
    "duration": 314,
    "start_time": "2024-09-24T21:26:54.350Z"
   },
   {
    "duration": 212,
    "start_time": "2024-09-24T21:30:07.296Z"
   },
   {
    "duration": 16,
    "start_time": "2024-09-24T21:32:57.576Z"
   },
   {
    "duration": 180,
    "start_time": "2024-09-24T21:34:51.018Z"
   },
   {
    "duration": 12,
    "start_time": "2024-09-24T21:35:06.896Z"
   },
   {
    "duration": 290,
    "start_time": "2024-09-24T21:35:10.854Z"
   },
   {
    "duration": 227,
    "start_time": "2024-09-24T21:35:31.804Z"
   },
   {
    "duration": 143,
    "start_time": "2024-09-24T21:39:51.005Z"
   },
   {
    "duration": 134,
    "start_time": "2024-09-24T21:40:02.188Z"
   },
   {
    "duration": 1234,
    "start_time": "2024-09-24T21:49:45.790Z"
   },
   {
    "duration": 17,
    "start_time": "2024-09-24T21:49:53.136Z"
   },
   {
    "duration": 2159,
    "start_time": "2024-09-24T22:58:09.124Z"
   },
   {
    "duration": 1038,
    "start_time": "2024-09-24T22:58:11.285Z"
   },
   {
    "duration": 12,
    "start_time": "2024-09-24T22:58:12.325Z"
   },
   {
    "duration": 9,
    "start_time": "2024-09-24T22:58:12.340Z"
   },
   {
    "duration": 7,
    "start_time": "2024-09-24T22:58:12.351Z"
   },
   {
    "duration": 8,
    "start_time": "2024-09-24T22:58:12.360Z"
   },
   {
    "duration": 6,
    "start_time": "2024-09-24T22:58:12.370Z"
   },
   {
    "duration": 105,
    "start_time": "2024-09-24T22:58:12.411Z"
   },
   {
    "duration": 12,
    "start_time": "2024-09-24T22:58:12.518Z"
   },
   {
    "duration": 115,
    "start_time": "2024-09-24T22:58:12.533Z"
   },
   {
    "duration": 96,
    "start_time": "2024-09-24T22:58:12.649Z"
   },
   {
    "duration": 31,
    "start_time": "2024-09-24T22:58:12.747Z"
   },
   {
    "duration": 13,
    "start_time": "2024-09-24T22:58:12.780Z"
   },
   {
    "duration": 19,
    "start_time": "2024-09-24T22:58:12.794Z"
   },
   {
    "duration": 19,
    "start_time": "2024-09-24T22:58:12.816Z"
   },
   {
    "duration": 15,
    "start_time": "2024-09-24T22:58:12.837Z"
   },
   {
    "duration": 3,
    "start_time": "2024-09-24T22:58:12.853Z"
   },
   {
    "duration": 4,
    "start_time": "2024-09-24T22:58:12.858Z"
   },
   {
    "duration": 3,
    "start_time": "2024-09-24T22:58:12.864Z"
   },
   {
    "duration": 4,
    "start_time": "2024-09-24T22:58:12.869Z"
   },
   {
    "duration": 759,
    "start_time": "2024-09-24T22:58:12.874Z"
   },
   {
    "duration": 79,
    "start_time": "2024-09-24T22:58:13.635Z"
   },
   {
    "duration": 4,
    "start_time": "2024-09-24T22:58:13.716Z"
   },
   {
    "duration": 9,
    "start_time": "2024-09-24T22:58:13.722Z"
   },
   {
    "duration": 8,
    "start_time": "2024-09-24T22:58:13.733Z"
   },
   {
    "duration": 5,
    "start_time": "2024-09-24T22:58:13.743Z"
   },
   {
    "duration": 4,
    "start_time": "2024-09-24T22:58:13.750Z"
   },
   {
    "duration": 6,
    "start_time": "2024-09-24T22:58:13.759Z"
   },
   {
    "duration": 77,
    "start_time": "2024-09-24T22:58:13.767Z"
   },
   {
    "duration": 15,
    "start_time": "2024-09-24T22:58:13.847Z"
   },
   {
    "duration": 30,
    "start_time": "2024-09-24T22:58:13.864Z"
   },
   {
    "duration": 10,
    "start_time": "2024-09-24T22:58:13.913Z"
   },
   {
    "duration": 4,
    "start_time": "2024-09-24T22:58:13.925Z"
   },
   {
    "duration": 480,
    "start_time": "2024-09-24T22:58:13.931Z"
   },
   {
    "duration": 5,
    "start_time": "2024-09-24T22:58:14.413Z"
   },
   {
    "duration": 4,
    "start_time": "2024-09-24T22:58:14.419Z"
   },
   {
    "duration": 366,
    "start_time": "2024-09-24T22:58:14.425Z"
   },
   {
    "duration": 247,
    "start_time": "2024-09-24T22:58:14.793Z"
   },
   {
    "duration": 312,
    "start_time": "2024-09-24T22:58:15.042Z"
   },
   {
    "duration": 224,
    "start_time": "2024-09-24T22:58:15.356Z"
   },
   {
    "duration": 11,
    "start_time": "2024-09-24T22:58:15.582Z"
   },
   {
    "duration": 230,
    "start_time": "2024-09-24T22:58:15.595Z"
   },
   {
    "duration": 134,
    "start_time": "2024-09-24T22:58:15.827Z"
   },
   {
    "duration": 689,
    "start_time": "2024-09-24T22:58:15.963Z"
   },
   {
    "duration": 247,
    "start_time": "2024-09-24T22:58:16.654Z"
   },
   {
    "duration": 0,
    "start_time": "2024-09-24T22:58:16.903Z"
   },
   {
    "duration": 0,
    "start_time": "2024-09-24T22:58:16.904Z"
   },
   {
    "duration": 0,
    "start_time": "2024-09-24T22:58:16.911Z"
   },
   {
    "duration": 0,
    "start_time": "2024-09-24T22:58:16.912Z"
   },
   {
    "duration": 0,
    "start_time": "2024-09-24T22:58:16.914Z"
   },
   {
    "duration": 0,
    "start_time": "2024-09-24T22:58:16.916Z"
   },
   {
    "duration": 0,
    "start_time": "2024-09-24T22:58:16.917Z"
   },
   {
    "duration": 0,
    "start_time": "2024-09-24T22:58:16.918Z"
   },
   {
    "duration": 0,
    "start_time": "2024-09-24T22:58:16.920Z"
   },
   {
    "duration": 0,
    "start_time": "2024-09-24T22:58:16.921Z"
   },
   {
    "duration": 111,
    "start_time": "2024-09-24T22:58:34.619Z"
   },
   {
    "duration": 334,
    "start_time": "2024-09-24T22:58:38.063Z"
   },
   {
    "duration": 315,
    "start_time": "2024-09-24T23:07:54.873Z"
   },
   {
    "duration": 306,
    "start_time": "2024-09-24T23:08:40.793Z"
   },
   {
    "duration": 324,
    "start_time": "2024-09-24T23:08:55.087Z"
   },
   {
    "duration": 275,
    "start_time": "2024-09-24T23:09:13.657Z"
   },
   {
    "duration": 9,
    "start_time": "2024-09-24T23:09:20.245Z"
   },
   {
    "duration": 15,
    "start_time": "2024-09-24T23:17:17.300Z"
   },
   {
    "duration": 448,
    "start_time": "2024-09-24T23:17:33.121Z"
   },
   {
    "duration": 421,
    "start_time": "2024-09-24T23:18:10.412Z"
   },
   {
    "duration": 482,
    "start_time": "2024-09-24T23:18:37.090Z"
   },
   {
    "duration": 399,
    "start_time": "2024-09-24T23:19:09.126Z"
   },
   {
    "duration": 396,
    "start_time": "2024-09-24T23:19:25.622Z"
   },
   {
    "duration": 392,
    "start_time": "2024-09-24T23:19:37.785Z"
   },
   {
    "duration": 400,
    "start_time": "2024-09-24T23:19:52.475Z"
   },
   {
    "duration": 465,
    "start_time": "2024-09-24T23:20:03.616Z"
   },
   {
    "duration": 387,
    "start_time": "2024-09-24T23:20:22.215Z"
   },
   {
    "duration": 450,
    "start_time": "2024-09-24T23:21:25.845Z"
   },
   {
    "duration": 437,
    "start_time": "2024-09-24T23:21:51.352Z"
   },
   {
    "duration": 445,
    "start_time": "2024-09-24T23:22:20.676Z"
   },
   {
    "duration": 13,
    "start_time": "2024-09-24T23:24:35.423Z"
   },
   {
    "duration": 99,
    "start_time": "2024-09-24T23:27:09.924Z"
   },
   {
    "duration": 6,
    "start_time": "2024-09-24T23:27:53.193Z"
   },
   {
    "duration": 7,
    "start_time": "2024-09-24T23:28:37.989Z"
   },
   {
    "duration": 233,
    "start_time": "2024-09-24T23:28:56.663Z"
   },
   {
    "duration": 5,
    "start_time": "2024-09-24T23:29:16.155Z"
   },
   {
    "duration": 214,
    "start_time": "2024-09-24T23:29:29.545Z"
   },
   {
    "duration": 2,
    "start_time": "2024-09-24T23:29:46.198Z"
   },
   {
    "duration": 354,
    "start_time": "2024-09-24T23:37:33.846Z"
   },
   {
    "duration": 12,
    "start_time": "2024-09-24T23:41:35.966Z"
   },
   {
    "duration": 866,
    "start_time": "2024-09-24T23:42:11.702Z"
   },
   {
    "duration": 12,
    "start_time": "2024-09-24T23:43:41.833Z"
   },
   {
    "duration": 95,
    "start_time": "2024-09-24T23:44:28.089Z"
   },
   {
    "duration": 5,
    "start_time": "2024-09-24T23:44:54.922Z"
   },
   {
    "duration": 35,
    "start_time": "2024-09-24T23:54:09.520Z"
   },
   {
    "duration": 12,
    "start_time": "2024-09-24T23:54:12.320Z"
   },
   {
    "duration": 15,
    "start_time": "2024-09-24T23:54:28.297Z"
   },
   {
    "duration": 7,
    "start_time": "2024-09-24T23:54:47.409Z"
   },
   {
    "duration": 8,
    "start_time": "2024-09-24T23:55:08.547Z"
   },
   {
    "duration": 6,
    "start_time": "2024-09-24T23:56:01.336Z"
   },
   {
    "duration": 3,
    "start_time": "2024-09-24T23:57:44.511Z"
   },
   {
    "duration": 355,
    "start_time": "2024-09-24T23:59:24.057Z"
   },
   {
    "duration": 3,
    "start_time": "2024-09-24T23:59:33.515Z"
   },
   {
    "duration": 12,
    "start_time": "2024-09-25T00:02:19.553Z"
   },
   {
    "duration": 5,
    "start_time": "2024-09-25T00:02:36.262Z"
   },
   {
    "duration": 13,
    "start_time": "2024-09-25T00:03:29.182Z"
   },
   {
    "duration": 5,
    "start_time": "2024-09-25T00:03:31.734Z"
   },
   {
    "duration": 3,
    "start_time": "2024-09-25T00:04:13.547Z"
   },
   {
    "duration": 2,
    "start_time": "2024-09-25T00:04:31.175Z"
   },
   {
    "duration": 2,
    "start_time": "2024-09-25T00:04:37.458Z"
   },
   {
    "duration": 35,
    "start_time": "2024-09-25T00:05:26.786Z"
   },
   {
    "duration": 19,
    "start_time": "2024-09-25T00:05:28.988Z"
   },
   {
    "duration": 2,
    "start_time": "2024-09-25T00:05:44.864Z"
   },
   {
    "duration": 13,
    "start_time": "2024-09-25T00:05:54.917Z"
   },
   {
    "duration": 8,
    "start_time": "2024-09-25T00:05:59.124Z"
   },
   {
    "duration": 436,
    "start_time": "2024-09-25T00:06:09.906Z"
   },
   {
    "duration": 900,
    "start_time": "2024-09-25T00:06:10.344Z"
   },
   {
    "duration": 12,
    "start_time": "2024-09-25T00:06:11.246Z"
   },
   {
    "duration": 10,
    "start_time": "2024-09-25T00:06:11.260Z"
   },
   {
    "duration": 8,
    "start_time": "2024-09-25T00:06:11.271Z"
   },
   {
    "duration": 32,
    "start_time": "2024-09-25T00:06:11.281Z"
   },
   {
    "duration": 7,
    "start_time": "2024-09-25T00:06:11.314Z"
   },
   {
    "duration": 104,
    "start_time": "2024-09-25T00:06:11.323Z"
   },
   {
    "duration": 11,
    "start_time": "2024-09-25T00:06:11.428Z"
   },
   {
    "duration": 115,
    "start_time": "2024-09-25T00:06:11.442Z"
   },
   {
    "duration": 88,
    "start_time": "2024-09-25T00:06:11.559Z"
   },
   {
    "duration": 27,
    "start_time": "2024-09-25T00:06:11.649Z"
   },
   {
    "duration": 12,
    "start_time": "2024-09-25T00:06:11.678Z"
   },
   {
    "duration": 22,
    "start_time": "2024-09-25T00:06:11.691Z"
   },
   {
    "duration": 18,
    "start_time": "2024-09-25T00:06:11.715Z"
   },
   {
    "duration": 15,
    "start_time": "2024-09-25T00:06:11.735Z"
   },
   {
    "duration": 4,
    "start_time": "2024-09-25T00:06:11.751Z"
   },
   {
    "duration": 4,
    "start_time": "2024-09-25T00:06:11.756Z"
   },
   {
    "duration": 4,
    "start_time": "2024-09-25T00:06:11.761Z"
   },
   {
    "duration": 4,
    "start_time": "2024-09-25T00:06:11.766Z"
   },
   {
    "duration": 807,
    "start_time": "2024-09-25T00:06:11.772Z"
   },
   {
    "duration": 87,
    "start_time": "2024-09-25T00:06:12.582Z"
   },
   {
    "duration": 5,
    "start_time": "2024-09-25T00:06:12.671Z"
   },
   {
    "duration": 8,
    "start_time": "2024-09-25T00:06:12.678Z"
   },
   {
    "duration": 25,
    "start_time": "2024-09-25T00:06:12.688Z"
   },
   {
    "duration": 5,
    "start_time": "2024-09-25T00:06:12.715Z"
   },
   {
    "duration": 4,
    "start_time": "2024-09-25T00:06:12.722Z"
   },
   {
    "duration": 5,
    "start_time": "2024-09-25T00:06:12.731Z"
   },
   {
    "duration": 38,
    "start_time": "2024-09-25T00:06:12.737Z"
   },
   {
    "duration": 39,
    "start_time": "2024-09-25T00:06:12.777Z"
   },
   {
    "duration": 29,
    "start_time": "2024-09-25T00:06:12.818Z"
   },
   {
    "duration": 12,
    "start_time": "2024-09-25T00:06:12.849Z"
   },
   {
    "duration": 4,
    "start_time": "2024-09-25T00:06:12.863Z"
   },
   {
    "duration": 515,
    "start_time": "2024-09-25T00:06:12.869Z"
   },
   {
    "duration": 4,
    "start_time": "2024-09-25T00:06:13.386Z"
   },
   {
    "duration": 4,
    "start_time": "2024-09-25T00:06:13.391Z"
   },
   {
    "duration": 315,
    "start_time": "2024-09-25T00:06:13.396Z"
   },
   {
    "duration": 221,
    "start_time": "2024-09-25T00:06:13.713Z"
   },
   {
    "duration": 308,
    "start_time": "2024-09-25T00:06:13.936Z"
   },
   {
    "duration": 217,
    "start_time": "2024-09-25T00:06:14.245Z"
   },
   {
    "duration": 12,
    "start_time": "2024-09-25T00:06:14.464Z"
   },
   {
    "duration": 240,
    "start_time": "2024-09-25T00:06:14.478Z"
   },
   {
    "duration": 142,
    "start_time": "2024-09-25T00:06:14.720Z"
   },
   {
    "duration": 742,
    "start_time": "2024-09-25T00:06:14.863Z"
   },
   {
    "duration": 113,
    "start_time": "2024-09-25T00:06:15.608Z"
   },
   {
    "duration": 351,
    "start_time": "2024-09-25T00:06:15.723Z"
   },
   {
    "duration": 273,
    "start_time": "2024-09-25T00:06:16.076Z"
   },
   {
    "duration": 9,
    "start_time": "2024-09-25T00:06:16.351Z"
   },
   {
    "duration": 481,
    "start_time": "2024-09-25T00:06:16.361Z"
   },
   {
    "duration": 14,
    "start_time": "2024-09-25T00:06:16.844Z"
   },
   {
    "duration": 109,
    "start_time": "2024-09-25T00:06:16.860Z"
   },
   {
    "duration": 265,
    "start_time": "2024-09-25T00:06:16.973Z"
   },
   {
    "duration": 460,
    "start_time": "2024-09-25T00:06:17.242Z"
   },
   {
    "duration": 1037,
    "start_time": "2024-09-25T00:06:17.712Z"
   },
   {
    "duration": 101,
    "start_time": "2024-09-25T00:06:18.751Z"
   },
   {
    "duration": 5,
    "start_time": "2024-09-25T00:06:18.854Z"
   },
   {
    "duration": 35,
    "start_time": "2024-09-25T00:06:18.861Z"
   },
   {
    "duration": 13,
    "start_time": "2024-09-25T00:06:18.913Z"
   },
   {
    "duration": 86,
    "start_time": "2024-09-25T00:06:18.928Z"
   },
   {
    "duration": 10,
    "start_time": "2024-09-25T00:16:01.943Z"
   },
   {
    "duration": 10,
    "start_time": "2024-09-25T00:16:19.648Z"
   },
   {
    "duration": 6,
    "start_time": "2024-09-25T00:16:40.075Z"
   },
   {
    "duration": 7,
    "start_time": "2024-09-25T00:33:22.454Z"
   },
   {
    "duration": 4,
    "start_time": "2024-09-25T00:33:43.617Z"
   },
   {
    "duration": 5,
    "start_time": "2024-09-25T00:33:57.458Z"
   },
   {
    "duration": 426,
    "start_time": "2024-09-25T00:34:15.572Z"
   },
   {
    "duration": 919,
    "start_time": "2024-09-25T00:34:16.001Z"
   },
   {
    "duration": 12,
    "start_time": "2024-09-25T00:34:16.922Z"
   },
   {
    "duration": 9,
    "start_time": "2024-09-25T00:34:16.935Z"
   },
   {
    "duration": 7,
    "start_time": "2024-09-25T00:34:16.947Z"
   },
   {
    "duration": 8,
    "start_time": "2024-09-25T00:34:16.956Z"
   },
   {
    "duration": 6,
    "start_time": "2024-09-25T00:34:16.967Z"
   },
   {
    "duration": 128,
    "start_time": "2024-09-25T00:34:16.975Z"
   },
   {
    "duration": 15,
    "start_time": "2024-09-25T00:34:17.105Z"
   },
   {
    "duration": 116,
    "start_time": "2024-09-25T00:34:17.121Z"
   },
   {
    "duration": 109,
    "start_time": "2024-09-25T00:34:17.238Z"
   },
   {
    "duration": 28,
    "start_time": "2024-09-25T00:34:17.349Z"
   },
   {
    "duration": 11,
    "start_time": "2024-09-25T00:34:17.378Z"
   },
   {
    "duration": 20,
    "start_time": "2024-09-25T00:34:17.393Z"
   },
   {
    "duration": 18,
    "start_time": "2024-09-25T00:34:17.414Z"
   },
   {
    "duration": 16,
    "start_time": "2024-09-25T00:34:17.434Z"
   },
   {
    "duration": 3,
    "start_time": "2024-09-25T00:34:17.452Z"
   },
   {
    "duration": 4,
    "start_time": "2024-09-25T00:34:17.456Z"
   },
   {
    "duration": 4,
    "start_time": "2024-09-25T00:34:17.462Z"
   },
   {
    "duration": 3,
    "start_time": "2024-09-25T00:34:17.467Z"
   },
   {
    "duration": 803,
    "start_time": "2024-09-25T00:34:17.472Z"
   },
   {
    "duration": 110,
    "start_time": "2024-09-25T00:34:18.276Z"
   },
   {
    "duration": 6,
    "start_time": "2024-09-25T00:34:18.388Z"
   },
   {
    "duration": 30,
    "start_time": "2024-09-25T00:34:18.396Z"
   },
   {
    "duration": 9,
    "start_time": "2024-09-25T00:34:18.428Z"
   },
   {
    "duration": 6,
    "start_time": "2024-09-25T00:34:18.438Z"
   },
   {
    "duration": 5,
    "start_time": "2024-09-25T00:34:18.445Z"
   },
   {
    "duration": 7,
    "start_time": "2024-09-25T00:34:18.451Z"
   },
   {
    "duration": 57,
    "start_time": "2024-09-25T00:34:18.459Z"
   },
   {
    "duration": 14,
    "start_time": "2024-09-25T00:34:18.519Z"
   },
   {
    "duration": 30,
    "start_time": "2024-09-25T00:34:18.535Z"
   },
   {
    "duration": 11,
    "start_time": "2024-09-25T00:34:18.567Z"
   },
   {
    "duration": 3,
    "start_time": "2024-09-25T00:34:18.580Z"
   },
   {
    "duration": 507,
    "start_time": "2024-09-25T00:34:18.585Z"
   },
   {
    "duration": 4,
    "start_time": "2024-09-25T00:34:19.093Z"
   },
   {
    "duration": 15,
    "start_time": "2024-09-25T00:34:19.099Z"
   },
   {
    "duration": 345,
    "start_time": "2024-09-25T00:34:19.115Z"
   },
   {
    "duration": 235,
    "start_time": "2024-09-25T00:34:19.462Z"
   },
   {
    "duration": 356,
    "start_time": "2024-09-25T00:34:19.699Z"
   },
   {
    "duration": 219,
    "start_time": "2024-09-25T00:34:20.058Z"
   },
   {
    "duration": 14,
    "start_time": "2024-09-25T00:34:20.283Z"
   },
   {
    "duration": 263,
    "start_time": "2024-09-25T00:34:20.299Z"
   },
   {
    "duration": 133,
    "start_time": "2024-09-25T00:34:20.565Z"
   },
   {
    "duration": 723,
    "start_time": "2024-09-25T00:34:20.700Z"
   },
   {
    "duration": 112,
    "start_time": "2024-09-25T00:34:21.425Z"
   },
   {
    "duration": 388,
    "start_time": "2024-09-25T00:34:21.539Z"
   },
   {
    "duration": 316,
    "start_time": "2024-09-25T00:34:21.929Z"
   },
   {
    "duration": 8,
    "start_time": "2024-09-25T00:34:22.247Z"
   },
   {
    "duration": 690,
    "start_time": "2024-09-25T00:34:22.257Z"
   },
   {
    "duration": 14,
    "start_time": "2024-09-25T00:34:22.954Z"
   },
   {
    "duration": 118,
    "start_time": "2024-09-25T00:34:22.970Z"
   },
   {
    "duration": 289,
    "start_time": "2024-09-25T00:34:23.090Z"
   },
   {
    "duration": 414,
    "start_time": "2024-09-25T00:34:23.381Z"
   },
   {
    "duration": 1151,
    "start_time": "2024-09-25T00:34:23.798Z"
   },
   {
    "duration": 120,
    "start_time": "2024-09-25T00:34:24.951Z"
   },
   {
    "duration": 4,
    "start_time": "2024-09-25T00:34:25.074Z"
   },
   {
    "duration": 50,
    "start_time": "2024-09-25T00:34:25.080Z"
   },
   {
    "duration": 16,
    "start_time": "2024-09-25T00:34:25.132Z"
   },
   {
    "duration": 8,
    "start_time": "2024-09-25T00:34:25.150Z"
   },
   {
    "duration": 4,
    "start_time": "2024-09-25T00:34:25.160Z"
   },
   {
    "duration": 0,
    "start_time": "2024-09-25T00:34:25.166Z"
   },
   {
    "duration": 5,
    "start_time": "2024-09-25T00:34:33.203Z"
   }
  ],
  "colab": {
   "provenance": []
  },
  "kernelspec": {
   "display_name": "base",
   "language": "python",
   "name": "python3"
  },
  "language_info": {
   "codemirror_mode": {
    "name": "ipython",
    "version": 3
   },
   "file_extension": ".py",
   "mimetype": "text/x-python",
   "name": "python",
   "nbconvert_exporter": "python",
   "pygments_lexer": "ipython3",
   "version": "3.12.4"
  },
  "toc": {
   "base_numbering": 1,
   "nav_menu": {},
   "number_sections": true,
   "sideBar": true,
   "skip_h1_title": true,
   "title_cell": "Table of Contents",
   "title_sidebar": "Contents",
   "toc_cell": false,
   "toc_position": {},
   "toc_section_display": true,
   "toc_window_display": false
  }
 },
 "nbformat": 4,
 "nbformat_minor": 5
}
